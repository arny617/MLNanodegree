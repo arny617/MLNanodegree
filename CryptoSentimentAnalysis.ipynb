{
  "nbformat": 4,
  "nbformat_minor": 0,
  "metadata": {
    "colab": {
      "name": "CryptoSentimentAnalysis.ipynb",
      "provenance": [],
      "collapsed_sections": [],
      "authorship_tag": "ABX9TyMlBW4QtvvzuVlo7anzAVei",
      "include_colab_link": true
    },
    "kernelspec": {
      "name": "python3",
      "display_name": "Python 3"
    },
    "accelerator": "GPU"
  },
  "cells": [
    {
      "cell_type": "markdown",
      "metadata": {
        "id": "view-in-github",
        "colab_type": "text"
      },
      "source": [
        "<a href=\"https://colab.research.google.com/github/arny617/MLNanodegree/blob/master/CryptoSentimentAnalysis.ipynb\" target=\"_parent\"><img src=\"https://colab.research.google.com/assets/colab-badge.svg\" alt=\"Open In Colab\"/></a>"
      ]
    },
    {
      "cell_type": "code",
      "metadata": {
        "id": "rk5NkChUMiJh"
      },
      "source": [
        "%reload_ext autoreload\n",
        "%autoreload 2\n",
        "%matplotlib inline"
      ],
      "execution_count": 1,
      "outputs": []
    },
    {
      "cell_type": "code",
      "metadata": {
        "id": "xp_9pkoKMuM4"
      },
      "source": [
        "from fastai import *\n",
        "from fastai.text import *\n",
        "from scipy.spatial.distance import cosine as dist"
      ],
      "execution_count": 3,
      "outputs": []
    },
    {
      "cell_type": "code",
      "metadata": {
        "id": "UjN6GX52Mllm"
      },
      "source": [
        "torch.cuda.set_device(0)"
      ],
      "execution_count": 4,
      "outputs": []
    },
    {
      "cell_type": "code",
      "metadata": {
        "id": "ixYl2Kp4L-_i"
      },
      "source": [
        "import pandas as pd\n",
        "import numpy as np\n",
        "import OpenBlender\n",
        "import json"
      ],
      "execution_count": 7,
      "outputs": []
    },
    {
      "cell_type": "code",
      "metadata": {
        "colab": {
          "base_uri": "https://localhost:8080/"
        },
        "id": "HqDzdKoHM64Z",
        "outputId": "0313b8b2-7345-4ace-cae2-3ff01f230fc9"
      },
      "source": [
        "from statsmodels.graphics.tsaplots import plot_acf,plot_pacf\n",
        "import matplotlib.pyplot as plt"
      ],
      "execution_count": 8,
      "outputs": [
        {
          "output_type": "stream",
          "text": [
            "/usr/local/lib/python3.6/dist-packages/statsmodels/tools/_testing.py:19: FutureWarning: pandas.util.testing is deprecated. Use the functions in the public API at pandas.testing instead.\n",
            "  import pandas.util.testing as tm\n"
          ],
          "name": "stderr"
        }
      ]
    },
    {
      "cell_type": "code",
      "metadata": {
        "colab": {
          "base_uri": "https://localhost:8080/"
        },
        "id": "rAakLkuGMUmb",
        "outputId": "42bcb843-02eb-4a86-e18a-5d02d2c203c5"
      },
      "source": [
        "#!pip install OpenBlender"
      ],
      "execution_count": 6,
      "outputs": [
        {
          "output_type": "stream",
          "text": [
            "Collecting OpenBlender\n",
            "  Downloading https://files.pythonhosted.org/packages/88/97/d3cabd86e8dccd6ffcff31ce8a62431bb715884cea0c6199febcdfdcd7e2/OpenBlender-2.6.tar.gz\n",
            "Requirement already satisfied: numpy in /usr/local/lib/python3.6/dist-packages (from OpenBlender) (1.18.5)\n",
            "Requirement already satisfied: pandas in /usr/local/lib/python3.6/dist-packages (from OpenBlender) (1.1.4)\n",
            "Collecting datetime\n",
            "\u001b[?25l  Downloading https://files.pythonhosted.org/packages/73/22/a5297f3a1f92468cc737f8ce7ba6e5f245fcfafeae810ba37bd1039ea01c/DateTime-4.3-py2.py3-none-any.whl (60kB)\n",
            "\u001b[K     |████████████████████████████████| 61kB 4.9MB/s \n",
            "\u001b[?25hRequirement already satisfied: requests in /usr/local/lib/python3.6/dist-packages (from OpenBlender) (2.23.0)\n",
            "Requirement already satisfied: pytz>=2017.2 in /usr/local/lib/python3.6/dist-packages (from pandas->OpenBlender) (2018.9)\n",
            "Requirement already satisfied: python-dateutil>=2.7.3 in /usr/local/lib/python3.6/dist-packages (from pandas->OpenBlender) (2.8.1)\n",
            "Collecting zope.interface\n",
            "\u001b[?25l  Downloading https://files.pythonhosted.org/packages/82/b0/da8afd9b3bd50c7665ecdac062f182982af1173c9081f9af7261091c5588/zope.interface-5.2.0-cp36-cp36m-manylinux2010_x86_64.whl (236kB)\n",
            "\u001b[K     |████████████████████████████████| 245kB 10.2MB/s \n",
            "\u001b[?25hRequirement already satisfied: idna<3,>=2.5 in /usr/local/lib/python3.6/dist-packages (from requests->OpenBlender) (2.10)\n",
            "Requirement already satisfied: chardet<4,>=3.0.2 in /usr/local/lib/python3.6/dist-packages (from requests->OpenBlender) (3.0.4)\n",
            "Requirement already satisfied: certifi>=2017.4.17 in /usr/local/lib/python3.6/dist-packages (from requests->OpenBlender) (2020.11.8)\n",
            "Requirement already satisfied: urllib3!=1.25.0,!=1.25.1,<1.26,>=1.21.1 in /usr/local/lib/python3.6/dist-packages (from requests->OpenBlender) (1.24.3)\n",
            "Requirement already satisfied: six>=1.5 in /usr/local/lib/python3.6/dist-packages (from python-dateutil>=2.7.3->pandas->OpenBlender) (1.15.0)\n",
            "Requirement already satisfied: setuptools in /usr/local/lib/python3.6/dist-packages (from zope.interface->datetime->OpenBlender) (50.3.2)\n",
            "Building wheels for collected packages: OpenBlender\n",
            "  Building wheel for OpenBlender (setup.py) ... \u001b[?25l\u001b[?25hdone\n",
            "  Created wheel for OpenBlender: filename=OpenBlender-2.6-cp36-none-any.whl size=6607 sha256=d22df22c6941f867c3d8961ef2e53298e027af780d849bcf8a3c31d7039a7cd5\n",
            "  Stored in directory: /root/.cache/pip/wheels/fd/29/7b/377afef16a792ed174a9ade5a6707ef87843e214476d0c8205\n",
            "Successfully built OpenBlender\n",
            "Installing collected packages: zope.interface, datetime, OpenBlender\n",
            "Successfully installed OpenBlender-2.6 datetime-4.3 zope.interface-5.2.0\n"
          ],
          "name": "stdout"
        }
      ]
    },
    {
      "cell_type": "code",
      "metadata": {
        "id": "aeP46a7cLqLZ"
      },
      "source": [
        "api_token = '#####'"
      ],
      "execution_count": 9,
      "outputs": []
    },
    {
      "cell_type": "code",
      "metadata": {
        "colab": {
          "base_uri": "https://localhost:8080/"
        },
        "id": "yRVyQnY-MGHa",
        "outputId": "8a4dc890-ebaf-43d1-c8ff-6421f872858f"
      },
      "source": [
        "action = 'API_getObservationsFromDataset'# ANCHOR: 'Bitcoin vs USD'\n",
        "  \n",
        "parameters = { \n",
        "    'token' : api_token,\n",
        "    'id_dataset' : '5d4c3af79516290b01c83f51',\n",
        "    'date_filter':{\"start_date\" : \"2020-01-01\",\n",
        "                   \"end_date\" : \"2020-08-29\"} }\n",
        "df = pd.read_json(json.dumps(OpenBlender.call(action, parameters)['sample']), convert_dates=False, convert_axes=False).sort_values('timestamp', ascending=False)\n",
        "df.reset_index(drop=True, inplace=True)\n",
        "df['date'] = [OpenBlender.unixToDate(ts, timezone = 'GMT') for ts in df.timestamp]\n",
        "df = df.drop('timestamp', axis = 1)"
      ],
      "execution_count": 76,
      "outputs": [
        {
          "output_type": "stream",
          "text": [
            "Task ID: '5fc5f5c10895fafb4a9d8d4b'.\n",
            "Total estimated consumption: 5832.61 processing units.\n",
            "Task confirmed. Starting download..\n",
            "100.0 % completed.\n"
          ],
          "name": "stdout"
        }
      ]
    },
    {
      "cell_type": "code",
      "metadata": {
        "colab": {
          "base_uri": "https://localhost:8080/",
          "height": 284
        },
        "id": "VGhqOKWaMf9z",
        "outputId": "fd0455ba-da28-4f9e-f795-35bcd2590880"
      },
      "source": [
        "df.describe()"
      ],
      "execution_count": 77,
      "outputs": [
        {
          "output_type": "execute_result",
          "data": {
            "text/html": [
              "<div>\n",
              "<style scoped>\n",
              "    .dataframe tbody tr th:only-of-type {\n",
              "        vertical-align: middle;\n",
              "    }\n",
              "\n",
              "    .dataframe tbody tr th {\n",
              "        vertical-align: top;\n",
              "    }\n",
              "\n",
              "    .dataframe thead th {\n",
              "        text-align: right;\n",
              "    }\n",
              "</style>\n",
              "<table border=\"1\" class=\"dataframe\">\n",
              "  <thead>\n",
              "    <tr style=\"text-align: right;\">\n",
              "      <th></th>\n",
              "      <th>price</th>\n",
              "      <th>high</th>\n",
              "      <th>low</th>\n",
              "      <th>open</th>\n",
              "    </tr>\n",
              "  </thead>\n",
              "  <tbody>\n",
              "    <tr>\n",
              "      <th>count</th>\n",
              "      <td>236.000000</td>\n",
              "      <td>236.000000</td>\n",
              "      <td>236.000000</td>\n",
              "      <td>236.000000</td>\n",
              "    </tr>\n",
              "    <tr>\n",
              "      <th>mean</th>\n",
              "      <td>8924.639831</td>\n",
              "      <td>9102.731780</td>\n",
              "      <td>8713.850000</td>\n",
              "      <td>8915.802966</td>\n",
              "    </tr>\n",
              "    <tr>\n",
              "      <th>std</th>\n",
              "      <td>1527.913626</td>\n",
              "      <td>1487.242123</td>\n",
              "      <td>1533.155692</td>\n",
              "      <td>1495.375999</td>\n",
              "    </tr>\n",
              "    <tr>\n",
              "      <th>min</th>\n",
              "      <td>4927.000000</td>\n",
              "      <td>5381.900000</td>\n",
              "      <td>4468.000000</td>\n",
              "      <td>5339.000000</td>\n",
              "    </tr>\n",
              "    <tr>\n",
              "      <th>25%</th>\n",
              "      <td>7969.025000</td>\n",
              "      <td>8140.225000</td>\n",
              "      <td>7694.625000</td>\n",
              "      <td>7892.775000</td>\n",
              "    </tr>\n",
              "    <tr>\n",
              "      <th>50%</th>\n",
              "      <td>9184.150000</td>\n",
              "      <td>9299.500000</td>\n",
              "      <td>9056.100000</td>\n",
              "      <td>9176.900000</td>\n",
              "    </tr>\n",
              "    <tr>\n",
              "      <th>75%</th>\n",
              "      <td>9678.950000</td>\n",
              "      <td>9859.700000</td>\n",
              "      <td>9464.350000</td>\n",
              "      <td>9672.500000</td>\n",
              "    </tr>\n",
              "    <tr>\n",
              "      <th>max</th>\n",
              "      <td>12300.000000</td>\n",
              "      <td>12415.000000</td>\n",
              "      <td>11927.200000</td>\n",
              "      <td>12300.000000</td>\n",
              "    </tr>\n",
              "  </tbody>\n",
              "</table>\n",
              "</div>"
            ],
            "text/plain": [
              "              price          high           low          open\n",
              "count    236.000000    236.000000    236.000000    236.000000\n",
              "mean    8924.639831   9102.731780   8713.850000   8915.802966\n",
              "std     1527.913626   1487.242123   1533.155692   1495.375999\n",
              "min     4927.000000   5381.900000   4468.000000   5339.000000\n",
              "25%     7969.025000   8140.225000   7694.625000   7892.775000\n",
              "50%     9184.150000   9299.500000   9056.100000   9176.900000\n",
              "75%     9678.950000   9859.700000   9464.350000   9672.500000\n",
              "max    12300.000000  12415.000000  11927.200000  12300.000000"
            ]
          },
          "metadata": {
            "tags": []
          },
          "execution_count": 77
        }
      ]
    },
    {
      "cell_type": "code",
      "metadata": {
        "id": "nX5Mg1fHMpXK"
      },
      "source": [
        "df['log_ret'] = np.log(df['price']) - np.log(df['open'])"
      ],
      "execution_count": 78,
      "outputs": []
    },
    {
      "cell_type": "code",
      "metadata": {
        "id": "9qftCdqHNr3V"
      },
      "source": [
        "df.sort_index(inplace=True,ascending=False)"
      ],
      "execution_count": 79,
      "outputs": []
    },
    {
      "cell_type": "code",
      "metadata": {
        "colab": {
          "base_uri": "https://localhost:8080/",
          "height": 195
        },
        "id": "JW_JZ-28OF20",
        "outputId": "492e6bbe-be1a-4b36-c3bb-2dbede247d4f"
      },
      "source": [
        "df.tail()"
      ],
      "execution_count": 38,
      "outputs": [
        {
          "output_type": "execute_result",
          "data": {
            "text/html": [
              "<div>\n",
              "<style scoped>\n",
              "    .dataframe tbody tr th:only-of-type {\n",
              "        vertical-align: middle;\n",
              "    }\n",
              "\n",
              "    .dataframe tbody tr th {\n",
              "        vertical-align: top;\n",
              "    }\n",
              "\n",
              "    .dataframe thead th {\n",
              "        text-align: right;\n",
              "    }\n",
              "</style>\n",
              "<table border=\"1\" class=\"dataframe\">\n",
              "  <thead>\n",
              "    <tr style=\"text-align: right;\">\n",
              "      <th></th>\n",
              "      <th>volume</th>\n",
              "      <th>price</th>\n",
              "      <th>high</th>\n",
              "      <th>low</th>\n",
              "      <th>open</th>\n",
              "      <th>change</th>\n",
              "      <th>date</th>\n",
              "      <th>log_ret</th>\n",
              "    </tr>\n",
              "  </thead>\n",
              "  <tbody>\n",
              "    <tr>\n",
              "      <th>4</th>\n",
              "      <td>6.62K</td>\n",
              "      <td>18660.0</td>\n",
              "      <td>18944.5</td>\n",
              "      <td>18521.0</td>\n",
              "      <td>18669.0</td>\n",
              "      <td>-0.05%</td>\n",
              "      <td>21-11-2020 17:00:00</td>\n",
              "      <td>-0.000482</td>\n",
              "    </tr>\n",
              "    <tr>\n",
              "      <th>3</th>\n",
              "      <td>9.10K</td>\n",
              "      <td>18399.0</td>\n",
              "      <td>18668.0</td>\n",
              "      <td>18122.0</td>\n",
              "      <td>18660.0</td>\n",
              "      <td>-1.40%</td>\n",
              "      <td>22-11-2020 17:00:00</td>\n",
              "      <td>-0.014086</td>\n",
              "    </tr>\n",
              "    <tr>\n",
              "      <th>2</th>\n",
              "      <td>8.76K</td>\n",
              "      <td>18373.0</td>\n",
              "      <td>18655.0</td>\n",
              "      <td>18158.0</td>\n",
              "      <td>18399.0</td>\n",
              "      <td>-0.14%</td>\n",
              "      <td>23-11-2020 17:00:00</td>\n",
              "      <td>-0.001414</td>\n",
              "    </tr>\n",
              "    <tr>\n",
              "      <th>1</th>\n",
              "      <td>13.48K</td>\n",
              "      <td>18730.0</td>\n",
              "      <td>19303.0</td>\n",
              "      <td>18730.0</td>\n",
              "      <td>19134.8</td>\n",
              "      <td>-2.12%</td>\n",
              "      <td>25-11-2020 17:00:00</td>\n",
              "      <td>-0.021382</td>\n",
              "    </tr>\n",
              "    <tr>\n",
              "      <th>0</th>\n",
              "      <td>34.34K</td>\n",
              "      <td>17219.0</td>\n",
              "      <td>18824.0</td>\n",
              "      <td>16592.0</td>\n",
              "      <td>18727.0</td>\n",
              "      <td>-8.07%</td>\n",
              "      <td>26-11-2020 17:00:00</td>\n",
              "      <td>-0.083953</td>\n",
              "    </tr>\n",
              "  </tbody>\n",
              "</table>\n",
              "</div>"
            ],
            "text/plain": [
              "   volume    price     high  ...  change                 date   log_ret\n",
              "4   6.62K  18660.0  18944.5  ...  -0.05%  21-11-2020 17:00:00 -0.000482\n",
              "3   9.10K  18399.0  18668.0  ...  -1.40%  22-11-2020 17:00:00 -0.014086\n",
              "2   8.76K  18373.0  18655.0  ...  -0.14%  23-11-2020 17:00:00 -0.001414\n",
              "1  13.48K  18730.0  19303.0  ...  -2.12%  25-11-2020 17:00:00 -0.021382\n",
              "0  34.34K  17219.0  18824.0  ...  -8.07%  26-11-2020 17:00:00 -0.083953\n",
              "\n",
              "[5 rows x 8 columns]"
            ]
          },
          "metadata": {
            "tags": []
          },
          "execution_count": 38
        }
      ]
    },
    {
      "cell_type": "code",
      "metadata": {
        "id": "lGJjybu7MteZ"
      },
      "source": [
        ""
      ],
      "execution_count": 38,
      "outputs": []
    },
    {
      "cell_type": "code",
      "metadata": {
        "colab": {
          "base_uri": "https://localhost:8080/",
          "height": 195
        },
        "id": "_Wmr0ho9OVvL",
        "outputId": "80bf254b-b43e-466a-a8c0-af23e4a6a004"
      },
      "source": [
        "df.tail()"
      ],
      "execution_count": 28,
      "outputs": [
        {
          "output_type": "execute_result",
          "data": {
            "text/html": [
              "<div>\n",
              "<style scoped>\n",
              "    .dataframe tbody tr th:only-of-type {\n",
              "        vertical-align: middle;\n",
              "    }\n",
              "\n",
              "    .dataframe tbody tr th {\n",
              "        vertical-align: top;\n",
              "    }\n",
              "\n",
              "    .dataframe thead th {\n",
              "        text-align: right;\n",
              "    }\n",
              "</style>\n",
              "<table border=\"1\" class=\"dataframe\">\n",
              "  <thead>\n",
              "    <tr style=\"text-align: right;\">\n",
              "      <th></th>\n",
              "      <th>volume</th>\n",
              "      <th>price</th>\n",
              "      <th>high</th>\n",
              "      <th>low</th>\n",
              "      <th>open</th>\n",
              "      <th>change</th>\n",
              "      <th>date</th>\n",
              "      <th>log_ret</th>\n",
              "    </tr>\n",
              "  </thead>\n",
              "  <tbody>\n",
              "    <tr>\n",
              "      <th>153</th>\n",
              "      <td>3.69K</td>\n",
              "      <td>9452.1</td>\n",
              "      <td>9707.2</td>\n",
              "      <td>9402.6</td>\n",
              "      <td>9706.4</td>\n",
              "      <td>-2.62%</td>\n",
              "      <td>31-05-2020 17:00:00</td>\n",
              "      <td>-0.026549</td>\n",
              "    </tr>\n",
              "    <tr>\n",
              "      <th>94</th>\n",
              "      <td>5.83K</td>\n",
              "      <td>11350.0</td>\n",
              "      <td>11378.0</td>\n",
              "      <td>11038.0</td>\n",
              "      <td>11123.0</td>\n",
              "      <td>2.04%</td>\n",
              "      <td>31-07-2020 17:00:00</td>\n",
              "      <td>0.020203</td>\n",
              "    </tr>\n",
              "    <tr>\n",
              "      <th>67</th>\n",
              "      <td>2.24K</td>\n",
              "      <td>11671.0</td>\n",
              "      <td>11734.0</td>\n",
              "      <td>11639.1</td>\n",
              "      <td>11729.9</td>\n",
              "      <td>-0.50%</td>\n",
              "      <td>31-08-2020 17:00:00</td>\n",
              "      <td>-0.005034</td>\n",
              "    </tr>\n",
              "    <tr>\n",
              "      <th>22</th>\n",
              "      <td>8.95K</td>\n",
              "      <td>13788.0</td>\n",
              "      <td>13958.0</td>\n",
              "      <td>13499.0</td>\n",
              "      <td>13568.0</td>\n",
              "      <td>1.62%</td>\n",
              "      <td>31-10-2020 17:00:00</td>\n",
              "      <td>0.016085</td>\n",
              "    </tr>\n",
              "    <tr>\n",
              "      <th>306</th>\n",
              "      <td>2.99K</td>\n",
              "      <td>7208.3</td>\n",
              "      <td>7333.0</td>\n",
              "      <td>7161.3</td>\n",
              "      <td>7261.0</td>\n",
              "      <td>-0.72%</td>\n",
              "      <td>31-12-2019 17:00:00</td>\n",
              "      <td>-0.007284</td>\n",
              "    </tr>\n",
              "  </tbody>\n",
              "</table>\n",
              "</div>"
            ],
            "text/plain": [
              "    volume    price     high  ...  change                 date   log_ret\n",
              "153  3.69K   9452.1   9707.2  ...  -2.62%  31-05-2020 17:00:00 -0.026549\n",
              "94   5.83K  11350.0  11378.0  ...   2.04%  31-07-2020 17:00:00  0.020203\n",
              "67   2.24K  11671.0  11734.0  ...  -0.50%  31-08-2020 17:00:00 -0.005034\n",
              "22   8.95K  13788.0  13958.0  ...   1.62%  31-10-2020 17:00:00  0.016085\n",
              "306  2.99K   7208.3   7333.0  ...  -0.72%  31-12-2019 17:00:00 -0.007284\n",
              "\n",
              "[5 rows x 8 columns]"
            ]
          },
          "metadata": {
            "tags": []
          },
          "execution_count": 28
        }
      ]
    },
    {
      "cell_type": "code",
      "metadata": {
        "colab": {
          "base_uri": "https://localhost:8080/",
          "height": 545
        },
        "id": "0KHpmrjnM0IV",
        "outputId": "3791ec52-8fb3-45f3-b9d0-69e817ee8815"
      },
      "source": [
        "plot_acf(df['log_ret'])"
      ],
      "execution_count": 20,
      "outputs": [
        {
          "output_type": "execute_result",
          "data": {
            "image/png": "[encoded data removed]",
            "text/plain": [
              "<Figure size 432x288 with 1 Axes>"
            ]
          },
          "metadata": {
            "tags": []
          },
          "execution_count": 20
        },
        {
          "output_type": "display_data",
          "data": {
            "image/png": "[encoded data removed]",
            "text/plain": [
              "<Figure size 432x288 with 1 Axes>"
            ]
          },
          "metadata": {
            "tags": [],
            "needs_background": "light"
          }
        }
      ]
    },
    {
      "cell_type": "code",
      "metadata": {
        "colab": {
          "base_uri": "https://localhost:8080/",
          "height": 545
        },
        "id": "uIFIC3zjNLaQ",
        "outputId": "23f075f2-0df9-4f3c-b724-3aff860480ad"
      },
      "source": [
        "plot_pacf(df['log_ret'])"
      ],
      "execution_count": 19,
      "outputs": [
        {
          "output_type": "execute_result",
          "data": {
            "image/png": "[encoded data removed]",
            "text/plain": [
              "<Figure size 432x288 with 1 Axes>"
            ]
          },
          "metadata": {
            "tags": []
          },
          "execution_count": 19
        },
        {
          "output_type": "display_data",
          "data": {
            "image/png": "[encoded data removed]",
            "text/plain": [
              "<Figure size 432x288 with 1 Axes>"
            ]
          },
          "metadata": {
            "tags": [],
            "needs_background": "light"
          }
        }
      ]
    },
    {
      "cell_type": "code",
      "metadata": {
        "colab": {
          "base_uri": "https://localhost:8080/",
          "height": 282
        },
        "id": "Ygkra799NTKW",
        "outputId": "e15f3fec-1a9c-48cb-f6fe-ec755406daa5"
      },
      "source": [
        "plt.plot(df['log_ret'])"
      ],
      "execution_count": 39,
      "outputs": [
        {
          "output_type": "execute_result",
          "data": {
            "text/plain": [
              "[<matplotlib.lines.Line2D at 0x7f1eb4ada9e8>]"
            ]
          },
          "metadata": {
            "tags": []
          },
          "execution_count": 39
        },
        {
          "output_type": "display_data",
          "data": {
            "image/png": "[encoded data removed]",
            "text/plain": [
              "<Figure size 432x288 with 1 Axes>"
            ]
          },
          "metadata": {
            "tags": [],
            "needs_background": "light"
          }
        }
      ]
    },
    {
      "cell_type": "code",
      "metadata": {
        "colab": {
          "base_uri": "https://localhost:8080/",
          "height": 282
        },
        "id": "P2_5SSWoN1mM",
        "outputId": "67306b52-c1d7-4890-bcd0-d82de4cc43dc"
      },
      "source": [
        "plt.plot(df['log_ret']**2)"
      ],
      "execution_count": 40,
      "outputs": [
        {
          "output_type": "execute_result",
          "data": {
            "text/plain": [
              "[<matplotlib.lines.Line2D at 0x7f1eb4ae2438>]"
            ]
          },
          "metadata": {
            "tags": []
          },
          "execution_count": 40
        },
        {
          "output_type": "display_data",
          "data": {
            "image/png": "[encoded data removed]",
            "text/plain": [
              "<Figure size 432x288 with 1 Axes>"
            ]
          },
          "metadata": {
            "tags": [],
            "needs_background": "light"
          }
        }
      ]
    },
    {
      "cell_type": "code",
      "metadata": {
        "colab": {
          "base_uri": "https://localhost:8080/"
        },
        "id": "4EE7SBKDN-V4",
        "outputId": "3f1315a8-0d0b-4b4f-c5fc-e66755b1dc85"
      },
      "source": [
        "df['price']"
      ],
      "execution_count": 23,
      "outputs": [
        {
          "output_type": "execute_result",
          "data": {
            "text/plain": [
              "334     7450.1\n",
              "333     7350.3\n",
              "332     7336.0\n",
              "331     7238.2\n",
              "330     7440.0\n",
              "        ...   \n",
              "172     8811.4\n",
              "141     9468.3\n",
              "112     9315.8\n",
              "84     11591.0\n",
              "40     11560.0\n",
              "Name: price, Length: 335, dtype: float64"
            ]
          },
          "metadata": {
            "tags": []
          },
          "execution_count": 23
        }
      ]
    },
    {
      "cell_type": "code",
      "metadata": {
        "colab": {
          "base_uri": "https://localhost:8080/",
          "height": 282
        },
        "id": "5sJ-mEsmN62X",
        "outputId": "d84edf7d-e344-4908-bfa6-3489ac3e4ff0"
      },
      "source": [
        "plt.plot(df['price'])"
      ],
      "execution_count": 60,
      "outputs": [
        {
          "output_type": "execute_result",
          "data": {
            "text/plain": [
              "[<matplotlib.lines.Line2D at 0x7f1eb47e2be0>]"
            ]
          },
          "metadata": {
            "tags": []
          },
          "execution_count": 60
        },
        {
          "output_type": "display_data",
          "data": {
            "image/png": "[encoded data removed]",
            "text/plain": [
              "<Figure size 432x288 with 1 Axes>"
            ]
          },
          "metadata": {
            "tags": [],
            "needs_background": "light"
          }
        }
      ]
    },
    {
      "cell_type": "code",
      "metadata": {
        "colab": {
          "base_uri": "https://localhost:8080/",
          "height": 282
        },
        "id": "VAYy3428OBe3",
        "outputId": "8f722487-fc5d-4f7d-aec2-bdb8c7262ccc"
      },
      "source": [
        "df['log_ret'].hist()"
      ],
      "execution_count": 42,
      "outputs": [
        {
          "output_type": "execute_result",
          "data": {
            "text/plain": [
              "<matplotlib.axes._subplots.AxesSubplot at 0x7f1eb4984fd0>"
            ]
          },
          "metadata": {
            "tags": []
          },
          "execution_count": 42
        },
        {
          "output_type": "display_data",
          "data": {
            "image/png": "[encoded data removed]",
            "text/plain": [
              "<Figure size 432x288 with 1 Axes>"
            ]
          },
          "metadata": {
            "tags": [],
            "needs_background": "light"
          }
        }
      ]
    },
    {
      "cell_type": "code",
      "metadata": {
        "id": "rDmYZN3eOKKG"
      },
      "source": [
        "df['target'] = [1 if log_diff > 0 else 0 for log_diff in df['log_ret']]"
      ],
      "execution_count": 80,
      "outputs": []
    },
    {
      "cell_type": "code",
      "metadata": {
        "colab": {
          "base_uri": "https://localhost:8080/",
          "height": 195
        },
        "id": "4sgQpcR1OLwt",
        "outputId": "03455d0e-7515-4cdc-81e9-19a406ad23d9"
      },
      "source": [
        "df.reset_index(inplace=True)\n",
        "df.head()"
      ],
      "execution_count": 81,
      "outputs": [
        {
          "output_type": "execute_result",
          "data": {
            "text/html": [
              "<div>\n",
              "<style scoped>\n",
              "    .dataframe tbody tr th:only-of-type {\n",
              "        vertical-align: middle;\n",
              "    }\n",
              "\n",
              "    .dataframe tbody tr th {\n",
              "        vertical-align: top;\n",
              "    }\n",
              "\n",
              "    .dataframe thead th {\n",
              "        text-align: right;\n",
              "    }\n",
              "</style>\n",
              "<table border=\"1\" class=\"dataframe\">\n",
              "  <thead>\n",
              "    <tr style=\"text-align: right;\">\n",
              "      <th></th>\n",
              "      <th>index</th>\n",
              "      <th>volume</th>\n",
              "      <th>price</th>\n",
              "      <th>high</th>\n",
              "      <th>low</th>\n",
              "      <th>open</th>\n",
              "      <th>change</th>\n",
              "      <th>date</th>\n",
              "      <th>log_ret</th>\n",
              "      <th>target</th>\n",
              "    </tr>\n",
              "  </thead>\n",
              "  <tbody>\n",
              "    <tr>\n",
              "      <th>0</th>\n",
              "      <td>235</td>\n",
              "      <td>2.07K</td>\n",
              "      <td>7212.7</td>\n",
              "      <td>7268.8</td>\n",
              "      <td>7185.4</td>\n",
              "      <td>7208.2</td>\n",
              "      <td>0.06%</td>\n",
              "      <td>01-01-2020 17:00:00</td>\n",
              "      <td>0.000624</td>\n",
              "      <td>1</td>\n",
              "    </tr>\n",
              "    <tr>\n",
              "      <th>1</th>\n",
              "      <td>234</td>\n",
              "      <td>4.85K</td>\n",
              "      <td>6989.4</td>\n",
              "      <td>7225.2</td>\n",
              "      <td>6963.0</td>\n",
              "      <td>7212.7</td>\n",
              "      <td>-3.10%</td>\n",
              "      <td>02-01-2020 17:00:00</td>\n",
              "      <td>-0.031449</td>\n",
              "      <td>0</td>\n",
              "    </tr>\n",
              "    <tr>\n",
              "      <th>2</th>\n",
              "      <td>233</td>\n",
              "      <td>6.68K</td>\n",
              "      <td>7367.5</td>\n",
              "      <td>7437.6</td>\n",
              "      <td>6909.3</td>\n",
              "      <td>6989.4</td>\n",
              "      <td>5.41%</td>\n",
              "      <td>03-01-2020 17:00:00</td>\n",
              "      <td>0.052684</td>\n",
              "      <td>1</td>\n",
              "    </tr>\n",
              "    <tr>\n",
              "      <th>3</th>\n",
              "      <td>232</td>\n",
              "      <td>4.27K</td>\n",
              "      <td>7369.8</td>\n",
              "      <td>7422.0</td>\n",
              "      <td>7297.7</td>\n",
              "      <td>7371.8</td>\n",
              "      <td>0.03%</td>\n",
              "      <td>04-01-2020 17:00:00</td>\n",
              "      <td>-0.000271</td>\n",
              "      <td>0</td>\n",
              "    </tr>\n",
              "    <tr>\n",
              "      <th>4</th>\n",
              "      <td>231</td>\n",
              "      <td>4.45K</td>\n",
              "      <td>7364.6</td>\n",
              "      <td>7509.9</td>\n",
              "      <td>7315.8</td>\n",
              "      <td>7370.3</td>\n",
              "      <td>-0.07%</td>\n",
              "      <td>05-01-2020 17:00:00</td>\n",
              "      <td>-0.000774</td>\n",
              "      <td>0</td>\n",
              "    </tr>\n",
              "  </tbody>\n",
              "</table>\n",
              "</div>"
            ],
            "text/plain": [
              "   index volume   price    high  ...  change                 date   log_ret target\n",
              "0    235  2.07K  7212.7  7268.8  ...   0.06%  01-01-2020 17:00:00  0.000624      1\n",
              "1    234  4.85K  6989.4  7225.2  ...  -3.10%  02-01-2020 17:00:00 -0.031449      0\n",
              "2    233  6.68K  7367.5  7437.6  ...   5.41%  03-01-2020 17:00:00  0.052684      1\n",
              "3    232  4.27K  7369.8  7422.0  ...   0.03%  04-01-2020 17:00:00 -0.000271      0\n",
              "4    231  4.45K  7364.6  7509.9  ...  -0.07%  05-01-2020 17:00:00 -0.000774      0\n",
              "\n",
              "[5 rows x 10 columns]"
            ]
          },
          "metadata": {
            "tags": []
          },
          "execution_count": 81
        }
      ]
    },
    {
      "cell_type": "code",
      "metadata": {
        "colab": {
          "base_uri": "https://localhost:8080/",
          "height": 195
        },
        "id": "z1oIaprlOLzM",
        "outputId": "705df51d-0d73-42f2-cf6a-3892a827baf2"
      },
      "source": [
        "format = '%d-%m-%Y %H:%M:%S'\n",
        "timezone = 'GMT'\n",
        "df['u_timestamp'] = OpenBlender.dateToUnix(df['date'], \n",
        "                                           date_format = format, \n",
        "                                           timezone = timezone)\n",
        "df = df[['date', 'u_timestamp', 'price', 'target']]\n",
        "df.head()"
      ],
      "execution_count": 82,
      "outputs": [
        {
          "output_type": "execute_result",
          "data": {
            "text/html": [
              "<div>\n",
              "<style scoped>\n",
              "    .dataframe tbody tr th:only-of-type {\n",
              "        vertical-align: middle;\n",
              "    }\n",
              "\n",
              "    .dataframe tbody tr th {\n",
              "        vertical-align: top;\n",
              "    }\n",
              "\n",
              "    .dataframe thead th {\n",
              "        text-align: right;\n",
              "    }\n",
              "</style>\n",
              "<table border=\"1\" class=\"dataframe\">\n",
              "  <thead>\n",
              "    <tr style=\"text-align: right;\">\n",
              "      <th></th>\n",
              "      <th>date</th>\n",
              "      <th>u_timestamp</th>\n",
              "      <th>price</th>\n",
              "      <th>target</th>\n",
              "    </tr>\n",
              "  </thead>\n",
              "  <tbody>\n",
              "    <tr>\n",
              "      <th>0</th>\n",
              "      <td>01-01-2020 17:00:00</td>\n",
              "      <td>1.577898e+09</td>\n",
              "      <td>7212.7</td>\n",
              "      <td>1</td>\n",
              "    </tr>\n",
              "    <tr>\n",
              "      <th>1</th>\n",
              "      <td>02-01-2020 17:00:00</td>\n",
              "      <td>1.577984e+09</td>\n",
              "      <td>6989.4</td>\n",
              "      <td>0</td>\n",
              "    </tr>\n",
              "    <tr>\n",
              "      <th>2</th>\n",
              "      <td>03-01-2020 17:00:00</td>\n",
              "      <td>1.578071e+09</td>\n",
              "      <td>7367.5</td>\n",
              "      <td>1</td>\n",
              "    </tr>\n",
              "    <tr>\n",
              "      <th>3</th>\n",
              "      <td>04-01-2020 17:00:00</td>\n",
              "      <td>1.578157e+09</td>\n",
              "      <td>7369.8</td>\n",
              "      <td>0</td>\n",
              "    </tr>\n",
              "    <tr>\n",
              "      <th>4</th>\n",
              "      <td>05-01-2020 17:00:00</td>\n",
              "      <td>1.578244e+09</td>\n",
              "      <td>7364.6</td>\n",
              "      <td>0</td>\n",
              "    </tr>\n",
              "  </tbody>\n",
              "</table>\n",
              "</div>"
            ],
            "text/plain": [
              "                  date   u_timestamp   price  target\n",
              "0  01-01-2020 17:00:00  1.577898e+09  7212.7       1\n",
              "1  02-01-2020 17:00:00  1.577984e+09  6989.4       0\n",
              "2  03-01-2020 17:00:00  1.578071e+09  7367.5       1\n",
              "3  04-01-2020 17:00:00  1.578157e+09  7369.8       0\n",
              "4  05-01-2020 17:00:00  1.578244e+09  7364.6       0"
            ]
          },
          "metadata": {
            "tags": []
          },
          "execution_count": 82
        }
      ]
    },
    {
      "cell_type": "code",
      "metadata": {
        "colab": {
          "base_uri": "https://localhost:8080/"
        },
        "id": "g31v_wTPOL2F",
        "outputId": "549061e6-8c8e-4d7a-b89e-1e8b710156cc"
      },
      "source": [
        "search_keyword = 'bitcoin'\n",
        "df = df.sort_values('u_timestamp').reset_index(drop = True)\n",
        "print('From : ' + OpenBlender.unixToDate(min(df.u_timestamp)))\n",
        "print('Until: ' + OpenBlender.unixToDate(max(df.u_timestamp)))\n",
        "OpenBlender.searchTimeBlends(api_token,df.u_timestamp,search_keyword)"
      ],
      "execution_count": 83,
      "outputs": [
        {
          "output_type": "stream",
          "text": [
            "From : 01-01-2020 17:00:00\n",
            "Until: 28-08-2020 17:00:00\n"
          ],
          "name": "stdout"
        },
        {
          "output_type": "execute_result",
          "data": {
            "text/plain": [
              "[{'description': 'Daily prices and volumes for the digital currency BitcoinsCash.',\n",
              "  'features': ['close',\n",
              "   'high',\n",
              "   'low',\n",
              "   'market_cap',\n",
              "   'open',\n",
              "   'timestamp',\n",
              "   'volume'],\n",
              "  'id_dataset': '5d9f899b951629329a748593',\n",
              "  'intersection': '100%',\n",
              "  'name': 'Bitcoins Cash Historical data',\n",
              "  'num_observations': 1182,\n",
              "  'url': 'https://www.openblender.io/#/dataset/explore/5d9f899b951629329a748593'},\n",
              " {'description': 'Daily Price of Bitcoin SV',\n",
              "  'features': ['change',\n",
              "   'high',\n",
              "   'low',\n",
              "   'open',\n",
              "   'price',\n",
              "   'timestamp',\n",
              "   'volume'],\n",
              "  'id_dataset': '5db7a7c99516294f3f6c2faf',\n",
              "  'intersection': '100%',\n",
              "  'name': 'Bitcoin SV Price',\n",
              "  'num_observations': 317,\n",
              "  'url': 'https://www.openblender.io/#/dataset/explore/5db7a7c99516294f3f6c2faf'},\n",
              " {'description': 'Daily Price of Bitcoin Gold',\n",
              "  'features': ['change',\n",
              "   'high',\n",
              "   'low',\n",
              "   'open',\n",
              "   'price',\n",
              "   'timestamp',\n",
              "   'volume'],\n",
              "  'id_dataset': '5db7aa0b9516294f3f6c30ca',\n",
              "  'intersection': '100%',\n",
              "  'name': 'Bitcoin Gold Price',\n",
              "  'num_observations': 314,\n",
              "  'url': 'https://www.openblender.io/#/dataset/explore/5db7aa0b9516294f3f6c30ca'},\n",
              " {'description': 'Daily Price of Bitcoin Diamond',\n",
              "  'features': ['change',\n",
              "   'high',\n",
              "   'low',\n",
              "   'open',\n",
              "   'price',\n",
              "   'timestamp',\n",
              "   'volume'],\n",
              "  'id_dataset': '5db7ab619516294f40b8cb94',\n",
              "  'intersection': '100%',\n",
              "  'name': 'Bitcoin Diamond Price',\n",
              "  'num_observations': 380,\n",
              "  'url': 'https://www.openblender.io/#/dataset/explore/5db7ab619516294f40b8cb94'},\n",
              " {'description': 'The latest Twitter threads from Bitcoin News (@BTCTN). Official Twitter account for http://news.bitcoin.com/',\n",
              "  'features': ['associated_tweet',\n",
              "   'author',\n",
              "   'author_id',\n",
              "   'favorite_count',\n",
              "   'hashtags',\n",
              "   'id',\n",
              "   'links',\n",
              "   'mentions',\n",
              "   're_tweeter',\n",
              "   'reply_count',\n",
              "   'retweet_count',\n",
              "   'text',\n",
              "   'time',\n",
              "   'type'],\n",
              "  'id_dataset': '5ea2039095162936337156c9',\n",
              "  'intersection': '100%',\n",
              "  'name': 'Bitcoin News Tweet',\n",
              "  'num_observations': 2704,\n",
              "  'url': 'https://www.openblender.io/#/dataset/explore/5ea2039095162936337156c9'},\n",
              " {'description': 'The latest Twitter threads from Coinnounce  Bitcoin  Altcoin News (coinnounce). We cover bitcoin and altcoin news 247.',\n",
              "  'features': ['associated_tweet',\n",
              "   'author',\n",
              "   'author_id',\n",
              "   'favorite_count',\n",
              "   'hashtags',\n",
              "   'id',\n",
              "   'links',\n",
              "   'mentions',\n",
              "   're_tweeter',\n",
              "   'reply_count',\n",
              "   'retweet_count',\n",
              "   'text',\n",
              "   'time',\n",
              "   'type'],\n",
              "  'id_dataset': '5ea20ec595162936337159b4',\n",
              "  'intersection': '100%',\n",
              "  'name': 'Coinnounce  Bitcoin  Altcoin News Tweet',\n",
              "  'num_observations': 218,\n",
              "  'url': 'https://www.openblender.io/#/dataset/explore/5ea20ec595162936337159b4'},\n",
              " {'description': 'Daily exchange rate of US dollar vs Bitcoin',\n",
              "  'features': ['price', 'timestamp'],\n",
              "  'id_dataset': '5e83717095162945e8ae242c',\n",
              "  'intersection': '62.39%',\n",
              "  'name': 'Bitcoin vs USD hot',\n",
              "  'num_observations': 1010,\n",
              "  'url': 'https://www.openblender.io/#/dataset/explore/5e83717095162945e8ae242c'},\n",
              " {'description': 'The latest Twitter threads from CoinJournal (@CoinJournal).',\n",
              "  'features': ['associated_tweet',\n",
              "   'author',\n",
              "   'author_id',\n",
              "   'favorite_count',\n",
              "   'hashtags',\n",
              "   'id',\n",
              "   'links',\n",
              "   'mentions',\n",
              "   're_tweeter',\n",
              "   'reply_count',\n",
              "   'retweet_count',\n",
              "   'text',\n",
              "   'time',\n",
              "   'type'],\n",
              "  'id_dataset': '5ea20b4e95162936348f141d',\n",
              "  'intersection': '98.17%',\n",
              "  'name': 'CoinJournal Tweet',\n",
              "  'num_observations': 401,\n",
              "  'url': 'https://www.openblender.io/#/dataset/explore/5ea20b4e95162936348f141d'}]"
            ]
          },
          "metadata": {
            "tags": []
          },
          "execution_count": 83
        }
      ]
    },
    {
      "cell_type": "code",
      "metadata": {
        "colab": {
          "base_uri": "https://localhost:8080/"
        },
        "id": "kgIT4qcURA7E",
        "outputId": "4c3013f9-887b-4caf-ab32-60b0459c6c06"
      },
      "source": [
        "!pip install fsspec"
      ],
      "execution_count": 66,
      "outputs": [
        {
          "output_type": "stream",
          "text": [
            "Collecting fsspec\n",
            "\u001b[?25l  Downloading https://files.pythonhosted.org/packages/a5/8b/1df260f860f17cb08698170153ef7db672c497c1840dcc8613ce26a8a005/fsspec-0.8.4-py3-none-any.whl (91kB)\n",
            "\r\u001b[K     |███▋                            | 10kB 27.0MB/s eta 0:00:01\r\u001b[K     |███████▏                        | 20kB 14.2MB/s eta 0:00:01\r\u001b[K     |██████████▉                     | 30kB 12.5MB/s eta 0:00:01\r\u001b[K     |██████████████▍                 | 40kB 11.6MB/s eta 0:00:01\r\u001b[K     |██████████████████              | 51kB 8.1MB/s eta 0:00:01\r\u001b[K     |█████████████████████▋          | 61kB 7.4MB/s eta 0:00:01\r\u001b[K     |█████████████████████████▏      | 71kB 8.4MB/s eta 0:00:01\r\u001b[K     |████████████████████████████▊   | 81kB 9.3MB/s eta 0:00:01\r\u001b[K     |████████████████████████████████| 92kB 5.0MB/s \n",
            "\u001b[?25hInstalling collected packages: fsspec\n",
            "Successfully installed fsspec-0.8.4\n"
          ],
          "name": "stdout"
        }
      ]
    },
    {
      "cell_type": "code",
      "metadata": {
        "colab": {
          "base_uri": "https://localhost:8080/"
        },
        "id": "xpY9eaE6YQC7",
        "outputId": "a68fb26f-b522-4dd7-ad38-d81a23f5ffdc"
      },
      "source": [
        "alt_source = {\n",
        "                'id_dataset':'5ea20ec595162936337159b4',\n",
        "                'feature' : 'text'\n",
        "            }\n",
        "# Now, let's 'timeBlend' it to our dataset\n",
        "df_blend_alt = OpenBlender.timeBlend( token = api_token,\n",
        "                                  anchor_ts = df.u_timestamp,\n",
        "                                  blend_source = alt_source,\n",
        "                                  blend_type = 'agg_in_intervals',\n",
        "                                  interval_size = 60 * 60 * 24,\n",
        "                                  direction = 'time_prior',\n",
        "                                  interval_output = 'list',\n",
        "                                  missing_values = 'raw')"
      ],
      "execution_count": 181,
      "outputs": [
        {
          "output_type": "stream",
          "text": [
            "Task ID: '5fc5fc640895fafb4a9d8d4c'.\n",
            "Total estimated consumption: 9440.0 processing units.\n",
            "Task confirmed. Starting download..\n",
            "100%\n"
          ],
          "name": "stdout"
        }
      ]
    },
    {
      "cell_type": "code",
      "metadata": {
        "colab": {
          "base_uri": "https://localhost:8080/",
          "height": 195
        },
        "id": "Jad08XoLYi9H",
        "outputId": "b40ddc34-d92b-4a67-8d32-7ff8278cd5f0"
      },
      "source": [
        "df_blend_alt.head()"
      ],
      "execution_count": 182,
      "outputs": [
        {
          "output_type": "execute_result",
          "data": {
            "text/html": [
              "<div>\n",
              "<style scoped>\n",
              "    .dataframe tbody tr th:only-of-type {\n",
              "        vertical-align: middle;\n",
              "    }\n",
              "\n",
              "    .dataframe tbody tr th {\n",
              "        vertical-align: top;\n",
              "    }\n",
              "\n",
              "    .dataframe thead th {\n",
              "        text-align: right;\n",
              "    }\n",
              "</style>\n",
              "<table border=\"1\" class=\"dataframe\">\n",
              "  <thead>\n",
              "    <tr style=\"text-align: right;\">\n",
              "      <th></th>\n",
              "      <th>timestamp</th>\n",
              "      <th>COINNOUNCE.text_COUNT_last1days</th>\n",
              "      <th>COINNOUNCE.text_last1days</th>\n",
              "    </tr>\n",
              "  </thead>\n",
              "  <tbody>\n",
              "    <tr>\n",
              "      <th>0</th>\n",
              "      <td>1577898000</td>\n",
              "      <td>0</td>\n",
              "      <td>[]</td>\n",
              "    </tr>\n",
              "    <tr>\n",
              "      <th>1</th>\n",
              "      <td>1577984400</td>\n",
              "      <td>0</td>\n",
              "      <td>[]</td>\n",
              "    </tr>\n",
              "    <tr>\n",
              "      <th>2</th>\n",
              "      <td>1578070800</td>\n",
              "      <td>0</td>\n",
              "      <td>[]</td>\n",
              "    </tr>\n",
              "    <tr>\n",
              "      <th>3</th>\n",
              "      <td>1578157200</td>\n",
              "      <td>0</td>\n",
              "      <td>[]</td>\n",
              "    </tr>\n",
              "    <tr>\n",
              "      <th>4</th>\n",
              "      <td>1578243600</td>\n",
              "      <td>0</td>\n",
              "      <td>[]</td>\n",
              "    </tr>\n",
              "  </tbody>\n",
              "</table>\n",
              "</div>"
            ],
            "text/plain": [
              "    timestamp  COINNOUNCE.text_COUNT_last1days COINNOUNCE.text_last1days\n",
              "0  1577898000                                0                        []\n",
              "1  1577984400                                0                        []\n",
              "2  1578070800                                0                        []\n",
              "3  1578157200                                0                        []\n",
              "4  1578243600                                0                        []"
            ]
          },
          "metadata": {
            "tags": []
          },
          "execution_count": 182
        }
      ]
    },
    {
      "cell_type": "code",
      "metadata": {
        "colab": {
          "base_uri": "https://localhost:8080/",
          "height": 262
        },
        "id": "XWtB1nR4OL5O",
        "outputId": "dbf6b91a-4c98-4ceb-910c-849bb9c939c0"
      },
      "source": [
        "# We need to add the 'id_dataset' and the 'feature' name we want.\n",
        "\n",
        "blend_source = {\n",
        "                'id_dataset':'5ea2039095162936337156c9',\n",
        "                'feature' : 'text'\n",
        "            }\n",
        "# Now, let's 'timeBlend' it to our dataset\n",
        "df_blend = OpenBlender.timeBlend( token = api_token,\n",
        "                                  anchor_ts = df.u_timestamp,\n",
        "                                  blend_source = blend_source,\n",
        "                                  blend_type = 'agg_in_intervals',\n",
        "                                  interval_size = 60 * 60 * 24,\n",
        "                                  direction = 'time_prior',\n",
        "                                  interval_output = 'list',\n",
        "                                  missing_values = 'raw')\n",
        "df = pd.concat([df, df_blend.loc[:, df_blend.columns != 'u_timestamp']], axis = 1)\n",
        "df.head()"
      ],
      "execution_count": 84,
      "outputs": [
        {
          "output_type": "stream",
          "text": [
            "Task ID: '5fc5f5f60895fafb4a9d8d4c'.\n",
            "Total estimated consumption: 9440.0 processing units.\n",
            "Task confirmed. Starting download..\n",
            "100%\n"
          ],
          "name": "stdout"
        },
        {
          "output_type": "execute_result",
          "data": {
            "text/html": [
              "<div>\n",
              "<style scoped>\n",
              "    .dataframe tbody tr th:only-of-type {\n",
              "        vertical-align: middle;\n",
              "    }\n",
              "\n",
              "    .dataframe tbody tr th {\n",
              "        vertical-align: top;\n",
              "    }\n",
              "\n",
              "    .dataframe thead th {\n",
              "        text-align: right;\n",
              "    }\n",
              "</style>\n",
              "<table border=\"1\" class=\"dataframe\">\n",
              "  <thead>\n",
              "    <tr style=\"text-align: right;\">\n",
              "      <th></th>\n",
              "      <th>date</th>\n",
              "      <th>u_timestamp</th>\n",
              "      <th>price</th>\n",
              "      <th>target</th>\n",
              "      <th>timestamp</th>\n",
              "      <th>BITCOIN_NE.text_COUNT_last1days</th>\n",
              "      <th>BITCOIN_NE.text_last1days</th>\n",
              "    </tr>\n",
              "  </thead>\n",
              "  <tbody>\n",
              "    <tr>\n",
              "      <th>0</th>\n",
              "      <td>01-01-2020 17:00:00</td>\n",
              "      <td>1.577898e+09</td>\n",
              "      <td>7212.7</td>\n",
              "      <td>1</td>\n",
              "      <td>1577898000</td>\n",
              "      <td>3</td>\n",
              "      <td>[etoro ceo yoni assia on reaching 12 million u...</td>\n",
              "    </tr>\n",
              "    <tr>\n",
              "      <th>1</th>\n",
              "      <td>02-01-2020 17:00:00</td>\n",
              "      <td>1.577984e+09</td>\n",
              "      <td>6989.4</td>\n",
              "      <td>0</td>\n",
              "      <td>1577984400</td>\n",
              "      <td>7</td>\n",
              "      <td>[government confirms crypto profits not taxabl...</td>\n",
              "    </tr>\n",
              "    <tr>\n",
              "      <th>2</th>\n",
              "      <td>03-01-2020 17:00:00</td>\n",
              "      <td>1.578071e+09</td>\n",
              "      <td>7367.5</td>\n",
              "      <td>1</td>\n",
              "      <td>1578070800</td>\n",
              "      <td>8</td>\n",
              "      <td>[ticker tool uses the bch blockchain to provid...</td>\n",
              "    </tr>\n",
              "    <tr>\n",
              "      <th>3</th>\n",
              "      <td>04-01-2020 17:00:00</td>\n",
              "      <td>1.578157e+09</td>\n",
              "      <td>7369.8</td>\n",
              "      <td>0</td>\n",
              "      <td>1578157200</td>\n",
              "      <td>6</td>\n",
              "      <td>[crypto fundraising is changing again in 2020 ...</td>\n",
              "    </tr>\n",
              "    <tr>\n",
              "      <th>4</th>\n",
              "      <td>05-01-2020 17:00:00</td>\n",
              "      <td>1.578244e+09</td>\n",
              "      <td>7364.6</td>\n",
              "      <td>0</td>\n",
              "      <td>1578243600</td>\n",
              "      <td>5</td>\n",
              "      <td>[subhash chandra garg on the future of crypto ...</td>\n",
              "    </tr>\n",
              "  </tbody>\n",
              "</table>\n",
              "</div>"
            ],
            "text/plain": [
              "                  date  ...                          BITCOIN_NE.text_last1days\n",
              "0  01-01-2020 17:00:00  ...  [etoro ceo yoni assia on reaching 12 million u...\n",
              "1  02-01-2020 17:00:00  ...  [government confirms crypto profits not taxabl...\n",
              "2  03-01-2020 17:00:00  ...  [ticker tool uses the bch blockchain to provid...\n",
              "3  04-01-2020 17:00:00  ...  [crypto fundraising is changing again in 2020 ...\n",
              "4  05-01-2020 17:00:00  ...  [subhash chandra garg on the future of crypto ...\n",
              "\n",
              "[5 rows x 7 columns]"
            ]
          },
          "metadata": {
            "tags": []
          },
          "execution_count": 84
        }
      ]
    },
    {
      "cell_type": "code",
      "metadata": {
        "id": "4c8Vo_cxZwGC"
      },
      "source": [
        "df['text'] = df['BITCOIN_NE.text_last1days'].apply(lambda x:\"xxeos \".join(x))\n",
        "#df['text'] = df['BITCOIN_NE.text_last1days']"
      ],
      "execution_count": 383,
      "outputs": []
    },
    {
      "cell_type": "code",
      "metadata": {
        "id": "OOwYKuT3bNeL"
      },
      "source": [
        "df['count'] = df['BITCOIN_NE.text_COUNT_last1days']"
      ],
      "execution_count": 119,
      "outputs": []
    },
    {
      "cell_type": "code",
      "metadata": {
        "colab": {
          "base_uri": "https://localhost:8080/",
          "height": 195
        },
        "id": "-zOWLGVjaN-v",
        "outputId": "5fb028f4-ed38-4c26-cf6c-68e3997070cd"
      },
      "source": [
        "df.head()"
      ],
      "execution_count": 379,
      "outputs": [
        {
          "output_type": "execute_result",
          "data": {
            "text/html": [
              "<div>\n",
              "<style scoped>\n",
              "    .dataframe tbody tr th:only-of-type {\n",
              "        vertical-align: middle;\n",
              "    }\n",
              "\n",
              "    .dataframe tbody tr th {\n",
              "        vertical-align: top;\n",
              "    }\n",
              "\n",
              "    .dataframe thead th {\n",
              "        text-align: right;\n",
              "    }\n",
              "</style>\n",
              "<table border=\"1\" class=\"dataframe\">\n",
              "  <thead>\n",
              "    <tr style=\"text-align: right;\">\n",
              "      <th></th>\n",
              "      <th>date</th>\n",
              "      <th>u_timestamp</th>\n",
              "      <th>price</th>\n",
              "      <th>target</th>\n",
              "      <th>timestamp</th>\n",
              "      <th>BITCOIN_NE.text_COUNT_last1days</th>\n",
              "      <th>BITCOIN_NE.text_last1days</th>\n",
              "      <th>text</th>\n",
              "    </tr>\n",
              "  </thead>\n",
              "  <tbody>\n",
              "    <tr>\n",
              "      <th>0</th>\n",
              "      <td>01-01-2020 17:00:00</td>\n",
              "      <td>1.577898e+09</td>\n",
              "      <td>7212.7</td>\n",
              "      <td>1</td>\n",
              "      <td>1577898000</td>\n",
              "      <td>3</td>\n",
              "      <td>[etoro ceo yoni assia on reaching 12 million u...</td>\n",
              "      <td>etoro ceo yoni assia on reaching 12 million us...</td>\n",
              "    </tr>\n",
              "    <tr>\n",
              "      <th>1</th>\n",
              "      <td>02-01-2020 17:00:00</td>\n",
              "      <td>1.577984e+09</td>\n",
              "      <td>6989.4</td>\n",
              "      <td>0</td>\n",
              "      <td>1577984400</td>\n",
              "      <td>7</td>\n",
              "      <td>[government confirms crypto profits not taxabl...</td>\n",
              "      <td>government confirms crypto profits not taxable...</td>\n",
              "    </tr>\n",
              "    <tr>\n",
              "      <th>2</th>\n",
              "      <td>03-01-2020 17:00:00</td>\n",
              "      <td>1.578071e+09</td>\n",
              "      <td>7367.5</td>\n",
              "      <td>1</td>\n",
              "      <td>1578070800</td>\n",
              "      <td>8</td>\n",
              "      <td>[ticker tool uses the bch blockchain to provid...</td>\n",
              "      <td>ticker tool uses the bch blockchain to provide...</td>\n",
              "    </tr>\n",
              "    <tr>\n",
              "      <th>3</th>\n",
              "      <td>04-01-2020 17:00:00</td>\n",
              "      <td>1.578157e+09</td>\n",
              "      <td>7369.8</td>\n",
              "      <td>0</td>\n",
              "      <td>1578157200</td>\n",
              "      <td>6</td>\n",
              "      <td>[crypto fundraising is changing again in 2020 ...</td>\n",
              "      <td>crypto fundraising is changing again in 2020 x...</td>\n",
              "    </tr>\n",
              "    <tr>\n",
              "      <th>4</th>\n",
              "      <td>05-01-2020 17:00:00</td>\n",
              "      <td>1.578244e+09</td>\n",
              "      <td>7364.6</td>\n",
              "      <td>0</td>\n",
              "      <td>1578243600</td>\n",
              "      <td>5</td>\n",
              "      <td>[subhash chandra garg on the future of crypto ...</td>\n",
              "      <td>subhash chandra garg on the future of crypto x...</td>\n",
              "    </tr>\n",
              "  </tbody>\n",
              "</table>\n",
              "</div>"
            ],
            "text/plain": [
              "                  date  ...                                               text\n",
              "0  01-01-2020 17:00:00  ...  etoro ceo yoni assia on reaching 12 million us...\n",
              "1  02-01-2020 17:00:00  ...  government confirms crypto profits not taxable...\n",
              "2  03-01-2020 17:00:00  ...  ticker tool uses the bch blockchain to provide...\n",
              "3  04-01-2020 17:00:00  ...  crypto fundraising is changing again in 2020 x...\n",
              "4  05-01-2020 17:00:00  ...  subhash chandra garg on the future of crypto x...\n",
              "\n",
              "[5 rows x 8 columns]"
            ]
          },
          "metadata": {
            "tags": []
          },
          "execution_count": 379
        }
      ]
    },
    {
      "cell_type": "code",
      "metadata": {
        "colab": {
          "base_uri": "https://localhost:8080/"
        },
        "id": "B7DwigE7hFG2",
        "outputId": "e27bb2dc-3c93-4f2b-ea5b-9c7366f0f8aa"
      },
      "source": [
        "df['text'].values"
      ],
      "execution_count": 384,
      "outputs": [
        {
          "output_type": "execute_result",
          "data": {
            "text/plain": [
              "array(['etoro ceo yoni assia on reaching 12 million users and why cryptos are a gateway to stocks xxeos china takes another step away from usd hegemony xxeos veriblock captured close to 60 of btcs op return transactions in 2019 ',\n",
              "       'government confirms crypto profits not taxable in south korea xxeos wifi sharing platform wicrypt gets government grant in nigeria xxeos tronbased tether has ballooned to over 900 million tokens almost 22 of total supply xxeos these are the bitcoin stories you loved in 2019 xxeos alleged 8b btc tulip trust expires with tales of bonded couriers xxeos using a vpn may get israeli crypto traders in trouble xxeos why nick szabo probably isnt satoshi ',\n",
              "       'ticker tool uses the bch blockchain to provide reliable rate data xxeos was youtubes christmas crypto purge illegal xxeos early cypherpunk emails reveal a blueprint for bitcoin xxeos google restores metamask app after community uproar xxeos btcs hashrate touches 120 exahash but the price has not followed xxeos a deep dive into satoshis 11year old bitcoin genesis block xxeos why double spends on bch are not the same as replacebyfee fraud xxeos httpreadcash platform rewards content creators with bitcoin cash incentives ',\n",
              "       'crypto fundraising is changing again in 2020 xxeos proof of keys day returns on bitcoins 11th birthday xxeos scottish novelist andrew ohagan asked to testify in kleiman v wright lawsuit xxeos grassroots bitcoin cash house movement expands to ghana xxeos imf helping philippines become important crypto market xxeos hsbc closes 2 branches following new protests in hong kong ',\n",
              "       ..., '', '', '', ''], dtype=object)"
            ]
          },
          "metadata": {
            "tags": []
          },
          "execution_count": 384
        }
      ]
    },
    {
      "cell_type": "code",
      "metadata": {
        "colab": {
          "base_uri": "https://localhost:8080/"
        },
        "id": "vp0BZEtyZKsX",
        "outputId": "a6540842-3343-4848-ccf6-f4f50b34543d"
      },
      "source": [
        "df['BITCOIN_NE.text_last1days'].apply(lambda x:[\"\".join(k) for k in x])"
      ],
      "execution_count": 183,
      "outputs": [
        {
          "output_type": "execute_result",
          "data": {
            "text/plain": [
              "0      [etoro ceo yoni assia on reaching 12 million u...\n",
              "1      [government confirms crypto profits not taxabl...\n",
              "2      [ticker tool uses the bch blockchain to provid...\n",
              "3      [crypto fundraising is changing again in 2020 ...\n",
              "4      [subhash chandra garg on the future of crypto ...\n",
              "                             ...                        \n",
              "231                                                   []\n",
              "232                                                   []\n",
              "233                                                   []\n",
              "234                                                   []\n",
              "235                                                   []\n",
              "Name: BITCOIN_NE.text_last1days, Length: 236, dtype: object"
            ]
          },
          "metadata": {
            "tags": []
          },
          "execution_count": 183
        }
      ]
    },
    {
      "cell_type": "code",
      "metadata": {
        "id": "dDx5tLsXQERQ"
      },
      "source": [
        "from fastai.text import *"
      ],
      "execution_count": 35,
      "outputs": []
    },
    {
      "cell_type": "code",
      "metadata": {
        "colab": {
          "base_uri": "https://localhost:8080/",
          "height": 330
        },
        "id": "9FVFOrHkYf87",
        "outputId": "e0178eac-34e1-4e88-e0d1-e3f9bc29a88a"
      },
      "source": [
        "data = (TextList.from_df(df, cols='text')\n",
        "                .split_by_rand_pct(0.2,seed=42)\n",
        "                .label_for_lm()  \n",
        "                .databunch(bs=8))\n",
        "data.show_batch()"
      ],
      "execution_count": 546,
      "outputs": [
        {
          "output_type": "display_data",
          "data": {
            "text/html": [
              ""
            ],
            "text/plain": [
              "<IPython.core.display.HTML object>"
            ]
          },
          "metadata": {
            "tags": []
          }
        },
        {
          "output_type": "display_data",
          "data": {
            "text/html": [
              ""
            ],
            "text/plain": [
              "<IPython.core.display.HTML object>"
            ]
          },
          "metadata": {
            "tags": []
          }
        },
        {
          "output_type": "display_data",
          "data": {
            "text/html": [
              "<table border=\"1\" class=\"dataframe\">\n",
              "  <thead>\n",
              "    <tr style=\"text-align: right;\">\n",
              "      <th>idx</th>\n",
              "      <th>text</th>\n",
              "    </tr>\n",
              "  </thead>\n",
              "  <tbody>\n",
              "    <tr>\n",
              "      <td>0</td>\n",
              "      <td>xxunk xxunk of total supply xxeos these are the bitcoin xxunk you xxunk in 2019 xxeos alleged xxunk btc xxunk trust xxunk with xxunk of xxunk xxunk xxeos using a xxunk may get xxunk crypto traders in xxunk xxeos why xxunk xxunk xxunk is nt satoshi xxbos xxunk tool xxunk the bch blockchain to xxunk reliable rate data xxeos was xxunk xxunk crypto xxunk illegal xxeos early xxunk xxunk reveal</td>\n",
              "    </tr>\n",
              "    <tr>\n",
              "      <td>1</td>\n",
              "      <td>interest rates xxbos xxunk is a xxunk xxunk noncustodial bitcoin wallet xxeos xxunk digital currency link to be available in japan as early as xxunk 2020 xxeos coronavirus outbreak forces chinese crypto asic xxunk to xxunk xxunk xxeos xxunk announces own cryptocurrency as more xxunk xxunk about chinas digital yuan xxeos bitcoin xxunk new project aims to xxunk bitcoin cash node xxunk xxeos us xxunk want to ban xxunk encryption</td>\n",
              "    </tr>\n",
              "    <tr>\n",
              "      <td>2</td>\n",
              "      <td>attacks inflation and xxunk xxunk xxeos xxunk xxunk xxunk 3 billion for 15 years of illegal xxunk xxunk millions of customers xxeos no xxunk on human rights why encryption can not be xxunk xxeos how the irs xxunk cryptocurrency tax returns xxunk xxunk shares xxunk xxunk on xxunk xxunk xxeos get xxunk for the bitcoin halving here are 9 xxunk xxunk you can monitor xxbos xxunk joins libra while xxunk</td>\n",
              "    </tr>\n",
              "    <tr>\n",
              "      <td>3</td>\n",
              "      <td>people are fed up with wall street banks and oligarchs xxeos cash crisis national currencies plunge in the wake of coronavirus xxeos how to buy weed with bitcoin xxbos regulatory roundup crypto regulations advance despite global crisis cash shortages bank closures xxeos crypto mining crunch time bitcoin halving less than 50 days away while global economy shudders xxeos shelterinplace for cash 2 bills submitted by us congress mention digital dollars</td>\n",
              "    </tr>\n",
              "    <tr>\n",
              "      <td>4</td>\n",
              "      <td>noncustodial xxunk app xxeos south africa proposes 30 rules to regulate cryptocurrency xxeos largest us banks xxunk xxunk in loan xxunk profits plunge xxeos xxunk money printing xxunk housing prices slide xxunk first time in 10 years in xxunk europe xxbos xxunk xxunk new cryptocurrency derivatives platform xxunk to offer regulated bitcoin futures xxeos cryptocurrency markets moved by regulatory xxunk federal reserve bank paper shows xxeos federal reserve xxunk the</td>\n",
              "    </tr>\n",
              "  </tbody>\n",
              "</table>"
            ],
            "text/plain": [
              "<IPython.core.display.HTML object>"
            ]
          },
          "metadata": {
            "tags": []
          }
        }
      ]
    },
    {
      "cell_type": "code",
      "metadata": {
        "id": "ghv8vaDepVL3"
      },
      "source": [
        "### Fit bitcoin wikitext model with domain specific data\n",
        "learn = language_model_learner(data,AWD_LSTM, drop_mult=0.2)"
      ],
      "execution_count": 547,
      "outputs": []
    },
    {
      "cell_type": "code",
      "metadata": {
        "colab": {
          "base_uri": "https://localhost:8080/",
          "height": 199
        },
        "id": "5kGST0UaLDRa",
        "outputId": "3fcd5936-4f44-43e5-fb37-2253c9d3a282"
      },
      "source": [
        "# select the appropriate learning rate\n",
        "learn.lr_find()"
      ],
      "execution_count": 548,
      "outputs": [
        {
          "output_type": "display_data",
          "data": {
            "text/html": [
              "\n",
              "    <div>\n",
              "        <style>\n",
              "            /* Turns off some styling */\n",
              "            progress {\n",
              "                /* gets rid of default border in Firefox and Opera. */\n",
              "                border: none;\n",
              "                /* Needs to be in here for Safari polyfill so background images work as expected. */\n",
              "                background-size: auto;\n",
              "            }\n",
              "            .progress-bar-interrupted, .progress-bar-interrupted::-webkit-progress-bar {\n",
              "                background: #F44336;\n",
              "            }\n",
              "        </style>\n",
              "      <progress value='3' class='' max='4' style='width:300px; height:20px; vertical-align: middle;'></progress>\n",
              "      75.00% [3/4 00:02<00:00]\n",
              "    </div>\n",
              "    \n",
              "<table border=\"1\" class=\"dataframe\">\n",
              "  <thead>\n",
              "    <tr style=\"text-align: left;\">\n",
              "      <th>epoch</th>\n",
              "      <th>train_loss</th>\n",
              "      <th>valid_loss</th>\n",
              "      <th>accuracy</th>\n",
              "      <th>time</th>\n",
              "    </tr>\n",
              "  </thead>\n",
              "  <tbody>\n",
              "    <tr>\n",
              "      <td>0</td>\n",
              "      <td>7.064731</td>\n",
              "      <td>#na#</td>\n",
              "      <td>00:00</td>\n",
              "    </tr>\n",
              "    <tr>\n",
              "      <td>1</td>\n",
              "      <td>7.039588</td>\n",
              "      <td>#na#</td>\n",
              "      <td>00:00</td>\n",
              "    </tr>\n",
              "    <tr>\n",
              "      <td>2</td>\n",
              "      <td>6.438693</td>\n",
              "      <td>#na#</td>\n",
              "      <td>00:00</td>\n",
              "    </tr>\n",
              "  </tbody>\n",
              "</table><p>\n",
              "\n",
              "    <div>\n",
              "        <style>\n",
              "            /* Turns off some styling */\n",
              "            progress {\n",
              "                /* gets rid of default border in Firefox and Opera. */\n",
              "                border: none;\n",
              "                /* Needs to be in here for Safari polyfill so background images work as expected. */\n",
              "                background-size: auto;\n",
              "            }\n",
              "            .progress-bar-interrupted, .progress-bar-interrupted::-webkit-progress-bar {\n",
              "                background: #F44336;\n",
              "            }\n",
              "        </style>\n",
              "      <progress value='24' class='' max='25' style='width:300px; height:20px; vertical-align: middle;'></progress>\n",
              "      96.00% [24/25 00:00<00:00 10.0886]\n",
              "    </div>\n",
              "    "
            ],
            "text/plain": [
              "<IPython.core.display.HTML object>"
            ]
          },
          "metadata": {
            "tags": []
          }
        },
        {
          "output_type": "stream",
          "text": [
            "LR Finder is complete, type {learner_name}.recorder.plot() to see the graph.\n"
          ],
          "name": "stdout"
        }
      ]
    },
    {
      "cell_type": "code",
      "metadata": {
        "colab": {
          "base_uri": "https://localhost:8080/",
          "height": 283
        },
        "id": "WLPf0I1NLbbH",
        "outputId": "430e4fca-5e8e-479b-f06a-eeea8c544d47"
      },
      "source": [
        "learn.recorder.plot()"
      ],
      "execution_count": 549,
      "outputs": [
        {
          "output_type": "display_data",
          "data": {
            "image/png": "[encoded data removed]",
            "text/plain": [
              "<Figure size 432x288 with 1 Axes>"
            ]
          },
          "metadata": {
            "tags": [],
            "needs_background": "light"
          }
        }
      ]
    },
    {
      "cell_type": "code",
      "metadata": {
        "id": "lVMwpka1pacI"
      },
      "source": [
        "bs = 48\n",
        "lr = 1e-3\n",
        "lr *= bs/48"
      ],
      "execution_count": 550,
      "outputs": []
    },
    {
      "cell_type": "code",
      "metadata": {
        "colab": {
          "base_uri": "https://localhost:8080/"
        },
        "id": "6IGWU-wtTRWo",
        "outputId": "a747e9e8-fb4b-46c6-818d-c645a0045060"
      },
      "source": [
        "learn.to_fp16()"
      ],
      "execution_count": 390,
      "outputs": [
        {
          "output_type": "execute_result",
          "data": {
            "text/plain": [
              "LanguageLearner(data=TextLMDataBunch;\n",
              "\n",
              "Train: LabelList (213 items)\n",
              "x: LMTextList\n",
              "xxbos xxunk ceo xxunk xxunk on xxunk 12 million users and why cryptos are a gateway to stocks xxeos china takes another xxunk away from usd xxunk xxeos xxunk xxunk close to 60 of btcs xxunk return transactions in 2019,xxbos government confirms crypto profits not xxunk in south korea xxeos xxunk sharing platform xxunk gets government xxunk in xxunk xxeos xxunk tether has xxunk to over xxunk million tokens xxunk xxunk of total supply xxeos these are the bitcoin xxunk you xxunk in 2019 xxeos alleged xxunk btc xxunk trust xxunk with xxunk of xxunk xxunk xxeos using a xxunk may get xxunk crypto traders in xxunk xxeos why xxunk xxunk xxunk is nt satoshi,xxbos xxunk tool xxunk the bch blockchain to xxunk reliable rate data xxeos was xxunk xxunk crypto xxunk illegal xxeos early xxunk xxunk reveal a xxunk for bitcoin xxeos google xxunk xxunk app after community xxunk xxeos btcs hashrate touches 120 exahash but the price has not xxunk xxeos a deep xxunk into satoshis xxunk xxunk bitcoin genesis block xxeos why double xxunk on bch are not the xxunk as xxunk fraud xxeos httpreadcash platform rewards xxunk xxunk with bitcoin cash xxunk,xxbos crypto xxunk is xxunk again in 2020 xxeos xxunk of keys day returns on bitcoins xxunk xxunk xxeos xxunk xxunk andrew xxunk xxunk to xxunk in xxunk xxunk wright lawsuit xxeos xxunk bitcoin cash house xxunk expands to xxunk xxeos xxunk xxunk philippines become xxunk crypto market xxeos xxunk xxunk 2 xxunk following new xxunk in hong kong,xxbos xxunk xxunk xxunk on the future of crypto xxeos xxunk xxunk supporters xxunk xxunk after btc price xxunk xxunk xxunk xxeos travala xxunk 33 revenue growth with 60 of xxunk paid with crypto xxeos telegram xxunk sec xxunk to xxunk over bank records for ton xxeos new slp telegram xxunk xxunk to bitcoin cash supporters\n",
              "y: LMLabelList\n",
              ",,,,\n",
              "Path: .;\n",
              "\n",
              "Valid: LabelList (23 items)\n",
              "x: LMTextList\n",
              "xxbos tax xxunk to xxunk 35 xxrep 4 0 xxunk and xxunk them to report all crypto profits xxeos market update global economy xxunk bitcoin xxunk crypto cap loses xxunk xxeos xxunk police arrest 2 xxunk for buying cryptocurrency xxunk to xxunk m xxunk hack xxeos xxunk new httpbitcoincom wallet xxunk popular with over 10 million xxunk xxunk xxeos crypto xxunk xxunk as virtual xxunk xxunk xxunk xxunk,xxbos 14 m in bitcoin transactions new high for xxunk as xxunk in the xxunk xxunk xxeos chinas xxunk xxunk service xxunk to xxunk the central banks digital yuan xxeos xxunk token is live on xxunk the leading european bitcoin exchange xxeos xxunk xxunk xxunk xxunk xxunk last xxunk post was about bitcoin xxeos bitcoin is not a privacy coin says crypto xxunk xxunk xxunk xxeos john mcafee launches xxunk xxunk service to xxunk his cryptocurrency xxeos xxunk software foundation aims to xxunk xxunk software with bitcoin cash xxeos south african crypto investment company xxunk xxunk and xxunk order in xxunk xxeos xxunk xxunk government xxunk xxunk xxunk with 1 xxrep 5 0 xxunk xxeos xxunk xxunk xxunk xxunk for xxunk 5 xxrep 4 0 worth of crypto from his xxunk,xxbos xxunk xxunk xxunk xxunk plan to dump xxunk m worth of ethereum xxeos xxunk xxunk calls for the xxunk of xxunk website xxunk xxunk xxunk xxunk xxeos xxunk xxunk of money and state following the xxunk xxunk day xxeos xxunk financial xxunk currency xxunk 80 xxunk xxunk at central bank xxunk xxunk xxunk,xxbos ethereum tron and xxunk control xxunk of all xxunk volume xxeos 6 high xxunk options for crypto xxunk xxeos xxunk crypto valley of xxunk to get own xxunk xxeos low interest rates xxunk xxunk xxunk against crisis world bank warns xxeos this company xxunk out to xxunk crypto mining has a xxunk in your home xxeos video games xxunk xxunk is xxunk for blockchain startups to support xxeos how xxunk and xxunk drops are xxunk darknet xxunk xxeos xxunk xxunk lightning network analysis xxunk xxunk,xxbos bitcoin to xxunk at xxunk by xxunk next year says xxunk capital ceo xxeos httpbitcoincom wallet users can now purchase more than 10k worth of cryptocurrency xxeos us central bank xxunk for 2020 financial crash the fed is xxunk economic government xxunk xxunk xxeos indian crypto xxunk exchanges see xxunk trading volumes during lockdown xxeos bitcoin atm xxunk xxunk to over xxunk worldwide amid global crisis xxeos xxunk direct launches xxunk new platform\n",
              "y: LMLabelList\n",
              ",,,,\n",
              "Path: .;\n",
              "\n",
              "Test: None, model=SequentialRNN(\n",
              "  (0): AWD_LSTM(\n",
              "    (encoder): Embedding(1056, 400, padding_idx=1)\n",
              "    (encoder_dp): EmbeddingDropout(\n",
              "      (emb): Embedding(1056, 400, padding_idx=1)\n",
              "    )\n",
              "    (rnns): ModuleList(\n",
              "      (0): WeightDropout(\n",
              "        (module): LSTM(400, 1152, batch_first=True)\n",
              "      )\n",
              "      (1): WeightDropout(\n",
              "        (module): LSTM(1152, 1152, batch_first=True)\n",
              "      )\n",
              "      (2): WeightDropout(\n",
              "        (module): LSTM(1152, 400, batch_first=True)\n",
              "      )\n",
              "    )\n",
              "    (input_dp): RNNDropout()\n",
              "    (hidden_dps): ModuleList(\n",
              "      (0): RNNDropout()\n",
              "      (1): RNNDropout()\n",
              "      (2): RNNDropout()\n",
              "    )\n",
              "  )\n",
              "  (1): LinearDecoder(\n",
              "    (decoder): Linear(in_features=400, out_features=1056, bias=True)\n",
              "    (output_dp): RNNDropout()\n",
              "  )\n",
              "), opt_func=functools.partial(<class 'torch.optim.adam.Adam'>, betas=(0.9, 0.99)), loss_func=FlattenedLoss of CrossEntropyLoss(), metrics=[<function accuracy at 0x7f1f25232d90>], true_wd=True, bn_wd=True, wd=0.01, train_bn=True, path=PosixPath('.'), model_dir='models', callback_fns=[functools.partial(<class 'fastai.basic_train.Recorder'>, add_time=True, silent=False)], callbacks=[RNNTrainer\n",
              "learn: LanguageLearner(data=TextLMDataBunch;\n",
              "\n",
              "Train: LabelList (213 items)\n",
              "x: LMTextList\n",
              "xxbos xxunk ceo xxunk xxunk on xxunk 12 million users and why cryptos are a gateway to stocks xxeos china takes another xxunk away from usd xxunk xxeos xxunk xxunk close to 60 of btcs xxunk return transactions in 2019,xxbos government confirms crypto profits not xxunk in south korea xxeos xxunk sharing platform xxunk gets government xxunk in xxunk xxeos xxunk tether has xxunk to over xxunk million tokens xxunk xxunk of total supply xxeos these are the bitcoin xxunk you xxunk in 2019 xxeos alleged xxunk btc xxunk trust xxunk with xxunk of xxunk xxunk xxeos using a xxunk may get xxunk crypto traders in xxunk xxeos why xxunk xxunk xxunk is nt satoshi,xxbos xxunk tool xxunk the bch blockchain to xxunk reliable rate data xxeos was xxunk xxunk crypto xxunk illegal xxeos early xxunk xxunk reveal a xxunk for bitcoin xxeos google xxunk xxunk app after community xxunk xxeos btcs hashrate touches 120 exahash but the price has not xxunk xxeos a deep xxunk into satoshis xxunk xxunk bitcoin genesis block xxeos why double xxunk on bch are not the xxunk as xxunk fraud xxeos httpreadcash platform rewards xxunk xxunk with bitcoin cash xxunk,xxbos crypto xxunk is xxunk again in 2020 xxeos xxunk of keys day returns on bitcoins xxunk xxunk xxeos xxunk xxunk andrew xxunk xxunk to xxunk in xxunk xxunk wright lawsuit xxeos xxunk bitcoin cash house xxunk expands to xxunk xxeos xxunk xxunk philippines become xxunk crypto market xxeos xxunk xxunk 2 xxunk following new xxunk in hong kong,xxbos xxunk xxunk xxunk on the future of crypto xxeos xxunk xxunk supporters xxunk xxunk after btc price xxunk xxunk xxunk xxeos travala xxunk 33 revenue growth with 60 of xxunk paid with crypto xxeos telegram xxunk sec xxunk to xxunk over bank records for ton xxeos new slp telegram xxunk xxunk to bitcoin cash supporters\n",
              "y: LMLabelList\n",
              ",,,,\n",
              "Path: .;\n",
              "\n",
              "Valid: LabelList (23 items)\n",
              "x: LMTextList\n",
              "xxbos tax xxunk to xxunk 35 xxrep 4 0 xxunk and xxunk them to report all crypto profits xxeos market update global economy xxunk bitcoin xxunk crypto cap loses xxunk xxeos xxunk police arrest 2 xxunk for buying cryptocurrency xxunk to xxunk m xxunk hack xxeos xxunk new httpbitcoincom wallet xxunk popular with over 10 million xxunk xxunk xxeos crypto xxunk xxunk as virtual xxunk xxunk xxunk xxunk,xxbos 14 m in bitcoin transactions new high for xxunk as xxunk in the xxunk xxunk xxeos chinas xxunk xxunk service xxunk to xxunk the central banks digital yuan xxeos xxunk token is live on xxunk the leading european bitcoin exchange xxeos xxunk xxunk xxunk xxunk xxunk last xxunk post was about bitcoin xxeos bitcoin is not a privacy coin says crypto xxunk xxunk xxunk xxeos john mcafee launches xxunk xxunk service to xxunk his cryptocurrency xxeos xxunk software foundation aims to xxunk xxunk software with bitcoin cash xxeos south african crypto investment company xxunk xxunk and xxunk order in xxunk xxeos xxunk xxunk government xxunk xxunk xxunk with 1 xxrep 5 0 xxunk xxeos xxunk xxunk xxunk xxunk for xxunk 5 xxrep 4 0 worth of crypto from his xxunk,xxbos xxunk xxunk xxunk xxunk plan to dump xxunk m worth of ethereum xxeos xxunk xxunk calls for the xxunk of xxunk website xxunk xxunk xxunk xxunk xxeos xxunk xxunk of money and state following the xxunk xxunk day xxeos xxunk financial xxunk currency xxunk 80 xxunk xxunk at central bank xxunk xxunk xxunk,xxbos ethereum tron and xxunk control xxunk of all xxunk volume xxeos 6 high xxunk options for crypto xxunk xxeos xxunk crypto valley of xxunk to get own xxunk xxeos low interest rates xxunk xxunk xxunk against crisis world bank warns xxeos this company xxunk out to xxunk crypto mining has a xxunk in your home xxeos video games xxunk xxunk is xxunk for blockchain startups to support xxeos how xxunk and xxunk drops are xxunk darknet xxunk xxeos xxunk xxunk lightning network analysis xxunk xxunk,xxbos bitcoin to xxunk at xxunk by xxunk next year says xxunk capital ceo xxeos httpbitcoincom wallet users can now purchase more than 10k worth of cryptocurrency xxeos us central bank xxunk for 2020 financial crash the fed is xxunk economic government xxunk xxunk xxeos indian crypto xxunk exchanges see xxunk trading volumes during lockdown xxeos bitcoin atm xxunk xxunk to over xxunk worldwide amid global crisis xxeos xxunk direct launches xxunk new platform\n",
              "y: LMLabelList\n",
              ",,,,\n",
              "Path: .;\n",
              "\n",
              "Test: None, model=SequentialRNN(\n",
              "  (0): AWD_LSTM(\n",
              "    (encoder): Embedding(1056, 400, padding_idx=1)\n",
              "    (encoder_dp): EmbeddingDropout(\n",
              "      (emb): Embedding(1056, 400, padding_idx=1)\n",
              "    )\n",
              "    (rnns): ModuleList(\n",
              "      (0): WeightDropout(\n",
              "        (module): LSTM(400, 1152, batch_first=True)\n",
              "      )\n",
              "      (1): WeightDropout(\n",
              "        (module): LSTM(1152, 1152, batch_first=True)\n",
              "      )\n",
              "      (2): WeightDropout(\n",
              "        (module): LSTM(1152, 400, batch_first=True)\n",
              "      )\n",
              "    )\n",
              "    (input_dp): RNNDropout()\n",
              "    (hidden_dps): ModuleList(\n",
              "      (0): RNNDropout()\n",
              "      (1): RNNDropout()\n",
              "      (2): RNNDropout()\n",
              "    )\n",
              "  )\n",
              "  (1): LinearDecoder(\n",
              "    (decoder): Linear(in_features=400, out_features=1056, bias=True)\n",
              "    (output_dp): RNNDropout()\n",
              "  )\n",
              "), opt_func=functools.partial(<class 'torch.optim.adam.Adam'>, betas=(0.9, 0.99)), loss_func=FlattenedLoss of CrossEntropyLoss(), metrics=[<function accuracy at 0x7f1f25232d90>], true_wd=True, bn_wd=True, wd=0.01, train_bn=True, path=PosixPath('.'), model_dir='models', callback_fns=[functools.partial(<class 'fastai.basic_train.Recorder'>, add_time=True, silent=False)], callbacks=[...], layer_groups=[Sequential(\n",
              "  (0): WeightDropout(\n",
              "    (module): LSTM(400, 1152, batch_first=True)\n",
              "  )\n",
              "  (1): RNNDropout()\n",
              "), Sequential(\n",
              "  (0): WeightDropout(\n",
              "    (module): LSTM(1152, 1152, batch_first=True)\n",
              "  )\n",
              "  (1): RNNDropout()\n",
              "), Sequential(\n",
              "  (0): WeightDropout(\n",
              "    (module): LSTM(1152, 400, batch_first=True)\n",
              "  )\n",
              "  (1): RNNDropout()\n",
              "), Sequential(\n",
              "  (0): Embedding(1056, 400, padding_idx=1)\n",
              "  (1): EmbeddingDropout(\n",
              "    (emb): Embedding(1056, 400, padding_idx=1)\n",
              "  )\n",
              "  (2): LinearDecoder(\n",
              "    (decoder): Linear(in_features=400, out_features=1056, bias=True)\n",
              "    (output_dp): RNNDropout()\n",
              "  )\n",
              ")], add_time=True, silent=False)\n",
              "alpha: 2.0\n",
              "beta: 1.0, MixedPrecision\n",
              "learn: LanguageLearner(data=TextLMDataBunch;\n",
              "\n",
              "Train: LabelList (213 items)\n",
              "x: LMTextList\n",
              "xxbos xxunk ceo xxunk xxunk on xxunk 12 million users and why cryptos are a gateway to stocks xxeos china takes another xxunk away from usd xxunk xxeos xxunk xxunk close to 60 of btcs xxunk return transactions in 2019,xxbos government confirms crypto profits not xxunk in south korea xxeos xxunk sharing platform xxunk gets government xxunk in xxunk xxeos xxunk tether has xxunk to over xxunk million tokens xxunk xxunk of total supply xxeos these are the bitcoin xxunk you xxunk in 2019 xxeos alleged xxunk btc xxunk trust xxunk with xxunk of xxunk xxunk xxeos using a xxunk may get xxunk crypto traders in xxunk xxeos why xxunk xxunk xxunk is nt satoshi,xxbos xxunk tool xxunk the bch blockchain to xxunk reliable rate data xxeos was xxunk xxunk crypto xxunk illegal xxeos early xxunk xxunk reveal a xxunk for bitcoin xxeos google xxunk xxunk app after community xxunk xxeos btcs hashrate touches 120 exahash but the price has not xxunk xxeos a deep xxunk into satoshis xxunk xxunk bitcoin genesis block xxeos why double xxunk on bch are not the xxunk as xxunk fraud xxeos httpreadcash platform rewards xxunk xxunk with bitcoin cash xxunk,xxbos crypto xxunk is xxunk again in 2020 xxeos xxunk of keys day returns on bitcoins xxunk xxunk xxeos xxunk xxunk andrew xxunk xxunk to xxunk in xxunk xxunk wright lawsuit xxeos xxunk bitcoin cash house xxunk expands to xxunk xxeos xxunk xxunk philippines become xxunk crypto market xxeos xxunk xxunk 2 xxunk following new xxunk in hong kong,xxbos xxunk xxunk xxunk on the future of crypto xxeos xxunk xxunk supporters xxunk xxunk after btc price xxunk xxunk xxunk xxeos travala xxunk 33 revenue growth with 60 of xxunk paid with crypto xxeos telegram xxunk sec xxunk to xxunk over bank records for ton xxeos new slp telegram xxunk xxunk to bitcoin cash supporters\n",
              "y: LMLabelList\n",
              ",,,,\n",
              "Path: .;\n",
              "\n",
              "Valid: LabelList (23 items)\n",
              "x: LMTextList\n",
              "xxbos tax xxunk to xxunk 35 xxrep 4 0 xxunk and xxunk them to report all crypto profits xxeos market update global economy xxunk bitcoin xxunk crypto cap loses xxunk xxeos xxunk police arrest 2 xxunk for buying cryptocurrency xxunk to xxunk m xxunk hack xxeos xxunk new httpbitcoincom wallet xxunk popular with over 10 million xxunk xxunk xxeos crypto xxunk xxunk as virtual xxunk xxunk xxunk xxunk,xxbos 14 m in bitcoin transactions new high for xxunk as xxunk in the xxunk xxunk xxeos chinas xxunk xxunk service xxunk to xxunk the central banks digital yuan xxeos xxunk token is live on xxunk the leading european bitcoin exchange xxeos xxunk xxunk xxunk xxunk xxunk last xxunk post was about bitcoin xxeos bitcoin is not a privacy coin says crypto xxunk xxunk xxunk xxeos john mcafee launches xxunk xxunk service to xxunk his cryptocurrency xxeos xxunk software foundation aims to xxunk xxunk software with bitcoin cash xxeos south african crypto investment company xxunk xxunk and xxunk order in xxunk xxeos xxunk xxunk government xxunk xxunk xxunk with 1 xxrep 5 0 xxunk xxeos xxunk xxunk xxunk xxunk for xxunk 5 xxrep 4 0 worth of crypto from his xxunk,xxbos xxunk xxunk xxunk xxunk plan to dump xxunk m worth of ethereum xxeos xxunk xxunk calls for the xxunk of xxunk website xxunk xxunk xxunk xxunk xxeos xxunk xxunk of money and state following the xxunk xxunk day xxeos xxunk financial xxunk currency xxunk 80 xxunk xxunk at central bank xxunk xxunk xxunk,xxbos ethereum tron and xxunk control xxunk of all xxunk volume xxeos 6 high xxunk options for crypto xxunk xxeos xxunk crypto valley of xxunk to get own xxunk xxeos low interest rates xxunk xxunk xxunk against crisis world bank warns xxeos this company xxunk out to xxunk crypto mining has a xxunk in your home xxeos video games xxunk xxunk is xxunk for blockchain startups to support xxeos how xxunk and xxunk drops are xxunk darknet xxunk xxeos xxunk xxunk lightning network analysis xxunk xxunk,xxbos bitcoin to xxunk at xxunk by xxunk next year says xxunk capital ceo xxeos httpbitcoincom wallet users can now purchase more than 10k worth of cryptocurrency xxeos us central bank xxunk for 2020 financial crash the fed is xxunk economic government xxunk xxunk xxeos indian crypto xxunk exchanges see xxunk trading volumes during lockdown xxeos bitcoin atm xxunk xxunk to over xxunk worldwide amid global crisis xxeos xxunk direct launches xxunk new platform\n",
              "y: LMLabelList\n",
              ",,,,\n",
              "Path: .;\n",
              "\n",
              "Test: None, model=SequentialRNN(\n",
              "  (0): AWD_LSTM(\n",
              "    (encoder): Embedding(1056, 400, padding_idx=1)\n",
              "    (encoder_dp): EmbeddingDropout(\n",
              "      (emb): Embedding(1056, 400, padding_idx=1)\n",
              "    )\n",
              "    (rnns): ModuleList(\n",
              "      (0): WeightDropout(\n",
              "        (module): LSTM(400, 1152, batch_first=True)\n",
              "      )\n",
              "      (1): WeightDropout(\n",
              "        (module): LSTM(1152, 1152, batch_first=True)\n",
              "      )\n",
              "      (2): WeightDropout(\n",
              "        (module): LSTM(1152, 400, batch_first=True)\n",
              "      )\n",
              "    )\n",
              "    (input_dp): RNNDropout()\n",
              "    (hidden_dps): ModuleList(\n",
              "      (0): RNNDropout()\n",
              "      (1): RNNDropout()\n",
              "      (2): RNNDropout()\n",
              "    )\n",
              "  )\n",
              "  (1): LinearDecoder(\n",
              "    (decoder): Linear(in_features=400, out_features=1056, bias=True)\n",
              "    (output_dp): RNNDropout()\n",
              "  )\n",
              "), opt_func=functools.partial(<class 'torch.optim.adam.Adam'>, betas=(0.9, 0.99)), loss_func=FlattenedLoss of CrossEntropyLoss(), metrics=[<function accuracy at 0x7f1f25232d90>], true_wd=True, bn_wd=True, wd=0.01, train_bn=True, path=PosixPath('.'), model_dir='models', callback_fns=[functools.partial(<class 'fastai.basic_train.Recorder'>, add_time=True, silent=False)], callbacks=[...], layer_groups=[Sequential(\n",
              "  (0): WeightDropout(\n",
              "    (module): LSTM(400, 1152, batch_first=True)\n",
              "  )\n",
              "  (1): RNNDropout()\n",
              "), Sequential(\n",
              "  (0): WeightDropout(\n",
              "    (module): LSTM(1152, 1152, batch_first=True)\n",
              "  )\n",
              "  (1): RNNDropout()\n",
              "), Sequential(\n",
              "  (0): WeightDropout(\n",
              "    (module): LSTM(1152, 400, batch_first=True)\n",
              "  )\n",
              "  (1): RNNDropout()\n",
              "), Sequential(\n",
              "  (0): Embedding(1056, 400, padding_idx=1)\n",
              "  (1): EmbeddingDropout(\n",
              "    (emb): Embedding(1056, 400, padding_idx=1)\n",
              "  )\n",
              "  (2): LinearDecoder(\n",
              "    (decoder): Linear(in_features=400, out_features=1056, bias=True)\n",
              "    (output_dp): RNNDropout()\n",
              "  )\n",
              ")], add_time=True, silent=False)\n",
              "loss_scale: 65536\n",
              "max_noskip: 1000\n",
              "dynamic: True\n",
              "clip: None\n",
              "flat_master: False\n",
              "max_scale: 16777216\n",
              "loss_fp32: True], layer_groups=[Sequential(\n",
              "  (0): WeightDropout(\n",
              "    (module): LSTM(400, 1152, batch_first=True)\n",
              "  )\n",
              "  (1): RNNDropout()\n",
              "), Sequential(\n",
              "  (0): WeightDropout(\n",
              "    (module): LSTM(1152, 1152, batch_first=True)\n",
              "  )\n",
              "  (1): RNNDropout()\n",
              "), Sequential(\n",
              "  (0): WeightDropout(\n",
              "    (module): LSTM(1152, 400, batch_first=True)\n",
              "  )\n",
              "  (1): RNNDropout()\n",
              "), Sequential(\n",
              "  (0): Embedding(1056, 400, padding_idx=1)\n",
              "  (1): EmbeddingDropout(\n",
              "    (emb): Embedding(1056, 400, padding_idx=1)\n",
              "  )\n",
              "  (2): LinearDecoder(\n",
              "    (decoder): Linear(in_features=400, out_features=1056, bias=True)\n",
              "    (output_dp): RNNDropout()\n",
              "  )\n",
              ")], add_time=True, silent=False)"
            ]
          },
          "metadata": {
            "tags": []
          },
          "execution_count": 390
        }
      ]
    },
    {
      "cell_type": "code",
      "metadata": {
        "colab": {
          "base_uri": "https://localhost:8080/",
          "height": 106
        },
        "id": "NYLaFr_TLn8T",
        "outputId": "94fc78a1-203f-4bf6-e381-ca7e6effd638"
      },
      "source": [
        "learn.fit_one_cycle(5, lr*10, moms=(0.8,0.7))"
      ],
      "execution_count": 400,
      "outputs": [
        {
          "output_type": "display_data",
          "data": {
            "text/html": [
              "<table border=\"1\" class=\"dataframe\">\n",
              "  <thead>\n",
              "    <tr style=\"text-align: left;\">\n",
              "      <th>epoch</th>\n",
              "      <th>train_loss</th>\n",
              "      <th>valid_loss</th>\n",
              "      <th>accuracy</th>\n",
              "      <th>time</th>\n",
              "    </tr>\n",
              "  </thead>\n",
              "  <tbody>\n",
              "    <tr>\n",
              "      <td>0</td>\n",
              "      <td>6.763787</td>\n",
              "      <td>5.356676</td>\n",
              "      <td>0.290179</td>\n",
              "      <td>00:00</td>\n",
              "    </tr>\n",
              "    <tr>\n",
              "      <td>1</td>\n",
              "      <td>5.989963</td>\n",
              "      <td>4.914351</td>\n",
              "      <td>0.309375</td>\n",
              "      <td>00:00</td>\n",
              "    </tr>\n",
              "  </tbody>\n",
              "</table>"
            ],
            "text/plain": [
              "<IPython.core.display.HTML object>"
            ]
          },
          "metadata": {
            "tags": []
          }
        }
      ]
    },
    {
      "cell_type": "code",
      "metadata": {
        "id": "3OWTdaztLtgF"
      },
      "source": [
        "learn.unfreeze()"
      ],
      "execution_count": 401,
      "outputs": []
    },
    {
      "cell_type": "code",
      "metadata": {
        "colab": {
          "base_uri": "https://localhost:8080/",
          "height": 343
        },
        "id": "uLF6UKtNLtny",
        "outputId": "a6a6a951-1a7a-4c1f-e9ce-e95389943814"
      },
      "source": [
        "learn.fit_one_cycle(10, lr, moms=(0.8,0.7))"
      ],
      "execution_count": 402,
      "outputs": [
        {
          "output_type": "display_data",
          "data": {
            "text/html": [
              "<table border=\"1\" class=\"dataframe\">\n",
              "  <thead>\n",
              "    <tr style=\"text-align: left;\">\n",
              "      <th>epoch</th>\n",
              "      <th>train_loss</th>\n",
              "      <th>valid_loss</th>\n",
              "      <th>accuracy</th>\n",
              "      <th>time</th>\n",
              "    </tr>\n",
              "  </thead>\n",
              "  <tbody>\n",
              "    <tr>\n",
              "      <td>0</td>\n",
              "      <td>5.005364</td>\n",
              "      <td>4.729844</td>\n",
              "      <td>0.312054</td>\n",
              "      <td>00:00</td>\n",
              "    </tr>\n",
              "    <tr>\n",
              "      <td>1</td>\n",
              "      <td>4.844512</td>\n",
              "      <td>4.501637</td>\n",
              "      <td>0.310714</td>\n",
              "      <td>00:00</td>\n",
              "    </tr>\n",
              "    <tr>\n",
              "      <td>2</td>\n",
              "      <td>4.674469</td>\n",
              "      <td>4.354737</td>\n",
              "      <td>0.312500</td>\n",
              "      <td>00:00</td>\n",
              "    </tr>\n",
              "    <tr>\n",
              "      <td>3</td>\n",
              "      <td>4.415829</td>\n",
              "      <td>4.191204</td>\n",
              "      <td>0.313393</td>\n",
              "      <td>00:00</td>\n",
              "    </tr>\n",
              "    <tr>\n",
              "      <td>4</td>\n",
              "      <td>4.120901</td>\n",
              "      <td>4.174580</td>\n",
              "      <td>0.309821</td>\n",
              "      <td>00:00</td>\n",
              "    </tr>\n",
              "    <tr>\n",
              "      <td>5</td>\n",
              "      <td>3.807005</td>\n",
              "      <td>4.253040</td>\n",
              "      <td>0.311607</td>\n",
              "      <td>00:00</td>\n",
              "    </tr>\n",
              "    <tr>\n",
              "      <td>6</td>\n",
              "      <td>3.503252</td>\n",
              "      <td>4.359972</td>\n",
              "      <td>0.287500</td>\n",
              "      <td>00:00</td>\n",
              "    </tr>\n",
              "    <tr>\n",
              "      <td>7</td>\n",
              "      <td>3.220058</td>\n",
              "      <td>4.494367</td>\n",
              "      <td>0.283036</td>\n",
              "      <td>00:00</td>\n",
              "    </tr>\n",
              "    <tr>\n",
              "      <td>8</td>\n",
              "      <td>2.969972</td>\n",
              "      <td>4.548319</td>\n",
              "      <td>0.291071</td>\n",
              "      <td>00:00</td>\n",
              "    </tr>\n",
              "    <tr>\n",
              "      <td>9</td>\n",
              "      <td>2.767590</td>\n",
              "      <td>4.552797</td>\n",
              "      <td>0.285268</td>\n",
              "      <td>00:00</td>\n",
              "    </tr>\n",
              "  </tbody>\n",
              "</table>"
            ],
            "text/plain": [
              "<IPython.core.display.HTML object>"
            ]
          },
          "metadata": {
            "tags": []
          }
        }
      ]
    },
    {
      "cell_type": "code",
      "metadata": {
        "id": "MGimMDerLtzE"
      },
      "source": [
        "learn.save('fine_tuned')\n",
        "learn.save_encoder('fine_tuned_enc')"
      ],
      "execution_count": 403,
      "outputs": []
    },
    {
      "cell_type": "code",
      "metadata": {
        "id": "Ugz_IXpELtw_"
      },
      "source": [
        ""
      ],
      "execution_count": null,
      "outputs": []
    },
    {
      "cell_type": "code",
      "metadata": {
        "id": "MokS2hmxLtu9"
      },
      "source": [
        ""
      ],
      "execution_count": null,
      "outputs": []
    },
    {
      "cell_type": "code",
      "metadata": {
        "id": "pKLz4nA_LttB"
      },
      "source": [
        ""
      ],
      "execution_count": null,
      "outputs": []
    },
    {
      "cell_type": "code",
      "metadata": {
        "colab": {
          "base_uri": "https://localhost:8080/",
          "height": 374
        },
        "id": "28-fcdqNcHGh",
        "outputId": "6345497d-698d-4d50-cef5-252bff131151"
      },
      "source": [
        "\n",
        "\n",
        "# # we typically find the point where the slope is steepest\n",
        "# learn.recorder.plot()\n",
        "\n",
        "# Fit the model based on selected learning rate\n",
        "learn.fit_one_cycle(5, 1e-2, moms=(0.8,0.7))\n",
        "\n",
        "# Tune a little more\n",
        "learn.unfreeze()\n",
        "learn.fit_one_cycle(5, 1e-3, moms=(0.8,0.7))\n",
        "\n",
        "# # Save the encoder for use in classification\n",
        "learn.save_encoder('fine_tuned_enc')"
      ],
      "execution_count": 551,
      "outputs": [
        {
          "output_type": "display_data",
          "data": {
            "text/html": [
              "<table border=\"1\" class=\"dataframe\">\n",
              "  <thead>\n",
              "    <tr style=\"text-align: left;\">\n",
              "      <th>epoch</th>\n",
              "      <th>train_loss</th>\n",
              "      <th>valid_loss</th>\n",
              "      <th>accuracy</th>\n",
              "      <th>time</th>\n",
              "    </tr>\n",
              "  </thead>\n",
              "  <tbody>\n",
              "    <tr>\n",
              "      <td>0</td>\n",
              "      <td>6.501153</td>\n",
              "      <td>5.139413</td>\n",
              "      <td>0.304762</td>\n",
              "      <td>00:01</td>\n",
              "    </tr>\n",
              "    <tr>\n",
              "      <td>1</td>\n",
              "      <td>5.362646</td>\n",
              "      <td>4.031166</td>\n",
              "      <td>0.324107</td>\n",
              "      <td>00:01</td>\n",
              "    </tr>\n",
              "    <tr>\n",
              "      <td>2</td>\n",
              "      <td>4.635604</td>\n",
              "      <td>3.847102</td>\n",
              "      <td>0.325893</td>\n",
              "      <td>00:01</td>\n",
              "    </tr>\n",
              "    <tr>\n",
              "      <td>3</td>\n",
              "      <td>4.138627</td>\n",
              "      <td>3.771044</td>\n",
              "      <td>0.341964</td>\n",
              "      <td>00:01</td>\n",
              "    </tr>\n",
              "    <tr>\n",
              "      <td>4</td>\n",
              "      <td>3.796293</td>\n",
              "      <td>3.769934</td>\n",
              "      <td>0.337798</td>\n",
              "      <td>00:01</td>\n",
              "    </tr>\n",
              "  </tbody>\n",
              "</table>"
            ],
            "text/plain": [
              "<IPython.core.display.HTML object>"
            ]
          },
          "metadata": {
            "tags": []
          }
        },
        {
          "output_type": "display_data",
          "data": {
            "text/html": [
              "<table border=\"1\" class=\"dataframe\">\n",
              "  <thead>\n",
              "    <tr style=\"text-align: left;\">\n",
              "      <th>epoch</th>\n",
              "      <th>train_loss</th>\n",
              "      <th>valid_loss</th>\n",
              "      <th>accuracy</th>\n",
              "      <th>time</th>\n",
              "    </tr>\n",
              "  </thead>\n",
              "  <tbody>\n",
              "    <tr>\n",
              "      <td>0</td>\n",
              "      <td>3.256077</td>\n",
              "      <td>3.696300</td>\n",
              "      <td>0.356250</td>\n",
              "      <td>00:01</td>\n",
              "    </tr>\n",
              "    <tr>\n",
              "      <td>1</td>\n",
              "      <td>3.119638</td>\n",
              "      <td>3.674778</td>\n",
              "      <td>0.373512</td>\n",
              "      <td>00:01</td>\n",
              "    </tr>\n",
              "    <tr>\n",
              "      <td>2</td>\n",
              "      <td>2.751764</td>\n",
              "      <td>3.834324</td>\n",
              "      <td>0.357738</td>\n",
              "      <td>00:01</td>\n",
              "    </tr>\n",
              "    <tr>\n",
              "      <td>3</td>\n",
              "      <td>2.268389</td>\n",
              "      <td>4.018411</td>\n",
              "      <td>0.333631</td>\n",
              "      <td>00:01</td>\n",
              "    </tr>\n",
              "    <tr>\n",
              "      <td>4</td>\n",
              "      <td>1.868840</td>\n",
              "      <td>4.138062</td>\n",
              "      <td>0.338095</td>\n",
              "      <td>00:01</td>\n",
              "    </tr>\n",
              "  </tbody>\n",
              "</table>"
            ],
            "text/plain": [
              "<IPython.core.display.HTML object>"
            ]
          },
          "metadata": {
            "tags": []
          }
        }
      ]
    },
    {
      "cell_type": "code",
      "metadata": {
        "id": "Mr93zyhucT_5"
      },
      "source": [
        ""
      ],
      "execution_count": null,
      "outputs": []
    },
    {
      "cell_type": "markdown",
      "metadata": {
        "id": "5PlOelb1cZa9"
      },
      "source": [
        "### Refit model with classification label"
      ]
    },
    {
      "cell_type": "code",
      "metadata": {
        "colab": {
          "base_uri": "https://localhost:8080/",
          "height": 330
        },
        "id": "isSx_EvycUpf",
        "outputId": "1c0f79b8-900e-4f19-e292-11bbd1738bb0"
      },
      "source": [
        "#test_datalist = TextList.from_df(test, cols='text', vocab=data.vocab)\n",
        "data_clas = (TextList.from_df(df, cols=['text'], vocab=data.vocab)\n",
        "             .split_by_rand_pct(0.2,seed=42)\n",
        "             .label_from_df(cols= 'target')\n",
        "             .databunch(bs=48))\n",
        "\n",
        "data_clas.show_batch()"
      ],
      "execution_count": 552,
      "outputs": [
        {
          "output_type": "display_data",
          "data": {
            "text/html": [
              ""
            ],
            "text/plain": [
              "<IPython.core.display.HTML object>"
            ]
          },
          "metadata": {
            "tags": []
          }
        },
        {
          "output_type": "display_data",
          "data": {
            "text/html": [
              ""
            ],
            "text/plain": [
              "<IPython.core.display.HTML object>"
            ]
          },
          "metadata": {
            "tags": []
          }
        },
        {
          "output_type": "display_data",
          "data": {
            "text/html": [
              "<table border=\"1\" class=\"dataframe\">\n",
              "  <thead>\n",
              "    <tr style=\"text-align: right;\">\n",
              "      <th>text</th>\n",
              "      <th>target</th>\n",
              "    </tr>\n",
              "  </thead>\n",
              "  <tbody>\n",
              "    <tr>\n",
              "      <td>xxbos world markets xxunk trading accounts xxeos xxunk xxunk stock market traders while cryptocurrency investors become xxunk xxeos indian state governments blockchain xxunk now has a xxunk xxunk for blockchain startups xxeos public sale is live for coin xxunk xxunk xxunk xxunk xxunk privacy xxunk xxunk network xxeos xxunk xxunk allows telegram users to xxunk people in xxunk xxunk with any slp token xxeos xxunk xxunk crypto exchange 2 months</td>\n",
              "      <td>1</td>\n",
              "    </tr>\n",
              "    <tr>\n",
              "      <td>xxbos xxunk digital assets to xxunk bitcoin private keys for xxunk trust xxunk xxeos grayscale crypto investments add xxunk 1 billion in q2 bitcoin trust xxunk record quarter xxeos massive twitter attack apple xxunk xxunk elon musk bill xxunk xxunk xxunk xxunk xxunk bitcoin giveaway scam xxeos popular xxunk xxunk xxunk xxunk will xxunk the bitcoin xxunk while xxunk xxeos study exchanges xxunk 13 billion in bitcoin xxunk from xxunk</td>\n",
              "      <td>0</td>\n",
              "    </tr>\n",
              "    <tr>\n",
              "      <td>xxbos xxunk study xxunk us xxunk xxunk market is leading the xxunk xxeos google facebook twitter face classaction lawsuit for banning crypto xxunk xxeos xxunk enters the top 100 xxunk and launches on httpbitcoincom exchange xxeos bitcoin security xxunk how to xxunk a 2 of 2 xxunk bch wallet xxeos xxunk xxunk xxunk bitcoin xxunk xxunk calls xxunk xxunk xxunk xxeos grayscale investments bitcoin cash trust approved for public trading</td>\n",
              "      <td>1</td>\n",
              "    </tr>\n",
              "    <tr>\n",
              "      <td>xxbos bank of england still xxunk creation of central bank digital currency says xxunk xxeos investor charged in us after xxunk covid19 relief loan to trade cryptocurrency xxeos us xxunk xxunk xxunk on tools to track cryptocurrency transactions xxeos xxunk xxunk market cap xxunk xxunk of eth in xxunk by 2 billion xxeos covid19 stimulus banks will gain xxunk billion in fees for xxunk xxunk relief loans xxeos a xxunk</td>\n",
              "      <td>0</td>\n",
              "    </tr>\n",
              "    <tr>\n",
              "      <td>xxbos xxunk now xxunk xxunk holders to earn up to ten xxunk interest on their digital assets xxeos users of httpbitcoincom exchange can win rewards worth xxunk in xxunk trading competition xxeos fed chair powell reveals us response to chinas digital yuan libra public payments ledger xxeos bitcoin cash xxunk more than 10 of darknet sales last month xxeos from star xxunk to xxunk xxunk bitcoin sv xxunk to xxunk</td>\n",
              "      <td>1</td>\n",
              "    </tr>\n",
              "  </tbody>\n",
              "</table>"
            ],
            "text/plain": [
              "<IPython.core.display.HTML object>"
            ]
          },
          "metadata": {
            "tags": []
          }
        }
      ]
    },
    {
      "cell_type": "code",
      "metadata": {
        "id": "aamYGw2HqaHZ"
      },
      "source": [
        ""
      ],
      "execution_count": 60,
      "outputs": []
    },
    {
      "cell_type": "code",
      "metadata": {
        "id": "E0Jbwrrvo4Oq"
      },
      "source": [
        "learn_classifier = text_classifier_learner(data_clas, AWD_LSTM, drop_mult=0.6,metrics=[Precision(average='micro')])\n",
        "\n",
        "# load the encoder saved  \n",
        "learn_classifier.load_encoder('fine_tuned_enc')\n",
        "\n",
        "learn_classifier.freeze()"
      ],
      "execution_count": 634,
      "outputs": []
    },
    {
      "cell_type": "code",
      "metadata": {
        "colab": {
          "base_uri": "https://localhost:8080/",
          "height": 1000
        },
        "id": "0g8VUMKDqyqX",
        "outputId": "807699cb-698e-4b82-e9c6-d0dd2ed91379"
      },
      "source": [
        "# select the appropriate learning rate\n",
        "learn_classifier.lr_find()"
      ],
      "execution_count": 635,
      "outputs": [
        {
          "output_type": "display_data",
          "data": {
            "text/html": [
              "\n",
              "    <div>\n",
              "        <style>\n",
              "            /* Turns off some styling */\n",
              "            progress {\n",
              "                /* gets rid of default border in Firefox and Opera. */\n",
              "                border: none;\n",
              "                /* Needs to be in here for Safari polyfill so background images work as expected. */\n",
              "                background-size: auto;\n",
              "            }\n",
              "            .progress-bar-interrupted, .progress-bar-interrupted::-webkit-progress-bar {\n",
              "                background: #F44336;\n",
              "            }\n",
              "        </style>\n",
              "      <progress value='31' class='' max='34' style='width:300px; height:20px; vertical-align: middle;'></progress>\n",
              "      91.18% [31/34 00:09<00:00]\n",
              "    </div>\n",
              "    \n",
              "<table border=\"1\" class=\"dataframe\">\n",
              "  <thead>\n",
              "    <tr style=\"text-align: left;\">\n",
              "      <th>epoch</th>\n",
              "      <th>train_loss</th>\n",
              "      <th>valid_loss</th>\n",
              "      <th>precision</th>\n",
              "      <th>time</th>\n",
              "    </tr>\n",
              "  </thead>\n",
              "  <tbody>\n",
              "    <tr>\n",
              "      <td>0</td>\n",
              "      <td>0.805109</td>\n",
              "      <td>#na#</td>\n",
              "      <td>00:00</td>\n",
              "    </tr>\n",
              "    <tr>\n",
              "      <td>1</td>\n",
              "      <td>0.780912</td>\n",
              "      <td>#na#</td>\n",
              "      <td>00:00</td>\n",
              "    </tr>\n",
              "    <tr>\n",
              "      <td>2</td>\n",
              "      <td>0.777698</td>\n",
              "      <td>#na#</td>\n",
              "      <td>00:00</td>\n",
              "    </tr>\n",
              "    <tr>\n",
              "      <td>3</td>\n",
              "      <td>0.765855</td>\n",
              "      <td>#na#</td>\n",
              "      <td>00:00</td>\n",
              "    </tr>\n",
              "    <tr>\n",
              "      <td>4</td>\n",
              "      <td>0.756138</td>\n",
              "      <td>#na#</td>\n",
              "      <td>00:00</td>\n",
              "    </tr>\n",
              "    <tr>\n",
              "      <td>5</td>\n",
              "      <td>0.758748</td>\n",
              "      <td>#na#</td>\n",
              "      <td>00:00</td>\n",
              "    </tr>\n",
              "    <tr>\n",
              "      <td>6</td>\n",
              "      <td>0.761119</td>\n",
              "      <td>#na#</td>\n",
              "      <td>00:00</td>\n",
              "    </tr>\n",
              "    <tr>\n",
              "      <td>7</td>\n",
              "      <td>0.762435</td>\n",
              "      <td>#na#</td>\n",
              "      <td>00:00</td>\n",
              "    </tr>\n",
              "    <tr>\n",
              "      <td>8</td>\n",
              "      <td>0.769881</td>\n",
              "      <td>#na#</td>\n",
              "      <td>00:00</td>\n",
              "    </tr>\n",
              "    <tr>\n",
              "      <td>9</td>\n",
              "      <td>0.766179</td>\n",
              "      <td>#na#</td>\n",
              "      <td>00:00</td>\n",
              "    </tr>\n",
              "    <tr>\n",
              "      <td>10</td>\n",
              "      <td>0.768674</td>\n",
              "      <td>#na#</td>\n",
              "      <td>00:00</td>\n",
              "    </tr>\n",
              "    <tr>\n",
              "      <td>11</td>\n",
              "      <td>0.774945</td>\n",
              "      <td>#na#</td>\n",
              "      <td>00:00</td>\n",
              "    </tr>\n",
              "    <tr>\n",
              "      <td>12</td>\n",
              "      <td>0.781646</td>\n",
              "      <td>#na#</td>\n",
              "      <td>00:00</td>\n",
              "    </tr>\n",
              "    <tr>\n",
              "      <td>13</td>\n",
              "      <td>0.776833</td>\n",
              "      <td>#na#</td>\n",
              "      <td>00:00</td>\n",
              "    </tr>\n",
              "    <tr>\n",
              "      <td>14</td>\n",
              "      <td>0.767338</td>\n",
              "      <td>#na#</td>\n",
              "      <td>00:00</td>\n",
              "    </tr>\n",
              "    <tr>\n",
              "      <td>15</td>\n",
              "      <td>0.765713</td>\n",
              "      <td>#na#</td>\n",
              "      <td>00:00</td>\n",
              "    </tr>\n",
              "    <tr>\n",
              "      <td>16</td>\n",
              "      <td>0.761507</td>\n",
              "      <td>#na#</td>\n",
              "      <td>00:00</td>\n",
              "    </tr>\n",
              "    <tr>\n",
              "      <td>17</td>\n",
              "      <td>0.752458</td>\n",
              "      <td>#na#</td>\n",
              "      <td>00:00</td>\n",
              "    </tr>\n",
              "    <tr>\n",
              "      <td>18</td>\n",
              "      <td>0.737925</td>\n",
              "      <td>#na#</td>\n",
              "      <td>00:00</td>\n",
              "    </tr>\n",
              "    <tr>\n",
              "      <td>19</td>\n",
              "      <td>0.730207</td>\n",
              "      <td>#na#</td>\n",
              "      <td>00:00</td>\n",
              "    </tr>\n",
              "    <tr>\n",
              "      <td>20</td>\n",
              "      <td>0.721369</td>\n",
              "      <td>#na#</td>\n",
              "      <td>00:00</td>\n",
              "    </tr>\n",
              "    <tr>\n",
              "      <td>21</td>\n",
              "      <td>0.702003</td>\n",
              "      <td>#na#</td>\n",
              "      <td>00:00</td>\n",
              "    </tr>\n",
              "    <tr>\n",
              "      <td>22</td>\n",
              "      <td>0.684002</td>\n",
              "      <td>#na#</td>\n",
              "      <td>00:00</td>\n",
              "    </tr>\n",
              "    <tr>\n",
              "      <td>23</td>\n",
              "      <td>0.671542</td>\n",
              "      <td>#na#</td>\n",
              "      <td>00:00</td>\n",
              "    </tr>\n",
              "    <tr>\n",
              "      <td>24</td>\n",
              "      <td>0.654890</td>\n",
              "      <td>#na#</td>\n",
              "      <td>00:00</td>\n",
              "    </tr>\n",
              "    <tr>\n",
              "      <td>25</td>\n",
              "      <td>0.652404</td>\n",
              "      <td>#na#</td>\n",
              "      <td>00:00</td>\n",
              "    </tr>\n",
              "    <tr>\n",
              "      <td>26</td>\n",
              "      <td>0.656544</td>\n",
              "      <td>#na#</td>\n",
              "      <td>00:00</td>\n",
              "    </tr>\n",
              "    <tr>\n",
              "      <td>27</td>\n",
              "      <td>0.656363</td>\n",
              "      <td>#na#</td>\n",
              "      <td>00:00</td>\n",
              "    </tr>\n",
              "    <tr>\n",
              "      <td>28</td>\n",
              "      <td>0.700914</td>\n",
              "      <td>#na#</td>\n",
              "      <td>00:00</td>\n",
              "    </tr>\n",
              "    <tr>\n",
              "      <td>29</td>\n",
              "      <td>0.803891</td>\n",
              "      <td>#na#</td>\n",
              "      <td>00:00</td>\n",
              "    </tr>\n",
              "    <tr>\n",
              "      <td>30</td>\n",
              "      <td>1.837497</td>\n",
              "      <td>#na#</td>\n",
              "      <td>00:00</td>\n",
              "    </tr>\n",
              "  </tbody>\n",
              "</table><p>\n",
              "\n",
              "    <div>\n",
              "        <style>\n",
              "            /* Turns off some styling */\n",
              "            progress {\n",
              "                /* gets rid of default border in Firefox and Opera. */\n",
              "                border: none;\n",
              "                /* Needs to be in here for Safari polyfill so background images work as expected. */\n",
              "                background-size: auto;\n",
              "            }\n",
              "            .progress-bar-interrupted, .progress-bar-interrupted::-webkit-progress-bar {\n",
              "                background: #F44336;\n",
              "            }\n",
              "        </style>\n",
              "      <progress value='1' class='' max='3' style='width:300px; height:20px; vertical-align: middle;'></progress>\n",
              "      33.33% [1/3 00:00<00:00 2.2106]\n",
              "    </div>\n",
              "    "
            ],
            "text/plain": [
              "<IPython.core.display.HTML object>"
            ]
          },
          "metadata": {
            "tags": []
          }
        },
        {
          "output_type": "stream",
          "text": [
            "LR Finder is complete, type {learner_name}.recorder.plot() to see the graph.\n"
          ],
          "name": "stdout"
        }
      ]
    },
    {
      "cell_type": "code",
      "metadata": {
        "colab": {
          "base_uri": "https://localhost:8080/",
          "height": 279
        },
        "id": "tZD5PvElsW2T",
        "outputId": "2574efc5-c7ae-4645-909e-7ce91780e263"
      },
      "source": [
        "# we typically find the point where the slope is steepest\n",
        "learn_classifier.recorder.plot()"
      ],
      "execution_count": 636,
      "outputs": [
        {
          "output_type": "display_data",
          "data": {
            "image/png": "[encoded data removed]",
            "text/plain": [
              "<Figure size 432x288 with 1 Axes>"
            ]
          },
          "metadata": {
            "tags": [],
            "needs_background": "light"
          }
        }
      ]
    },
    {
      "cell_type": "code",
      "metadata": {
        "colab": {
          "base_uri": "https://localhost:8080/",
          "height": 77
        },
        "id": "rkEPlgA-sdtK",
        "outputId": "dc573e5d-3bc6-490c-b3c0-9cc3431d04b5"
      },
      "source": [
        "# Fit the model based on selected learning rate\n",
        "learn_classifier.fit_one_cycle(1, 2e-2, moms=(0.8,0.7))"
      ],
      "execution_count": 639,
      "outputs": [
        {
          "output_type": "display_data",
          "data": {
            "text/html": [
              "<table border=\"1\" class=\"dataframe\">\n",
              "  <thead>\n",
              "    <tr style=\"text-align: left;\">\n",
              "      <th>epoch</th>\n",
              "      <th>train_loss</th>\n",
              "      <th>valid_loss</th>\n",
              "      <th>precision</th>\n",
              "      <th>time</th>\n",
              "    </tr>\n",
              "  </thead>\n",
              "  <tbody>\n",
              "    <tr>\n",
              "      <td>0</td>\n",
              "      <td>0.730733</td>\n",
              "      <td>0.798756</td>\n",
              "      <td>0.425532</td>\n",
              "      <td>00:00</td>\n",
              "    </tr>\n",
              "  </tbody>\n",
              "</table>"
            ],
            "text/plain": [
              "<IPython.core.display.HTML object>"
            ]
          },
          "metadata": {
            "tags": []
          }
        }
      ]
    },
    {
      "cell_type": "code",
      "metadata": {
        "colab": {
          "base_uri": "https://localhost:8080/",
          "height": 77
        },
        "id": "0TCSk5QIsi6v",
        "outputId": "8908bee4-6dc9-46ef-b468-b90907904091"
      },
      "source": [
        "# Tune a little more\n",
        "learn_classifier.freeze_to(-2)\n",
        "learn_classifier.fit_one_cycle(1, slice(1e-2/(2.6**4),1e-2), moms=(0.8,0.7))"
      ],
      "execution_count": 640,
      "outputs": [
        {
          "output_type": "display_data",
          "data": {
            "text/html": [
              "<table border=\"1\" class=\"dataframe\">\n",
              "  <thead>\n",
              "    <tr style=\"text-align: left;\">\n",
              "      <th>epoch</th>\n",
              "      <th>train_loss</th>\n",
              "      <th>valid_loss</th>\n",
              "      <th>precision</th>\n",
              "      <th>time</th>\n",
              "    </tr>\n",
              "  </thead>\n",
              "  <tbody>\n",
              "    <tr>\n",
              "      <td>0</td>\n",
              "      <td>0.623243</td>\n",
              "      <td>1.063565</td>\n",
              "      <td>0.468085</td>\n",
              "      <td>00:00</td>\n",
              "    </tr>\n",
              "  </tbody>\n",
              "</table>"
            ],
            "text/plain": [
              "<IPython.core.display.HTML object>"
            ]
          },
          "metadata": {
            "tags": []
          }
        }
      ]
    },
    {
      "cell_type": "code",
      "metadata": {
        "colab": {
          "base_uri": "https://localhost:8080/",
          "height": 77
        },
        "id": "NJv-deg4tGzD",
        "outputId": "e347988b-d4c8-453e-e539-78c4683bef91"
      },
      "source": [
        "# Tune a little more\n",
        "learn_classifier.freeze_to(-3)\n",
        "learn_classifier.fit_one_cycle(1, slice(5e-3/(2.6**4),5e-3), moms=(0.8,0.7))"
      ],
      "execution_count": 644,
      "outputs": [
        {
          "output_type": "display_data",
          "data": {
            "text/html": [
              "<table border=\"1\" class=\"dataframe\">\n",
              "  <thead>\n",
              "    <tr style=\"text-align: left;\">\n",
              "      <th>epoch</th>\n",
              "      <th>train_loss</th>\n",
              "      <th>valid_loss</th>\n",
              "      <th>precision</th>\n",
              "      <th>time</th>\n",
              "    </tr>\n",
              "  </thead>\n",
              "  <tbody>\n",
              "    <tr>\n",
              "      <td>0</td>\n",
              "      <td>0.529739</td>\n",
              "      <td>0.928259</td>\n",
              "      <td>0.425532</td>\n",
              "      <td>00:00</td>\n",
              "    </tr>\n",
              "  </tbody>\n",
              "</table>"
            ],
            "text/plain": [
              "<IPython.core.display.HTML object>"
            ]
          },
          "metadata": {
            "tags": []
          }
        }
      ]
    },
    {
      "cell_type": "code",
      "metadata": {
        "colab": {
          "base_uri": "https://localhost:8080/",
          "height": 195
        },
        "id": "oIGDWRCYtmoj",
        "outputId": "1ec1c1a6-e934-4b30-9eef-50e11c177cbf"
      },
      "source": [
        "#learn_classifier.unfreeze()\n",
        "learn_classifier.fit_one_cycle(5, slice(2e-3/(2.6**4),2e-3), moms=(0.8,0.7))"
      ],
      "execution_count": 650,
      "outputs": [
        {
          "output_type": "display_data",
          "data": {
            "text/html": [
              "<table border=\"1\" class=\"dataframe\">\n",
              "  <thead>\n",
              "    <tr style=\"text-align: left;\">\n",
              "      <th>epoch</th>\n",
              "      <th>train_loss</th>\n",
              "      <th>valid_loss</th>\n",
              "      <th>precision</th>\n",
              "      <th>time</th>\n",
              "    </tr>\n",
              "  </thead>\n",
              "  <tbody>\n",
              "    <tr>\n",
              "      <td>0</td>\n",
              "      <td>0.195995</td>\n",
              "      <td>0.844209</td>\n",
              "      <td>0.574468</td>\n",
              "      <td>00:00</td>\n",
              "    </tr>\n",
              "    <tr>\n",
              "      <td>1</td>\n",
              "      <td>0.203365</td>\n",
              "      <td>0.790378</td>\n",
              "      <td>0.638298</td>\n",
              "      <td>00:00</td>\n",
              "    </tr>\n",
              "    <tr>\n",
              "      <td>2</td>\n",
              "      <td>0.206876</td>\n",
              "      <td>0.788123</td>\n",
              "      <td>0.638298</td>\n",
              "      <td>00:00</td>\n",
              "    </tr>\n",
              "    <tr>\n",
              "      <td>3</td>\n",
              "      <td>0.187807</td>\n",
              "      <td>0.807653</td>\n",
              "      <td>0.659575</td>\n",
              "      <td>00:00</td>\n",
              "    </tr>\n",
              "    <tr>\n",
              "      <td>4</td>\n",
              "      <td>0.190731</td>\n",
              "      <td>0.817091</td>\n",
              "      <td>0.659575</td>\n",
              "      <td>00:00</td>\n",
              "    </tr>\n",
              "  </tbody>\n",
              "</table>"
            ],
            "text/plain": [
              "<IPython.core.display.HTML object>"
            ]
          },
          "metadata": {
            "tags": []
          }
        }
      ]
    },
    {
      "cell_type": "code",
      "metadata": {
        "colab": {
          "base_uri": "https://localhost:8080/",
          "height": 363
        },
        "id": "qCtHVMU_iK2p",
        "outputId": "22dab40d-5d42-48fe-e90b-bdd8414e20a4"
      },
      "source": [
        "learn_classifier.show_results()"
      ],
      "execution_count": 651,
      "outputs": [
        {
          "output_type": "display_data",
          "data": {
            "text/html": [
              "<table border=\"1\" class=\"dataframe\">\n",
              "  <thead>\n",
              "    <tr style=\"text-align: right;\">\n",
              "      <th>text</th>\n",
              "      <th>target</th>\n",
              "      <th>prediction</th>\n",
              "    </tr>\n",
              "  </thead>\n",
              "  <tbody>\n",
              "    <tr>\n",
              "      <td>xxbos bitcoin an option as xxunk xxunk says xxunk s xxunk xxunk gold market xxeos indian government confirms crypto bill is xxunk approval xxeos crypto exchange xxunk xxunk to list on xxunk in xxunk xxeos bitcoin exchange reserves drop to a xxunk low xxunk bullish xxunk xxeos bitcoin cash xxunk launches xxunk xxunk xxunk to celebrate the xxunk bch xxunk xxeos stimulus is xxunk global banks to xxunk support xxunk</td>\n",
              "      <td>1</td>\n",
              "      <td>1</td>\n",
              "    </tr>\n",
              "    <tr>\n",
              "      <td>xxbos 14 m in bitcoin transactions new high for xxunk as xxunk in the xxunk xxunk xxeos chinas xxunk xxunk service xxunk to xxunk the central banks digital yuan xxeos xxunk token is live on xxunk the leading european bitcoin exchange xxeos xxunk xxunk xxunk xxunk xxunk last xxunk post was about bitcoin xxeos bitcoin is not a privacy coin says crypto xxunk xxunk xxunk xxeos john mcafee launches xxunk</td>\n",
              "      <td>0</td>\n",
              "      <td>0</td>\n",
              "    </tr>\n",
              "    <tr>\n",
              "      <td>xxbos australian xxunk xxunk two years for xxunk 3 xxrep 5 0 worth of xrp xxeos russia xxunk xxunk system to monitor cryptocurrency transactions xxunk now in use xxeos xxunk xxunk xxunk to xxunk tax in cryptocurrency xxunk xxeos defi project xxunk finance sees over 500 m xxunk in 24 hours devs reveal contract xxunk xxeos high fees make btc less xxunk for xxunk in africa xxunk xxunk xxunk xxunk</td>\n",
              "      <td>1</td>\n",
              "      <td>1</td>\n",
              "    </tr>\n",
              "    <tr>\n",
              "      <td>xxbos bitcoin xxunk launches xxunk xxunk as xxunk xxunk toward xxunk its own digital currency xxeos bitcoin xxunk xxunk xxunk billion worth of btc for just 7 xxeos dollar crash imminent former xxunk xxunk xxunk xxunk xxunk xxunk predicts xxeos crypto card xxunk xxunk missing xxunk billion cash company shares plunge xxunk xxeos how bitcoin of xxunk xxunk xxunk program xxunk xxunk the xxunk of xxunk a million dollars to</td>\n",
              "      <td>0</td>\n",
              "      <td>1</td>\n",
              "    </tr>\n",
              "    <tr>\n",
              "      <td>xxbos xxunk value xxunk is now xxunk by stablecoins xxeos us bank xxunk sees growth in crypto xxunk despite xxunk xxunk from the xxunk xxeos google xxunk from india joins coinbase as xxunk xxunk xxunk xxeos xxunk token is now xxunk for trading on httpbitcoincom exchange and users can win 1 million xxunk xxeos bank xxunk expands xxunk of crypto assets to offer trading and xxunk services for bitcoin cash</td>\n",
              "      <td>0</td>\n",
              "      <td>1</td>\n",
              "    </tr>\n",
              "  </tbody>\n",
              "</table>"
            ],
            "text/plain": [
              "<IPython.core.display.HTML object>"
            ]
          },
          "metadata": {
            "tags": []
          }
        }
      ]
    },
    {
      "cell_type": "code",
      "metadata": {
        "colab": {
          "base_uri": "https://localhost:8080/",
          "height": 311
        },
        "id": "5cwCm44YcUsj",
        "outputId": "bd6a09eb-648c-45d2-d3ea-30835ebe3e64"
      },
      "source": [
        "interp = ClassificationInterpretation.from_learner(learn_classifier)\n",
        "interp.plot_confusion_matrix()"
      ],
      "execution_count": 652,
      "outputs": [
        {
          "output_type": "display_data",
          "data": {
            "text/html": [
              ""
            ],
            "text/plain": [
              "<IPython.core.display.HTML object>"
            ]
          },
          "metadata": {
            "tags": []
          }
        },
        {
          "output_type": "display_data",
          "data": {
            "image/png": "[encoded data removed]",
            "text/plain": [
              "<Figure size 432x288 with 1 Axes>"
            ]
          },
          "metadata": {
            "tags": [],
            "needs_background": "light"
          }
        }
      ]
    },
    {
      "cell_type": "code",
      "metadata": {
        "id": "euJxGBdfzm1p"
      },
      "source": [
        "y_valid = interp.data.valid_ds.y.items"
      ],
      "execution_count": 576,
      "outputs": []
    },
    {
      "cell_type": "code",
      "metadata": {
        "id": "m3N32Zu-1y91"
      },
      "source": [
        "y_pred = interp.pred_class.numpy()"
      ],
      "execution_count": 577,
      "outputs": []
    },
    {
      "cell_type": "code",
      "metadata": {
        "colab": {
          "base_uri": "https://localhost:8080/"
        },
        "id": "15-P73rcFNuF",
        "outputId": "a31bc760-bda6-4c90-90ec-0599a72b43ff"
      },
      "source": [
        "from sklearn.metrics import classification_report\n",
        "print(classification_report(y_valid,\n",
        "                            y_pred,\n",
        "                            target_names= ['0', '1']))\n"
      ],
      "execution_count": 653,
      "outputs": [
        {
          "output_type": "stream",
          "text": [
            "              precision    recall  f1-score   support\n",
            "\n",
            "           0       0.78      0.64      0.71        28\n",
            "           1       0.58      0.74      0.65        19\n",
            "\n",
            "    accuracy                           0.68        47\n",
            "   macro avg       0.68      0.69      0.68        47\n",
            "weighted avg       0.70      0.68      0.68        47\n",
            "\n"
          ],
          "name": "stdout"
        }
      ]
    },
    {
      "cell_type": "code",
      "metadata": {
        "id": "TTccy-y0cUxl"
      },
      "source": [
        "from sklearn.metrics import roc_curve\n",
        "false_positive_rate, true_positive_rate, threshold = roc_curve(y_valid,\n",
        "                                                               y_pred)"
      ],
      "execution_count": 180,
      "outputs": []
    },
    {
      "cell_type": "code",
      "metadata": {
        "id": "Q-qmdiRscU0V"
      },
      "source": [
        ""
      ],
      "execution_count": null,
      "outputs": []
    },
    {
      "cell_type": "code",
      "metadata": {
        "id": "uPxTlEWmcU3S"
      },
      "source": [
        ""
      ],
      "execution_count": null,
      "outputs": []
    },
    {
      "cell_type": "code",
      "metadata": {
        "id": "-OBbIqKpcU6p"
      },
      "source": [
        ""
      ],
      "execution_count": null,
      "outputs": []
    }
  ]
}
