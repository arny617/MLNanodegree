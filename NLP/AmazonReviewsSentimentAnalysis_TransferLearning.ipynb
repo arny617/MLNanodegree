{
  "nbformat": 4,
  "nbformat_minor": 0,
  "metadata": {
    "colab": {
      "name": "AmazonReviewsSentimentAnalysis_TransferLearning.ipynb",
      "provenance": [],
      "collapsed_sections": [],
      "authorship_tag": "ABX9TyPzF4ZfTvMvehi3ExeaIxUw",
      "include_colab_link": true
    },
    "kernelspec": {
      "name": "python3",
      "display_name": "Python 3"
    },
    "accelerator": "GPU",
    "widgets": {
      "application/vnd.jupyter.widget-state+json": {
        "4d5219c2735543e08e615e115f17abea": {
          "model_module": "@jupyter-widgets/controls",
          "model_name": "HBoxModel",
          "state": {
            "_view_name": "HBoxView",
            "_dom_classes": [],
            "_model_name": "HBoxModel",
            "_view_module": "@jupyter-widgets/controls",
            "_model_module_version": "1.5.0",
            "_view_count": null,
            "_view_module_version": "1.5.0",
            "box_style": "",
            "layout": "IPY_MODEL_d5b0a6e8d3614e5fa89bd6abbea7a389",
            "_model_module": "@jupyter-widgets/controls",
            "children": [
              "IPY_MODEL_62eef5fba3184e998896b8aa6c868dd0",
              "IPY_MODEL_041a4b84cc574574886b9c5e73f7dfdb"
            ]
          }
        },
        "d5b0a6e8d3614e5fa89bd6abbea7a389": {
          "model_module": "@jupyter-widgets/base",
          "model_name": "LayoutModel",
          "state": {
            "_view_name": "LayoutView",
            "grid_template_rows": null,
            "right": null,
            "justify_content": null,
            "_view_module": "@jupyter-widgets/base",
            "overflow": null,
            "_model_module_version": "1.2.0",
            "_view_count": null,
            "flex_flow": null,
            "width": null,
            "min_width": null,
            "border": null,
            "align_items": null,
            "bottom": null,
            "_model_module": "@jupyter-widgets/base",
            "top": null,
            "grid_column": null,
            "overflow_y": null,
            "overflow_x": null,
            "grid_auto_flow": null,
            "grid_area": null,
            "grid_template_columns": null,
            "flex": null,
            "_model_name": "LayoutModel",
            "justify_items": null,
            "grid_row": null,
            "max_height": null,
            "align_content": null,
            "visibility": null,
            "align_self": null,
            "height": null,
            "min_height": null,
            "padding": null,
            "grid_auto_rows": null,
            "grid_gap": null,
            "max_width": null,
            "order": null,
            "_view_module_version": "1.2.0",
            "grid_template_areas": null,
            "object_position": null,
            "object_fit": null,
            "grid_auto_columns": null,
            "margin": null,
            "display": null,
            "left": null
          }
        },
        "62eef5fba3184e998896b8aa6c868dd0": {
          "model_module": "@jupyter-widgets/controls",
          "model_name": "FloatProgressModel",
          "state": {
            "_view_name": "ProgressView",
            "style": "IPY_MODEL_27545292aa9148a4b1cb7e981ee480d4",
            "_dom_classes": [],
            "description": "100%",
            "_model_name": "FloatProgressModel",
            "bar_style": "success",
            "max": 200000,
            "_view_module": "@jupyter-widgets/controls",
            "_model_module_version": "1.5.0",
            "value": 200000,
            "_view_count": null,
            "_view_module_version": "1.5.0",
            "orientation": "horizontal",
            "min": 0,
            "description_tooltip": null,
            "_model_module": "@jupyter-widgets/controls",
            "layout": "IPY_MODEL_5ca5cae698a04f469e92e2fee62c6110"
          }
        },
        "041a4b84cc574574886b9c5e73f7dfdb": {
          "model_module": "@jupyter-widgets/controls",
          "model_name": "HTMLModel",
          "state": {
            "_view_name": "HTMLView",
            "style": "IPY_MODEL_dbbfeb80ac0f4268b81c3edd0ac1d009",
            "_dom_classes": [],
            "description": "",
            "_model_name": "HTMLModel",
            "placeholder": "​",
            "_view_module": "@jupyter-widgets/controls",
            "_model_module_version": "1.5.0",
            "value": " 200000/200000 [00:59&lt;00:00, 3381.30it/s]",
            "_view_count": null,
            "_view_module_version": "1.5.0",
            "description_tooltip": null,
            "_model_module": "@jupyter-widgets/controls",
            "layout": "IPY_MODEL_c77bc7a0310b4443bd8655cf705b37d2"
          }
        },
        "27545292aa9148a4b1cb7e981ee480d4": {
          "model_module": "@jupyter-widgets/controls",
          "model_name": "ProgressStyleModel",
          "state": {
            "_view_name": "StyleView",
            "_model_name": "ProgressStyleModel",
            "description_width": "initial",
            "_view_module": "@jupyter-widgets/base",
            "_model_module_version": "1.5.0",
            "_view_count": null,
            "_view_module_version": "1.2.0",
            "bar_color": null,
            "_model_module": "@jupyter-widgets/controls"
          }
        },
        "5ca5cae698a04f469e92e2fee62c6110": {
          "model_module": "@jupyter-widgets/base",
          "model_name": "LayoutModel",
          "state": {
            "_view_name": "LayoutView",
            "grid_template_rows": null,
            "right": null,
            "justify_content": null,
            "_view_module": "@jupyter-widgets/base",
            "overflow": null,
            "_model_module_version": "1.2.0",
            "_view_count": null,
            "flex_flow": null,
            "width": null,
            "min_width": null,
            "border": null,
            "align_items": null,
            "bottom": null,
            "_model_module": "@jupyter-widgets/base",
            "top": null,
            "grid_column": null,
            "overflow_y": null,
            "overflow_x": null,
            "grid_auto_flow": null,
            "grid_area": null,
            "grid_template_columns": null,
            "flex": null,
            "_model_name": "LayoutModel",
            "justify_items": null,
            "grid_row": null,
            "max_height": null,
            "align_content": null,
            "visibility": null,
            "align_self": null,
            "height": null,
            "min_height": null,
            "padding": null,
            "grid_auto_rows": null,
            "grid_gap": null,
            "max_width": null,
            "order": null,
            "_view_module_version": "1.2.0",
            "grid_template_areas": null,
            "object_position": null,
            "object_fit": null,
            "grid_auto_columns": null,
            "margin": null,
            "display": null,
            "left": null
          }
        },
        "dbbfeb80ac0f4268b81c3edd0ac1d009": {
          "model_module": "@jupyter-widgets/controls",
          "model_name": "DescriptionStyleModel",
          "state": {
            "_view_name": "StyleView",
            "_model_name": "DescriptionStyleModel",
            "description_width": "",
            "_view_module": "@jupyter-widgets/base",
            "_model_module_version": "1.5.0",
            "_view_count": null,
            "_view_module_version": "1.2.0",
            "_model_module": "@jupyter-widgets/controls"
          }
        },
        "c77bc7a0310b4443bd8655cf705b37d2": {
          "model_module": "@jupyter-widgets/base",
          "model_name": "LayoutModel",
          "state": {
            "_view_name": "LayoutView",
            "grid_template_rows": null,
            "right": null,
            "justify_content": null,
            "_view_module": "@jupyter-widgets/base",
            "overflow": null,
            "_model_module_version": "1.2.0",
            "_view_count": null,
            "flex_flow": null,
            "width": null,
            "min_width": null,
            "border": null,
            "align_items": null,
            "bottom": null,
            "_model_module": "@jupyter-widgets/base",
            "top": null,
            "grid_column": null,
            "overflow_y": null,
            "overflow_x": null,
            "grid_auto_flow": null,
            "grid_area": null,
            "grid_template_columns": null,
            "flex": null,
            "_model_name": "LayoutModel",
            "justify_items": null,
            "grid_row": null,
            "max_height": null,
            "align_content": null,
            "visibility": null,
            "align_self": null,
            "height": null,
            "min_height": null,
            "padding": null,
            "grid_auto_rows": null,
            "grid_gap": null,
            "max_width": null,
            "order": null,
            "_view_module_version": "1.2.0",
            "grid_template_areas": null,
            "object_position": null,
            "object_fit": null,
            "grid_auto_columns": null,
            "margin": null,
            "display": null,
            "left": null
          }
        },
        "f65ce3cc75d2464f9a6252bacf44569d": {
          "model_module": "@jupyter-widgets/controls",
          "model_name": "HBoxModel",
          "state": {
            "_view_name": "HBoxView",
            "_dom_classes": [],
            "_model_name": "HBoxModel",
            "_view_module": "@jupyter-widgets/controls",
            "_model_module_version": "1.5.0",
            "_view_count": null,
            "_view_module_version": "1.5.0",
            "box_style": "",
            "layout": "IPY_MODEL_f76a129ed2e04760a42932a103a43441",
            "_model_module": "@jupyter-widgets/controls",
            "children": [
              "IPY_MODEL_7a2bf961d96947a9b2f21e3ff2bbe45c",
              "IPY_MODEL_e57e1360e5ac4b0da67f6a24b7568633"
            ]
          }
        },
        "f76a129ed2e04760a42932a103a43441": {
          "model_module": "@jupyter-widgets/base",
          "model_name": "LayoutModel",
          "state": {
            "_view_name": "LayoutView",
            "grid_template_rows": null,
            "right": null,
            "justify_content": null,
            "_view_module": "@jupyter-widgets/base",
            "overflow": null,
            "_model_module_version": "1.2.0",
            "_view_count": null,
            "flex_flow": null,
            "width": null,
            "min_width": null,
            "border": null,
            "align_items": null,
            "bottom": null,
            "_model_module": "@jupyter-widgets/base",
            "top": null,
            "grid_column": null,
            "overflow_y": null,
            "overflow_x": null,
            "grid_auto_flow": null,
            "grid_area": null,
            "grid_template_columns": null,
            "flex": null,
            "_model_name": "LayoutModel",
            "justify_items": null,
            "grid_row": null,
            "max_height": null,
            "align_content": null,
            "visibility": null,
            "align_self": null,
            "height": null,
            "min_height": null,
            "padding": null,
            "grid_auto_rows": null,
            "grid_gap": null,
            "max_width": null,
            "order": null,
            "_view_module_version": "1.2.0",
            "grid_template_areas": null,
            "object_position": null,
            "object_fit": null,
            "grid_auto_columns": null,
            "margin": null,
            "display": null,
            "left": null
          }
        },
        "7a2bf961d96947a9b2f21e3ff2bbe45c": {
          "model_module": "@jupyter-widgets/controls",
          "model_name": "FloatProgressModel",
          "state": {
            "_view_name": "ProgressView",
            "style": "IPY_MODEL_9eb767a006d54bff9b11744c8965bc02",
            "_dom_classes": [],
            "description": "100%",
            "_model_name": "FloatProgressModel",
            "bar_style": "success",
            "max": 20000,
            "_view_module": "@jupyter-widgets/controls",
            "_model_module_version": "1.5.0",
            "value": 20000,
            "_view_count": null,
            "_view_module_version": "1.5.0",
            "orientation": "horizontal",
            "min": 0,
            "description_tooltip": null,
            "_model_module": "@jupyter-widgets/controls",
            "layout": "IPY_MODEL_3feca739585d4c8a91bfdc2495073cd1"
          }
        },
        "e57e1360e5ac4b0da67f6a24b7568633": {
          "model_module": "@jupyter-widgets/controls",
          "model_name": "HTMLModel",
          "state": {
            "_view_name": "HTMLView",
            "style": "IPY_MODEL_20f189b1bf7641beafba773ce2ee2417",
            "_dom_classes": [],
            "description": "",
            "_model_name": "HTMLModel",
            "placeholder": "​",
            "_view_module": "@jupyter-widgets/controls",
            "_model_module_version": "1.5.0",
            "value": " 20000/20000 [00:08&lt;00:00, 2381.92it/s]",
            "_view_count": null,
            "_view_module_version": "1.5.0",
            "description_tooltip": null,
            "_model_module": "@jupyter-widgets/controls",
            "layout": "IPY_MODEL_8c986a86ad534357b39fc0409ab52669"
          }
        },
        "9eb767a006d54bff9b11744c8965bc02": {
          "model_module": "@jupyter-widgets/controls",
          "model_name": "ProgressStyleModel",
          "state": {
            "_view_name": "StyleView",
            "_model_name": "ProgressStyleModel",
            "description_width": "initial",
            "_view_module": "@jupyter-widgets/base",
            "_model_module_version": "1.5.0",
            "_view_count": null,
            "_view_module_version": "1.2.0",
            "bar_color": null,
            "_model_module": "@jupyter-widgets/controls"
          }
        },
        "3feca739585d4c8a91bfdc2495073cd1": {
          "model_module": "@jupyter-widgets/base",
          "model_name": "LayoutModel",
          "state": {
            "_view_name": "LayoutView",
            "grid_template_rows": null,
            "right": null,
            "justify_content": null,
            "_view_module": "@jupyter-widgets/base",
            "overflow": null,
            "_model_module_version": "1.2.0",
            "_view_count": null,
            "flex_flow": null,
            "width": null,
            "min_width": null,
            "border": null,
            "align_items": null,
            "bottom": null,
            "_model_module": "@jupyter-widgets/base",
            "top": null,
            "grid_column": null,
            "overflow_y": null,
            "overflow_x": null,
            "grid_auto_flow": null,
            "grid_area": null,
            "grid_template_columns": null,
            "flex": null,
            "_model_name": "LayoutModel",
            "justify_items": null,
            "grid_row": null,
            "max_height": null,
            "align_content": null,
            "visibility": null,
            "align_self": null,
            "height": null,
            "min_height": null,
            "padding": null,
            "grid_auto_rows": null,
            "grid_gap": null,
            "max_width": null,
            "order": null,
            "_view_module_version": "1.2.0",
            "grid_template_areas": null,
            "object_position": null,
            "object_fit": null,
            "grid_auto_columns": null,
            "margin": null,
            "display": null,
            "left": null
          }
        },
        "20f189b1bf7641beafba773ce2ee2417": {
          "model_module": "@jupyter-widgets/controls",
          "model_name": "DescriptionStyleModel",
          "state": {
            "_view_name": "StyleView",
            "_model_name": "DescriptionStyleModel",
            "description_width": "",
            "_view_module": "@jupyter-widgets/base",
            "_model_module_version": "1.5.0",
            "_view_count": null,
            "_view_module_version": "1.2.0",
            "_model_module": "@jupyter-widgets/controls"
          }
        },
        "8c986a86ad534357b39fc0409ab52669": {
          "model_module": "@jupyter-widgets/base",
          "model_name": "LayoutModel",
          "state": {
            "_view_name": "LayoutView",
            "grid_template_rows": null,
            "right": null,
            "justify_content": null,
            "_view_module": "@jupyter-widgets/base",
            "overflow": null,
            "_model_module_version": "1.2.0",
            "_view_count": null,
            "flex_flow": null,
            "width": null,
            "min_width": null,
            "border": null,
            "align_items": null,
            "bottom": null,
            "_model_module": "@jupyter-widgets/base",
            "top": null,
            "grid_column": null,
            "overflow_y": null,
            "overflow_x": null,
            "grid_auto_flow": null,
            "grid_area": null,
            "grid_template_columns": null,
            "flex": null,
            "_model_name": "LayoutModel",
            "justify_items": null,
            "grid_row": null,
            "max_height": null,
            "align_content": null,
            "visibility": null,
            "align_self": null,
            "height": null,
            "min_height": null,
            "padding": null,
            "grid_auto_rows": null,
            "grid_gap": null,
            "max_width": null,
            "order": null,
            "_view_module_version": "1.2.0",
            "grid_template_areas": null,
            "object_position": null,
            "object_fit": null,
            "grid_auto_columns": null,
            "margin": null,
            "display": null,
            "left": null
          }
        }
      }
    }
  },
  "cells": [
    {
      "cell_type": "markdown",
      "metadata": {
        "id": "view-in-github",
        "colab_type": "text"
      },
      "source": [
        "<a href=\"https://colab.research.google.com/github/arny617/MLNanodegree/blob/master/AmazonReviewsSentimentAnalysis_TransferLearning.ipynb\" target=\"_parent\"><img src=\"https://colab.research.google.com/assets/colab-badge.svg\" alt=\"Open In Colab\"/></a>"
      ]
    },
    {
      "cell_type": "code",
      "metadata": {
        "id": "a3gCwX7txlFp",
        "colab": {
          "base_uri": "https://localhost:8080/"
        },
        "outputId": "5656d837-21ff-485c-c80c-786c580ac650"
      },
      "source": [
        "import os\n",
        "from google.colab import drive\n",
        "drive.mount('/content/gdrive')\n",
        "ROOT = \"/content/gdrive/My Drive/Colab Notebooks/\"\n",
        "os.chdir(ROOT)"
      ],
      "execution_count": 2,
      "outputs": [
        {
          "output_type": "stream",
          "text": [
            "Drive already mounted at /content/gdrive; to attempt to forcibly remount, call drive.mount(\"/content/gdrive\", force_remount=True).\n"
          ],
          "name": "stdout"
        }
      ]
    },
    {
      "cell_type": "code",
      "metadata": {
        "id": "O6EzX0wmxY13",
        "colab": {
          "base_uri": "https://localhost:8080/"
        },
        "outputId": "babcae0b-46ce-4221-b02b-fa383a15df33"
      },
      "source": [
        "import bz2\n",
        "from collections import Counter\n",
        "import re\n",
        "import nltk\n",
        "import numpy as np\n",
        "nltk.download('punkt')\n",
        "import gensim\n",
        "from gensim.utils import simple_preprocess\n",
        "from gensim.parsing.preprocessing import STOPWORDS"
      ],
      "execution_count": 3,
      "outputs": [
        {
          "output_type": "stream",
          "text": [
            "[nltk_data] Downloading package punkt to /root/nltk_data...\n",
            "[nltk_data]   Package punkt is already up-to-date!\n"
          ],
          "name": "stdout"
        }
      ]
    },
    {
      "cell_type": "code",
      "metadata": {
        "id": "ypzNnSH4x0hH"
      },
      "source": [
        "train = bz2.BZ2File('./SentimentAnalysis/train.ft.txt.bz2')\n",
        "test = bz2.BZ2File('./SentimentAnalysis/test.ft.txt.bz2')"
      ],
      "execution_count": 5,
      "outputs": []
    },
    {
      "cell_type": "code",
      "metadata": {
        "id": "uZvC8pBFyEaG"
      },
      "source": [
        "train = train.readlines()\n",
        "test = test.readlines()"
      ],
      "execution_count": 6,
      "outputs": []
    },
    {
      "cell_type": "code",
      "metadata": {
        "id": "R5RhHHlwyNnJ",
        "colab": {
          "base_uri": "https://localhost:8080/"
        },
        "outputId": "92f6ed1f-6dec-44b0-8dce-e25e0394d5d3"
      },
      "source": [
        "print(\"No. of training reivews: \" + str(len(train)))\n",
        "print(\"No. of test reviews: \" + str(len(test)))"
      ],
      "execution_count": 7,
      "outputs": [
        {
          "output_type": "stream",
          "text": [
            "No. of training reivews: 3600000\n",
            "No. of test reviews: 400000\n"
          ],
          "name": "stdout"
        }
      ]
    },
    {
      "cell_type": "code",
      "metadata": {
        "id": "E67ab22-2Ywr"
      },
      "source": [
        "num_train = 200000\n",
        "num_test = 20000\n",
        "\n",
        "train_data = [x.decode('utf-8') for x in train[:num_train]]\n",
        "test_data = [x.decode('utf-8') for x in test[:num_test]]"
      ],
      "execution_count": 8,
      "outputs": []
    },
    {
      "cell_type": "code",
      "metadata": {
        "id": "O0eQV2yu4JkX"
      },
      "source": [
        "#train_data[:-1]"
      ],
      "execution_count": null,
      "outputs": []
    },
    {
      "cell_type": "code",
      "metadata": {
        "id": "2X0o6q-EEhGM"
      },
      "source": [
        "### Positive labels: 1, Negative: 0\n",
        "trainLabels = [1 if x.split(' ')[0] == '__label__1' else 0 for x in train_data]\n",
        "trainText = [x.split(' ', 1)[1][:-1].lower() for x in train_data]"
      ],
      "execution_count": 9,
      "outputs": []
    },
    {
      "cell_type": "code",
      "metadata": {
        "id": "FkVVqLAB2Zm-"
      },
      "source": [
        "### Positive labels: 1, Negative: 0\n",
        "testLabels = [1 if x.split(' ')[0] == '__label__1' else 0 for x in test_data]\n",
        "testText = [x.split(' ', 1)[1][:-1].lower() for x in test_data]"
      ],
      "execution_count": 10,
      "outputs": []
    },
    {
      "cell_type": "code",
      "metadata": {
        "id": "-Kag11J-2Zpx",
        "colab": {
          "base_uri": "https://localhost:8080/"
        },
        "outputId": "892ac0fe-9963-44d9-e514-d2eb092d196a"
      },
      "source": [
        "nltk.download('stopwords')\n",
        "from nltk.corpus import stopwords as sw\n",
        "stopwords = sw.words(\"english\")\n",
        "from tqdm import tqdm_notebook"
      ],
      "execution_count": 11,
      "outputs": [
        {
          "output_type": "stream",
          "text": [
            "[nltk_data] Downloading package stopwords to /root/nltk_data...\n",
            "[nltk_data]   Package stopwords is already up-to-date!\n"
          ],
          "name": "stdout"
        }
      ]
    },
    {
      "cell_type": "code",
      "metadata": {
        "id": "dqUUtEg32ZsX"
      },
      "source": [
        "def cleanText(text):\n",
        "  for i in tqdm_notebook(range(len(text))):\n",
        "      elem = [x for x in simple_preprocess(text[i],deacc = True) if x not in stopwords]\n",
        "      text[i] = elem\n",
        "  return text"
      ],
      "execution_count": 12,
      "outputs": []
    },
    {
      "cell_type": "code",
      "metadata": {
        "id": "xc4ISwoE2Zu-",
        "colab": {
          "base_uri": "https://localhost:8080/",
          "height": 116,
          "referenced_widgets": [
            "4d5219c2735543e08e615e115f17abea",
            "d5b0a6e8d3614e5fa89bd6abbea7a389",
            "62eef5fba3184e998896b8aa6c868dd0",
            "041a4b84cc574574886b9c5e73f7dfdb",
            "27545292aa9148a4b1cb7e981ee480d4",
            "5ca5cae698a04f469e92e2fee62c6110",
            "dbbfeb80ac0f4268b81c3edd0ac1d009",
            "c77bc7a0310b4443bd8655cf705b37d2"
          ]
        },
        "outputId": "0e9be719-8e46-4d18-a592-03248a39dd4e"
      },
      "source": [
        "trainText = cleanText(trainText)"
      ],
      "execution_count": 13,
      "outputs": [
        {
          "output_type": "stream",
          "text": [
            "/usr/local/lib/python3.6/dist-packages/ipykernel_launcher.py:2: TqdmDeprecationWarning: This function will be removed in tqdm==5.0.0\n",
            "Please use `tqdm.notebook.tqdm` instead of `tqdm.tqdm_notebook`\n",
            "  \n"
          ],
          "name": "stderr"
        },
        {
          "output_type": "display_data",
          "data": {
            "application/vnd.jupyter.widget-view+json": {
              "model_id": "4d5219c2735543e08e615e115f17abea",
              "version_minor": 0,
              "version_major": 2
            },
            "text/plain": [
              "HBox(children=(FloatProgress(value=0.0, max=200000.0), HTML(value='')))"
            ]
          },
          "metadata": {
            "tags": []
          }
        },
        {
          "output_type": "stream",
          "text": [
            "\n"
          ],
          "name": "stdout"
        }
      ]
    },
    {
      "cell_type": "code",
      "metadata": {
        "id": "hhHa7j1bnYLD"
      },
      "source": [
        "#trainText"
      ],
      "execution_count": null,
      "outputs": []
    },
    {
      "cell_type": "code",
      "metadata": {
        "id": "qHzBMN4bGX5r",
        "colab": {
          "base_uri": "https://localhost:8080/",
          "height": 116,
          "referenced_widgets": [
            "f65ce3cc75d2464f9a6252bacf44569d",
            "f76a129ed2e04760a42932a103a43441",
            "7a2bf961d96947a9b2f21e3ff2bbe45c",
            "e57e1360e5ac4b0da67f6a24b7568633",
            "9eb767a006d54bff9b11744c8965bc02",
            "3feca739585d4c8a91bfdc2495073cd1",
            "20f189b1bf7641beafba773ce2ee2417",
            "8c986a86ad534357b39fc0409ab52669"
          ]
        },
        "outputId": "fa9cb0a7-5833-445b-9e43-823de3255daf"
      },
      "source": [
        "testText = cleanText(testText)"
      ],
      "execution_count": 14,
      "outputs": [
        {
          "output_type": "stream",
          "text": [
            "/usr/local/lib/python3.6/dist-packages/ipykernel_launcher.py:2: TqdmDeprecationWarning: This function will be removed in tqdm==5.0.0\n",
            "Please use `tqdm.notebook.tqdm` instead of `tqdm.tqdm_notebook`\n",
            "  \n"
          ],
          "name": "stderr"
        },
        {
          "output_type": "display_data",
          "data": {
            "application/vnd.jupyter.widget-view+json": {
              "model_id": "f65ce3cc75d2464f9a6252bacf44569d",
              "version_minor": 0,
              "version_major": 2
            },
            "text/plain": [
              "HBox(children=(FloatProgress(value=0.0, max=20000.0), HTML(value='')))"
            ]
          },
          "metadata": {
            "tags": []
          }
        },
        {
          "output_type": "stream",
          "text": [
            "\n"
          ],
          "name": "stdout"
        }
      ]
    },
    {
      "cell_type": "markdown",
      "metadata": {
        "id": "8ezckmdv-WOM"
      },
      "source": [
        "### Fast AI"
      ]
    },
    {
      "cell_type": "code",
      "metadata": {
        "id": "2cOnn3bw-82A"
      },
      "source": [
        "import pandas as pd\r\n",
        "import numpy as np\r\n",
        "import matplotlib.pyplot as plt"
      ],
      "execution_count": 15,
      "outputs": []
    },
    {
      "cell_type": "code",
      "metadata": {
        "colab": {
          "base_uri": "https://localhost:8080/"
        },
        "id": "XvYesyd7_C_0",
        "outputId": "cfdf9bab-3372-40fe-9dee-816173f64f9d"
      },
      "source": [
        "len(trainText)"
      ],
      "execution_count": 16,
      "outputs": [
        {
          "output_type": "execute_result",
          "data": {
            "text/plain": [
              "200000"
            ]
          },
          "metadata": {
            "tags": []
          },
          "execution_count": 16
        }
      ]
    },
    {
      "cell_type": "code",
      "metadata": {
        "id": "AkiInVfK-lVB"
      },
      "source": [
        "df_train = pd.DataFrame(list(zip(trainLabels, trainText)),columns = ['Label','Text'])\r\n",
        "df_test = pd.DataFrame(list(zip(testLabels, testText)),columns = ['Label','Text'])"
      ],
      "execution_count": 17,
      "outputs": []
    },
    {
      "cell_type": "code",
      "metadata": {
        "id": "roRhx7VB9zD9"
      },
      "source": [
        "%reload_ext autoreload\r\n",
        "%autoreload 2\r\n",
        "%matplotlib inline"
      ],
      "execution_count": 18,
      "outputs": []
    },
    {
      "cell_type": "code",
      "metadata": {
        "id": "yQatOa8Y9zIQ"
      },
      "source": [
        "from fastai import *\r\n",
        "from fastai.text import *\r\n",
        "from scipy.spatial.distance import cosine as dist"
      ],
      "execution_count": 19,
      "outputs": []
    },
    {
      "cell_type": "code",
      "metadata": {
        "id": "bEx78mZa9zLH"
      },
      "source": [
        "torch.cuda.set_device(0)"
      ],
      "execution_count": 20,
      "outputs": []
    },
    {
      "cell_type": "code",
      "metadata": {
        "id": "o-d8Wx619zQr"
      },
      "source": [
        "from fastai.text import *"
      ],
      "execution_count": 21,
      "outputs": []
    },
    {
      "cell_type": "code",
      "metadata": {
        "colab": {
          "base_uri": "https://localhost:8080/",
          "height": 279
        },
        "id": "gzfJo7G19zVi",
        "outputId": "07599a2f-a36d-4b6c-ced6-2d71322736fa"
      },
      "source": [
        "data = (TextList.from_df(df_train, cols=['Text'])\r\n",
        "                .split_by_rand_pct(0.2,seed=42)\r\n",
        "                .label_for_lm()  \r\n",
        "                .databunch(bs=48))\r\n",
        "data.show_batch()"
      ],
      "execution_count": 22,
      "outputs": [
        {
          "output_type": "display_data",
          "data": {
            "text/html": [
              ""
            ],
            "text/plain": [
              "<IPython.core.display.HTML object>"
            ]
          },
          "metadata": {
            "tags": []
          }
        },
        {
          "output_type": "display_data",
          "data": {
            "text/html": [
              ""
            ],
            "text/plain": [
              "<IPython.core.display.HTML object>"
            ]
          },
          "metadata": {
            "tags": []
          }
        },
        {
          "output_type": "stream",
          "text": [
            "/usr/local/lib/python3.6/dist-packages/fastai/text/data.py:339: UserWarning: This overload of nonzero is deprecated:\n",
            "\tnonzero()\n",
            "Consider using one of the following signatures instead:\n",
            "\tnonzero(*, bool as_tuple) (Triggered internally at  /pytorch/torch/csrc/utils/python_arg_parser.cpp:882.)\n",
            "  idx_min = (t != self.pad_idx).nonzero().min()\n"
          ],
          "name": "stderr"
        },
        {
          "output_type": "display_data",
          "data": {
            "text/html": [
              "<table border=\"1\" class=\"dataframe\">\n",
              "  <thead>\n",
              "    <tr style=\"text-align: right;\">\n",
              "      <th>idx</th>\n",
              "      <th>text</th>\n",
              "    </tr>\n",
              "  </thead>\n",
              "  <tbody>\n",
              "    <tr>\n",
              "      <td>0</td>\n",
              "      <td>' game ' , ' music ' , ' played ' , ' game ' , ' chrono ' , ' cross ' , ' games ' , ' ever ' , ' played ' , ' best ' , ' music ' , ' backs ' , ' away ' , ' crude ' , ' keyboarding ' , ' takes ' , ' fresher ' , ' step</td>\n",
              "    </tr>\n",
              "    <tr>\n",
              "      <td>1</td>\n",
              "      <td>' session ' , ' backed ' , ' june ' , ' christy ' , ' regular ' , ' orchestra ' , ' shows ' , ' bad ' , ' singer ' , ' page ' , ' comparison ' , ' gifted ' , ' miss ' , ' christy ' , ' miss ' , ' page ' , ' syncopation ' , ' rhythm</td>\n",
              "    </tr>\n",
              "    <tr>\n",
              "      <td>2</td>\n",
              "      <td>' , ' everything ' , ' billed ' , ' picked ' , ' classic ' , ' read ' , ' summer ' , ' one ' , ' better ' , ' choices ' , ' made ' , ' annual ' , ' quest ' , ' although ' , ' must ' , ' admit ' , ' getting ' , ' lost ' ,</td>\n",
              "    </tr>\n",
              "    <tr>\n",
              "      <td>3</td>\n",
              "      <td>paper ' , ' fed ' , ' prints ' , ' fine ' , ' getting ' , ' paper ' , ' feed ' , ' issue ' , ' frustrating ' , ' next ' , ' time ' , ' buying ' , ' different ' , ' brand ' ] xxbos [ ' work ' , ' item ' , ' number ' , '</td>\n",
              "    </tr>\n",
              "    <tr>\n",
              "      <td>4</td>\n",
              "      <td>know ' , ' someone ' , ' dealing ' , ' situation ' , ' like ' , ' talking ' , ' good ' , ' friend ' ] xxbos [ ' quick ' , ' delivery ' , ' great ' , ' service ' , ' quick ' , ' delivery ' , ' ordered ' , ' book ' , ' several ' , '</td>\n",
              "    </tr>\n",
              "  </tbody>\n",
              "</table>"
            ],
            "text/plain": [
              "<IPython.core.display.HTML object>"
            ]
          },
          "metadata": {
            "tags": []
          }
        }
      ]
    },
    {
      "cell_type": "code",
      "metadata": {
        "colab": {
          "base_uri": "https://localhost:8080/",
          "height": 34
        },
        "id": "EU6L5SLz9zYb",
        "outputId": "9f3f8a9c-cd94-4914-ffcc-7887f0122f91"
      },
      "source": [
        "### Fit bitcoin wikitext model with domain specific data\r\n",
        "learn = language_model_learner(data,AWD_LSTM, drop_mult=0.4)"
      ],
      "execution_count": 23,
      "outputs": [
        {
          "output_type": "stream",
          "text": [
            "Downloading https://s3.amazonaws.com/fast-ai-modelzoo/wt103-fwd.tgz\n"
          ],
          "name": "stdout"
        },
        {
          "output_type": "display_data",
          "data": {
            "text/html": [
              ""
            ],
            "text/plain": [
              "<IPython.core.display.HTML object>"
            ]
          },
          "metadata": {
            "tags": []
          }
        }
      ]
    },
    {
      "cell_type": "code",
      "metadata": {
        "colab": {
          "base_uri": "https://localhost:8080/",
          "height": 110
        },
        "id": "EissNCOj9zdI",
        "outputId": "783a3090-1a59-4291-d241-4d1ed6b6e405"
      },
      "source": [
        "# select the appropriate learning rate\r\n",
        "learn.lr_find()"
      ],
      "execution_count": 24,
      "outputs": [
        {
          "output_type": "display_data",
          "data": {
            "text/html": [
              "\n",
              "    <div>\n",
              "        <style>\n",
              "            /* Turns off some styling */\n",
              "            progress {\n",
              "                /* gets rid of default border in Firefox and Opera. */\n",
              "                border: none;\n",
              "                /* Needs to be in here for Safari polyfill so background images work as expected. */\n",
              "                background-size: auto;\n",
              "            }\n",
              "            .progress-bar-interrupted, .progress-bar-interrupted::-webkit-progress-bar {\n",
              "                background: #F44336;\n",
              "            }\n",
              "        </style>\n",
              "      <progress value='0' class='' max='1' style='width:300px; height:20px; vertical-align: middle;'></progress>\n",
              "      0.00% [0/1 00:00<00:00]\n",
              "    </div>\n",
              "    \n",
              "<table border=\"1\" class=\"dataframe\">\n",
              "  <thead>\n",
              "    <tr style=\"text-align: left;\">\n",
              "      <th>epoch</th>\n",
              "      <th>train_loss</th>\n",
              "      <th>valid_loss</th>\n",
              "      <th>accuracy</th>\n",
              "      <th>time</th>\n",
              "    </tr>\n",
              "  </thead>\n",
              "  <tbody>\n",
              "  </tbody>\n",
              "</table><p>\n",
              "\n",
              "    <div>\n",
              "        <style>\n",
              "            /* Turns off some styling */\n",
              "            progress {\n",
              "                /* gets rid of default border in Firefox and Opera. */\n",
              "                border: none;\n",
              "                /* Needs to be in here for Safari polyfill so background images work as expected. */\n",
              "                background-size: auto;\n",
              "            }\n",
              "            .progress-bar-interrupted, .progress-bar-interrupted::-webkit-progress-bar {\n",
              "                background: #F44336;\n",
              "            }\n",
              "        </style>\n",
              "      <progress value='99' class='' max='7803' style='width:300px; height:20px; vertical-align: middle;'></progress>\n",
              "      1.27% [99/7803 00:26<35:00 4.4082]\n",
              "    </div>\n",
              "    "
            ],
            "text/plain": [
              "<IPython.core.display.HTML object>"
            ]
          },
          "metadata": {
            "tags": []
          }
        },
        {
          "output_type": "stream",
          "text": [
            "LR Finder is complete, type {learner_name}.recorder.plot() to see the graph.\n"
          ],
          "name": "stdout"
        }
      ]
    },
    {
      "cell_type": "code",
      "metadata": {
        "colab": {
          "base_uri": "https://localhost:8080/",
          "height": 279
        },
        "id": "Z4xmgRk89zhL",
        "outputId": "ade320d7-941b-49b0-bc93-8cfbd67f183d"
      },
      "source": [
        "learn.recorder.plot()"
      ],
      "execution_count": 25,
      "outputs": [
        {
          "output_type": "display_data",
          "data": {
            "image/png": "[encoded data removed]",
            "text/plain": [
              "<Figure size 432x288 with 1 Axes>"
            ]
          },
          "metadata": {
            "tags": [],
            "needs_background": "light"
          }
        }
      ]
    },
    {
      "cell_type": "code",
      "metadata": {
        "id": "GoapTo1yEKWy"
      },
      "source": [
        "bs = 48\r\n",
        "lr = 1e-3\r\n",
        "lr *= bs/48"
      ],
      "execution_count": 27,
      "outputs": []
    },
    {
      "cell_type": "code",
      "metadata": {
        "colab": {
          "base_uri": "https://localhost:8080/",
          "height": 106
        },
        "id": "qSSnftUS9zoH",
        "outputId": "0de75719-22fd-4ffe-ed71-098e0d67f5c7"
      },
      "source": [
        "learn.fit_one_cycle(2, lr*10, moms=(0.8,0.7))\r\n",
        "learn.unfreeze()"
      ],
      "execution_count": 28,
      "outputs": [
        {
          "output_type": "display_data",
          "data": {
            "text/html": [
              "<table border=\"1\" class=\"dataframe\">\n",
              "  <thead>\n",
              "    <tr style=\"text-align: left;\">\n",
              "      <th>epoch</th>\n",
              "      <th>train_loss</th>\n",
              "      <th>valid_loss</th>\n",
              "      <th>accuracy</th>\n",
              "      <th>time</th>\n",
              "    </tr>\n",
              "  </thead>\n",
              "  <tbody>\n",
              "    <tr>\n",
              "      <td>0</td>\n",
              "      <td>1.904280</td>\n",
              "      <td>1.835334</td>\n",
              "      <td>0.762725</td>\n",
              "      <td>41:53</td>\n",
              "    </tr>\n",
              "    <tr>\n",
              "      <td>1</td>\n",
              "      <td>1.871520</td>\n",
              "      <td>1.796084</td>\n",
              "      <td>0.764543</td>\n",
              "      <td>41:59</td>\n",
              "    </tr>\n",
              "  </tbody>\n",
              "</table>"
            ],
            "text/plain": [
              "<IPython.core.display.HTML object>"
            ]
          },
          "metadata": {
            "tags": []
          }
        }
      ]
    },
    {
      "cell_type": "code",
      "metadata": {
        "colab": {
          "base_uri": "https://localhost:8080/",
          "height": 77
        },
        "id": "U3PWK5uv9ztC",
        "outputId": "2857a901-5469-4094-bfde-0aa456f38f2f"
      },
      "source": [
        "learn.fit_one_cycle(1, lr, moms=(0.8,0.7))"
      ],
      "execution_count": 29,
      "outputs": [
        {
          "output_type": "display_data",
          "data": {
            "text/html": [
              "<table border=\"1\" class=\"dataframe\">\n",
              "  <thead>\n",
              "    <tr style=\"text-align: left;\">\n",
              "      <th>epoch</th>\n",
              "      <th>train_loss</th>\n",
              "      <th>valid_loss</th>\n",
              "      <th>accuracy</th>\n",
              "      <th>time</th>\n",
              "    </tr>\n",
              "  </thead>\n",
              "  <tbody>\n",
              "    <tr>\n",
              "      <td>0</td>\n",
              "      <td>1.741887</td>\n",
              "      <td>1.726591</td>\n",
              "      <td>0.767768</td>\n",
              "      <td>48:30</td>\n",
              "    </tr>\n",
              "  </tbody>\n",
              "</table>"
            ],
            "text/plain": [
              "<IPython.core.display.HTML object>"
            ]
          },
          "metadata": {
            "tags": []
          }
        }
      ]
    },
    {
      "cell_type": "code",
      "metadata": {
        "id": "hYCCeBN79zye"
      },
      "source": [
        "learn.save('fine_tuned')\r\n",
        "learn.save_encoder('fine_tuned_enc')"
      ],
      "execution_count": 30,
      "outputs": []
    },
    {
      "cell_type": "markdown",
      "metadata": {
        "id": "4yUndgrRASmv"
      },
      "source": [
        "#### Refit using Label column"
      ]
    },
    {
      "cell_type": "code",
      "metadata": {
        "colab": {
          "base_uri": "https://localhost:8080/",
          "height": 195
        },
        "id": "tUhmLKF29z1S",
        "outputId": "c10c54b7-a851-43eb-8fb6-303d3ed56441"
      },
      "source": [
        "test_datalist = TextList.from_df(df_test, cols='Text', vocab=data.vocab)\r\n",
        "data_clas = (TextList.from_df(df_train, cols=['Text'], vocab=data.vocab)\r\n",
        "             .split_by_rand_pct(0.2,seed=42)\r\n",
        "             .label_from_df(cols= 'Label')\r\n",
        "             .databunch(bs=48))\r\n",
        "\r\n",
        "data_clas.show_batch()"
      ],
      "execution_count": 31,
      "outputs": [
        {
          "output_type": "display_data",
          "data": {
            "text/html": [
              ""
            ],
            "text/plain": [
              "<IPython.core.display.HTML object>"
            ]
          },
          "metadata": {
            "tags": []
          }
        },
        {
          "output_type": "display_data",
          "data": {
            "text/html": [
              ""
            ],
            "text/plain": [
              "<IPython.core.display.HTML object>"
            ]
          },
          "metadata": {
            "tags": []
          }
        },
        {
          "output_type": "display_data",
          "data": {
            "text/html": [
              "<table border=\"1\" class=\"dataframe\">\n",
              "  <thead>\n",
              "    <tr style=\"text-align: right;\">\n",
              "      <th>text</th>\n",
              "      <th>target</th>\n",
              "    </tr>\n",
              "  </thead>\n",
              "  <tbody>\n",
              "    <tr>\n",
              "      <td>xxbos [ ' quieres ' , ' conocer ' , ' al ' , ' dios ' , ' verdadero ' , ' lee ' , ' la ' , ' biblia ' , ' deepak ' , ' chopra ' , ' habla ' , ' de ' , ' ese ' , ' dios ' , ' al ' , ' que ' , ' hay ' ,</td>\n",
              "      <td>1</td>\n",
              "    </tr>\n",
              "    <tr>\n",
              "      <td>xxbos [ ' weapon ' , ' unloaded ' , ' worst ' , ' entry ' , ' lethal ' , ' weapon ' , ' series ' , ' first ' , ' always ' , ' best ' , ' lethal ' , ' weapon ' , ' suffers ' , ' much ' , ' comedy ' , ' uninteresting ' , ' story ' ,</td>\n",
              "      <td>1</td>\n",
              "    </tr>\n",
              "    <tr>\n",
              "      <td>xxbos [ ' every ' , ' wonk ' , ' know ' , ' locked ' , ' cage ' , ' new ' , ' york ' , ' saw ' , ' heap ' , ' charlie ' , ' abrams ' , ' reports ' , ' abrams ' , ' un ' , ' urban ' , ' trouble ' , ' shooter ' ,</td>\n",
              "      <td>0</td>\n",
              "    </tr>\n",
              "    <tr>\n",
              "      <td>xxbos [ ' break ' , ' easily ' , ' expected ' , ' great ' , ' addition ' , ' tools ' , ' collection ' , ' long ' , ' extension ' , ' bars ' , ' drive ' , ' useful ' , ' many ' , ' applications ' , ' tried ' , ' use ' , ' take ' ,</td>\n",
              "      <td>1</td>\n",
              "    </tr>\n",
              "    <tr>\n",
              "      <td>xxbos [ ' poorly ' , ' made ' , ' first ' , ' pros ' , ' heavy ' , ' enough ' , ' suction ' , ' feet ' , ' prevent ' , ' slicer ' , ' moving ' , ' around ' , ' counter ' , ' simple ' , ' operate ' , ' cons ' , ' blade ' ,</td>\n",
              "      <td>1</td>\n",
              "    </tr>\n",
              "  </tbody>\n",
              "</table>"
            ],
            "text/plain": [
              "<IPython.core.display.HTML object>"
            ]
          },
          "metadata": {
            "tags": []
          }
        }
      ]
    },
    {
      "cell_type": "code",
      "metadata": {
        "id": "4Ph-sg1f9z37"
      },
      "source": [
        "learn_classifier = text_classifier_learner(data_clas, AWD_LSTM, drop_mult=0.5,metrics=[Precision(average='micro')])\r\n",
        "\r\n",
        "# load the encoder saved  \r\n",
        "learn_classifier.load_encoder('fine_tuned_enc')\r\n",
        "\r\n",
        "learn_classifier.freeze()"
      ],
      "execution_count": 32,
      "outputs": []
    },
    {
      "cell_type": "code",
      "metadata": {
        "colab": {
          "base_uri": "https://localhost:8080/",
          "height": 110
        },
        "id": "X9ouY3REEuDb",
        "outputId": "32f83dea-a91a-4e14-9d58-995466c7dc18"
      },
      "source": [
        "# select the appropriate learning rate\r\n",
        "learn_classifier.lr_find()"
      ],
      "execution_count": 33,
      "outputs": [
        {
          "output_type": "display_data",
          "data": {
            "text/html": [
              "\n",
              "    <div>\n",
              "        <style>\n",
              "            /* Turns off some styling */\n",
              "            progress {\n",
              "                /* gets rid of default border in Firefox and Opera. */\n",
              "                border: none;\n",
              "                /* Needs to be in here for Safari polyfill so background images work as expected. */\n",
              "                background-size: auto;\n",
              "            }\n",
              "            .progress-bar-interrupted, .progress-bar-interrupted::-webkit-progress-bar {\n",
              "                background: #F44336;\n",
              "            }\n",
              "        </style>\n",
              "      <progress value='0' class='' max='1' style='width:300px; height:20px; vertical-align: middle;'></progress>\n",
              "      0.00% [0/1 00:00<00:00]\n",
              "    </div>\n",
              "    \n",
              "<table border=\"1\" class=\"dataframe\">\n",
              "  <thead>\n",
              "    <tr style=\"text-align: left;\">\n",
              "      <th>epoch</th>\n",
              "      <th>train_loss</th>\n",
              "      <th>valid_loss</th>\n",
              "      <th>precision</th>\n",
              "      <th>time</th>\n",
              "    </tr>\n",
              "  </thead>\n",
              "  <tbody>\n",
              "  </tbody>\n",
              "</table><p>\n",
              "\n",
              "    <div>\n",
              "        <style>\n",
              "            /* Turns off some styling */\n",
              "            progress {\n",
              "                /* gets rid of default border in Firefox and Opera. */\n",
              "                border: none;\n",
              "                /* Needs to be in here for Safari polyfill so background images work as expected. */\n",
              "                background-size: auto;\n",
              "            }\n",
              "            .progress-bar-interrupted, .progress-bar-interrupted::-webkit-progress-bar {\n",
              "                background: #F44336;\n",
              "            }\n",
              "        </style>\n",
              "      <progress value='93' class='' max='3333' style='width:300px; height:20px; vertical-align: middle;'></progress>\n",
              "      2.79% [93/3333 00:21<12:12 1.5837]\n",
              "    </div>\n",
              "    "
            ],
            "text/plain": [
              "<IPython.core.display.HTML object>"
            ]
          },
          "metadata": {
            "tags": []
          }
        },
        {
          "output_type": "stream",
          "text": [
            "LR Finder is complete, type {learner_name}.recorder.plot() to see the graph.\n"
          ],
          "name": "stdout"
        }
      ]
    },
    {
      "cell_type": "code",
      "metadata": {
        "colab": {
          "base_uri": "https://localhost:8080/",
          "height": 281
        },
        "id": "oQRqI7qUEukI",
        "outputId": "b9eda0f2-3aac-453b-f4fc-4f8367974a97"
      },
      "source": [
        "# we typically find the point where the slope is steepest\r\n",
        "learn_classifier.recorder.plot()"
      ],
      "execution_count": 34,
      "outputs": [
        {
          "output_type": "display_data",
          "data": {
            "image/png": "[encoded data removed]",
            "text/plain": [
              "<Figure size 432x288 with 1 Axes>"
            ]
          },
          "metadata": {
            "tags": [],
            "needs_background": "light"
          }
        }
      ]
    },
    {
      "cell_type": "code",
      "metadata": {
        "colab": {
          "base_uri": "https://localhost:8080/",
          "height": 77
        },
        "id": "kvyqeyVzEutr",
        "outputId": "4c256799-fe08-4441-f834-31adbc4a92d0"
      },
      "source": [
        "# Fit the model based on selected learning rate\r\n",
        "learn_classifier.fit_one_cycle(1, 2e-2, moms=(0.8,0.7))"
      ],
      "execution_count": 35,
      "outputs": [
        {
          "output_type": "display_data",
          "data": {
            "text/html": [
              "<table border=\"1\" class=\"dataframe\">\n",
              "  <thead>\n",
              "    <tr style=\"text-align: left;\">\n",
              "      <th>epoch</th>\n",
              "      <th>train_loss</th>\n",
              "      <th>valid_loss</th>\n",
              "      <th>precision</th>\n",
              "      <th>time</th>\n",
              "    </tr>\n",
              "  </thead>\n",
              "  <tbody>\n",
              "    <tr>\n",
              "      <td>0</td>\n",
              "      <td>0.336295</td>\n",
              "      <td>0.287638</td>\n",
              "      <td>0.879375</td>\n",
              "      <td>09:34</td>\n",
              "    </tr>\n",
              "  </tbody>\n",
              "</table>"
            ],
            "text/plain": [
              "<IPython.core.display.HTML object>"
            ]
          },
          "metadata": {
            "tags": []
          }
        }
      ]
    },
    {
      "cell_type": "code",
      "metadata": {
        "colab": {
          "base_uri": "https://localhost:8080/",
          "height": 77
        },
        "id": "hV--OqiqEuzk",
        "outputId": "93ab342e-d290-4ab5-e028-69a4af60ba36"
      },
      "source": [
        "# Tune a little more\r\n",
        "learn_classifier.freeze_to(-2)\r\n",
        "learn_classifier.fit_one_cycle(1, slice(1e-2/(2.6**4),1e-2), moms=(0.8,0.7))"
      ],
      "execution_count": 36,
      "outputs": [
        {
          "output_type": "display_data",
          "data": {
            "text/html": [
              "<table border=\"1\" class=\"dataframe\">\n",
              "  <thead>\n",
              "    <tr style=\"text-align: left;\">\n",
              "      <th>epoch</th>\n",
              "      <th>train_loss</th>\n",
              "      <th>valid_loss</th>\n",
              "      <th>precision</th>\n",
              "      <th>time</th>\n",
              "    </tr>\n",
              "  </thead>\n",
              "  <tbody>\n",
              "    <tr>\n",
              "      <td>0</td>\n",
              "      <td>0.285960</td>\n",
              "      <td>0.238461</td>\n",
              "      <td>0.903850</td>\n",
              "      <td>12:19</td>\n",
              "    </tr>\n",
              "  </tbody>\n",
              "</table>"
            ],
            "text/plain": [
              "<IPython.core.display.HTML object>"
            ]
          },
          "metadata": {
            "tags": []
          }
        }
      ]
    },
    {
      "cell_type": "code",
      "metadata": {
        "colab": {
          "base_uri": "https://localhost:8080/",
          "height": 106
        },
        "id": "wg6clxXyE5Jv",
        "outputId": "fa7ecd47-ce26-449f-87da-aff156aed3fc"
      },
      "source": [
        "#learn_classifier.unfreeze()\r\n",
        "learn_classifier.fit_one_cycle(2, slice(1e-3/(2.6**4),1e-3), moms=(0.8,0.7))"
      ],
      "execution_count": 37,
      "outputs": [
        {
          "output_type": "display_data",
          "data": {
            "text/html": [
              "<table border=\"1\" class=\"dataframe\">\n",
              "  <thead>\n",
              "    <tr style=\"text-align: left;\">\n",
              "      <th>epoch</th>\n",
              "      <th>train_loss</th>\n",
              "      <th>valid_loss</th>\n",
              "      <th>precision</th>\n",
              "      <th>time</th>\n",
              "    </tr>\n",
              "  </thead>\n",
              "  <tbody>\n",
              "    <tr>\n",
              "      <td>0</td>\n",
              "      <td>0.268948</td>\n",
              "      <td>0.240710</td>\n",
              "      <td>0.907175</td>\n",
              "      <td>12:05</td>\n",
              "    </tr>\n",
              "    <tr>\n",
              "      <td>1</td>\n",
              "      <td>0.269287</td>\n",
              "      <td>0.230864</td>\n",
              "      <td>0.908000</td>\n",
              "      <td>11:59</td>\n",
              "    </tr>\n",
              "  </tbody>\n",
              "</table>"
            ],
            "text/plain": [
              "<IPython.core.display.HTML object>"
            ]
          },
          "metadata": {
            "tags": []
          }
        }
      ]
    },
    {
      "cell_type": "code",
      "metadata": {
        "colab": {
          "base_uri": "https://localhost:8080/",
          "height": 195
        },
        "id": "y3f3ORqtE5Qb",
        "outputId": "8aaccca8-c61e-4ee9-f824-f089c3664cf0"
      },
      "source": [
        "learn_classifier.show_results()"
      ],
      "execution_count": 38,
      "outputs": [
        {
          "output_type": "display_data",
          "data": {
            "text/html": [
              "<table border=\"1\" class=\"dataframe\">\n",
              "  <thead>\n",
              "    <tr style=\"text-align: right;\">\n",
              "      <th>text</th>\n",
              "      <th>target</th>\n",
              "      <th>prediction</th>\n",
              "    </tr>\n",
              "  </thead>\n",
              "  <tbody>\n",
              "    <tr>\n",
              "      <td>xxbos [ ' excelente ' , ' disco ' , ' tienen ' , ' que ' , ' comprarlo ' , ' patricia ' , ' con ' , ' este ' , ' disco ' , ' se ' , ' xxunk ' , ' otros ' , ' ya ' , ' que ' , ' nos ' , ' xxunk ' , ' su ' ,</td>\n",
              "      <td>0</td>\n",
              "      <td>0</td>\n",
              "    </tr>\n",
              "    <tr>\n",
              "      <td>xxbos [ ' saludos ' , ' otros ' , ' xxunk ' , ' veces ' , ' es ' , ' xxunk ' , ' que ' , ' el ' , ' texto ' , ' xxunk ' , ' por ' , ' los ' , ' xxunk ' , ' fue ' , ' xxunk ' , ' xxunk ' , ' por ' ,</td>\n",
              "      <td>1</td>\n",
              "      <td>0</td>\n",
              "    </tr>\n",
              "    <tr>\n",
              "      <td>xxbos [ ' bastante ' , ' bueno ' , ' ok ' , ' la ' , ' xxunk ' , ' de ' , ' esta ' , ' novela ' , ' es ' , ' buena ' , ' trata ' , ' un ' , ' tema ' , ' poco ' , ' usual ' , ' el ' , ' xxunk ' ,</td>\n",
              "      <td>0</td>\n",
              "      <td>0</td>\n",
              "    </tr>\n",
              "    <tr>\n",
              "      <td>xxbos [ ' unmasked ' , ' animalize ' , ' asylum ' , ' crazy ' , ' nights ' , ' pc ' , ' donde ' , ' xxunk ' , ' este ' , ' grandes ' , ' exitos ' , ' tiene ' , ' el ' , ' xxunk ' , ' del ' , ' xxunk ' , ' del ' ,</td>\n",
              "      <td>1</td>\n",
              "      <td>0</td>\n",
              "    </tr>\n",
              "    <tr>\n",
              "      <td>xxbos [ ' suena ' , ' interesante ' , ' este ' , ' libro ' , ' hace ' , ' muchas ' , ' xxunk ' , ' decir ' , ' creo ' , ' que ' , ' todas ' , ' sean ' , ' xxunk ' , ' pero ' , ' si ' , ' al ' , ' menos ' ,</td>\n",
              "      <td>0</td>\n",
              "      <td>0</td>\n",
              "    </tr>\n",
              "  </tbody>\n",
              "</table>"
            ],
            "text/plain": [
              "<IPython.core.display.HTML object>"
            ]
          },
          "metadata": {
            "tags": []
          }
        }
      ]
    },
    {
      "cell_type": "code",
      "metadata": {
        "colab": {
          "base_uri": "https://localhost:8080/",
          "height": 311
        },
        "id": "71-XKYJ_E5Ut",
        "outputId": "3926f864-1e86-4753-ab7c-472b9a520945"
      },
      "source": [
        "interp = ClassificationInterpretation.from_learner(learn_classifier)\r\n",
        "interp.plot_confusion_matrix()"
      ],
      "execution_count": 39,
      "outputs": [
        {
          "output_type": "display_data",
          "data": {
            "text/html": [
              ""
            ],
            "text/plain": [
              "<IPython.core.display.HTML object>"
            ]
          },
          "metadata": {
            "tags": []
          }
        },
        {
          "output_type": "display_data",
          "data": {
            "image/png": "[encoded data removed]",
            "text/plain": [
              "<Figure size 432x288 with 1 Axes>"
            ]
          },
          "metadata": {
            "tags": [],
            "needs_background": "light"
          }
        }
      ]
    },
    {
      "cell_type": "code",
      "metadata": {
        "id": "NtqrFtoOFHFO"
      },
      "source": [
        "y_valid = interp.data.valid_ds.y.items\r\n",
        "y_pred = interp.pred_class.numpy()"
      ],
      "execution_count": 40,
      "outputs": []
    },
    {
      "cell_type": "code",
      "metadata": {
        "colab": {
          "base_uri": "https://localhost:8080/"
        },
        "id": "osQGBcOOFHM4",
        "outputId": "7c605727-8be1-48d3-e9de-3a795b465a18"
      },
      "source": [
        "from sklearn.metrics import classification_report\r\n",
        "print(classification_report(y_valid,\r\n",
        "                            y_pred,\r\n",
        "                            target_names= ['0', '1']))"
      ],
      "execution_count": 41,
      "outputs": [
        {
          "output_type": "stream",
          "text": [
            "              precision    recall  f1-score   support\n",
            "\n",
            "           0       0.91      0.91      0.91     20458\n",
            "           1       0.91      0.90      0.91     19542\n",
            "\n",
            "    accuracy                           0.91     40000\n",
            "   macro avg       0.91      0.91      0.91     40000\n",
            "weighted avg       0.91      0.91      0.91     40000\n",
            "\n"
          ],
          "name": "stdout"
        }
      ]
    }
  ]
}
