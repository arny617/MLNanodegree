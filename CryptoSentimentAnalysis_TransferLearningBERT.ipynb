{
  "nbformat": 4,
  "nbformat_minor": 0,
  "metadata": {
    "colab": {
      "name": "CryptoSentimentAnalysis_TransferLearningBERT.ipynb",
      "provenance": [],
      "collapsed_sections": [
        "mVJ8JapYya1p"
      ],
      "authorship_tag": "ABX9TyOznXB/wPGYPRHNAuDhnbav",
      "include_colab_link": true
    },
    "kernelspec": {
      "name": "python3",
      "display_name": "Python 3"
    },
    "accelerator": "GPU",
    "widgets": {
      "application/vnd.jupyter.widget-state+json": {
        "2ff99177eda048a4a4d4753813503ec0": {
          "model_module": "@jupyter-widgets/controls",
          "model_name": "HBoxModel",
          "state": {
            "_view_name": "HBoxView",
            "_dom_classes": [],
            "_model_name": "HBoxModel",
            "_view_module": "@jupyter-widgets/controls",
            "_model_module_version": "1.5.0",
            "_view_count": null,
            "_view_module_version": "1.5.0",
            "box_style": "",
            "layout": "IPY_MODEL_6f16e0ce0f9c4ab28d69c0d5aaa91f47",
            "_model_module": "@jupyter-widgets/controls",
            "children": [
              "IPY_MODEL_cb7d90876f30421e8b8313a005428f21",
              "IPY_MODEL_fc500b7f3e3c44a9a02d17f555d5850b"
            ]
          }
        },
        "6f16e0ce0f9c4ab28d69c0d5aaa91f47": {
          "model_module": "@jupyter-widgets/base",
          "model_name": "LayoutModel",
          "state": {
            "_view_name": "LayoutView",
            "grid_template_rows": null,
            "right": null,
            "justify_content": null,
            "_view_module": "@jupyter-widgets/base",
            "overflow": null,
            "_model_module_version": "1.2.0",
            "_view_count": null,
            "flex_flow": null,
            "width": null,
            "min_width": null,
            "border": null,
            "align_items": null,
            "bottom": null,
            "_model_module": "@jupyter-widgets/base",
            "top": null,
            "grid_column": null,
            "overflow_y": null,
            "overflow_x": null,
            "grid_auto_flow": null,
            "grid_area": null,
            "grid_template_columns": null,
            "flex": null,
            "_model_name": "LayoutModel",
            "justify_items": null,
            "grid_row": null,
            "max_height": null,
            "align_content": null,
            "visibility": null,
            "align_self": null,
            "height": null,
            "min_height": null,
            "padding": null,
            "grid_auto_rows": null,
            "grid_gap": null,
            "max_width": null,
            "order": null,
            "_view_module_version": "1.2.0",
            "grid_template_areas": null,
            "object_position": null,
            "object_fit": null,
            "grid_auto_columns": null,
            "margin": null,
            "display": null,
            "left": null
          }
        },
        "cb7d90876f30421e8b8313a005428f21": {
          "model_module": "@jupyter-widgets/controls",
          "model_name": "FloatProgressModel",
          "state": {
            "_view_name": "ProgressView",
            "style": "IPY_MODEL_60619153db114280ab34da22168c61c3",
            "_dom_classes": [],
            "description": "Downloading: 100%",
            "_model_name": "FloatProgressModel",
            "bar_style": "success",
            "max": 433,
            "_view_module": "@jupyter-widgets/controls",
            "_model_module_version": "1.5.0",
            "value": 433,
            "_view_count": null,
            "_view_module_version": "1.5.0",
            "orientation": "horizontal",
            "min": 0,
            "description_tooltip": null,
            "_model_module": "@jupyter-widgets/controls",
            "layout": "IPY_MODEL_b90be00b9fc24047b0b6b4fa62d5b026"
          }
        },
        "fc500b7f3e3c44a9a02d17f555d5850b": {
          "model_module": "@jupyter-widgets/controls",
          "model_name": "HTMLModel",
          "state": {
            "_view_name": "HTMLView",
            "style": "IPY_MODEL_60e7d9c5c81b4953b78d9df6d3cef64d",
            "_dom_classes": [],
            "description": "",
            "_model_name": "HTMLModel",
            "placeholder": "​",
            "_view_module": "@jupyter-widgets/controls",
            "_model_module_version": "1.5.0",
            "value": " 433/433 [00:00&lt;00:00, 1.12kB/s]",
            "_view_count": null,
            "_view_module_version": "1.5.0",
            "description_tooltip": null,
            "_model_module": "@jupyter-widgets/controls",
            "layout": "IPY_MODEL_d4386b6fe54b4e7bbf04c0892621be28"
          }
        },
        "60619153db114280ab34da22168c61c3": {
          "model_module": "@jupyter-widgets/controls",
          "model_name": "ProgressStyleModel",
          "state": {
            "_view_name": "StyleView",
            "_model_name": "ProgressStyleModel",
            "description_width": "initial",
            "_view_module": "@jupyter-widgets/base",
            "_model_module_version": "1.5.0",
            "_view_count": null,
            "_view_module_version": "1.2.0",
            "bar_color": null,
            "_model_module": "@jupyter-widgets/controls"
          }
        },
        "b90be00b9fc24047b0b6b4fa62d5b026": {
          "model_module": "@jupyter-widgets/base",
          "model_name": "LayoutModel",
          "state": {
            "_view_name": "LayoutView",
            "grid_template_rows": null,
            "right": null,
            "justify_content": null,
            "_view_module": "@jupyter-widgets/base",
            "overflow": null,
            "_model_module_version": "1.2.0",
            "_view_count": null,
            "flex_flow": null,
            "width": null,
            "min_width": null,
            "border": null,
            "align_items": null,
            "bottom": null,
            "_model_module": "@jupyter-widgets/base",
            "top": null,
            "grid_column": null,
            "overflow_y": null,
            "overflow_x": null,
            "grid_auto_flow": null,
            "grid_area": null,
            "grid_template_columns": null,
            "flex": null,
            "_model_name": "LayoutModel",
            "justify_items": null,
            "grid_row": null,
            "max_height": null,
            "align_content": null,
            "visibility": null,
            "align_self": null,
            "height": null,
            "min_height": null,
            "padding": null,
            "grid_auto_rows": null,
            "grid_gap": null,
            "max_width": null,
            "order": null,
            "_view_module_version": "1.2.0",
            "grid_template_areas": null,
            "object_position": null,
            "object_fit": null,
            "grid_auto_columns": null,
            "margin": null,
            "display": null,
            "left": null
          }
        },
        "60e7d9c5c81b4953b78d9df6d3cef64d": {
          "model_module": "@jupyter-widgets/controls",
          "model_name": "DescriptionStyleModel",
          "state": {
            "_view_name": "StyleView",
            "_model_name": "DescriptionStyleModel",
            "description_width": "",
            "_view_module": "@jupyter-widgets/base",
            "_model_module_version": "1.5.0",
            "_view_count": null,
            "_view_module_version": "1.2.0",
            "_model_module": "@jupyter-widgets/controls"
          }
        },
        "d4386b6fe54b4e7bbf04c0892621be28": {
          "model_module": "@jupyter-widgets/base",
          "model_name": "LayoutModel",
          "state": {
            "_view_name": "LayoutView",
            "grid_template_rows": null,
            "right": null,
            "justify_content": null,
            "_view_module": "@jupyter-widgets/base",
            "overflow": null,
            "_model_module_version": "1.2.0",
            "_view_count": null,
            "flex_flow": null,
            "width": null,
            "min_width": null,
            "border": null,
            "align_items": null,
            "bottom": null,
            "_model_module": "@jupyter-widgets/base",
            "top": null,
            "grid_column": null,
            "overflow_y": null,
            "overflow_x": null,
            "grid_auto_flow": null,
            "grid_area": null,
            "grid_template_columns": null,
            "flex": null,
            "_model_name": "LayoutModel",
            "justify_items": null,
            "grid_row": null,
            "max_height": null,
            "align_content": null,
            "visibility": null,
            "align_self": null,
            "height": null,
            "min_height": null,
            "padding": null,
            "grid_auto_rows": null,
            "grid_gap": null,
            "max_width": null,
            "order": null,
            "_view_module_version": "1.2.0",
            "grid_template_areas": null,
            "object_position": null,
            "object_fit": null,
            "grid_auto_columns": null,
            "margin": null,
            "display": null,
            "left": null
          }
        },
        "9367b5ff96b34dc7b7c5763de207abf1": {
          "model_module": "@jupyter-widgets/controls",
          "model_name": "HBoxModel",
          "state": {
            "_view_name": "HBoxView",
            "_dom_classes": [],
            "_model_name": "HBoxModel",
            "_view_module": "@jupyter-widgets/controls",
            "_model_module_version": "1.5.0",
            "_view_count": null,
            "_view_module_version": "1.5.0",
            "box_style": "",
            "layout": "IPY_MODEL_8081c85e63f84b1898726e2d1fce20a3",
            "_model_module": "@jupyter-widgets/controls",
            "children": [
              "IPY_MODEL_25cfeb093c184afcbbdf0abf968095f7",
              "IPY_MODEL_d2bdfeb4a287404d82d8da8de7bd56a3"
            ]
          }
        },
        "8081c85e63f84b1898726e2d1fce20a3": {
          "model_module": "@jupyter-widgets/base",
          "model_name": "LayoutModel",
          "state": {
            "_view_name": "LayoutView",
            "grid_template_rows": null,
            "right": null,
            "justify_content": null,
            "_view_module": "@jupyter-widgets/base",
            "overflow": null,
            "_model_module_version": "1.2.0",
            "_view_count": null,
            "flex_flow": null,
            "width": null,
            "min_width": null,
            "border": null,
            "align_items": null,
            "bottom": null,
            "_model_module": "@jupyter-widgets/base",
            "top": null,
            "grid_column": null,
            "overflow_y": null,
            "overflow_x": null,
            "grid_auto_flow": null,
            "grid_area": null,
            "grid_template_columns": null,
            "flex": null,
            "_model_name": "LayoutModel",
            "justify_items": null,
            "grid_row": null,
            "max_height": null,
            "align_content": null,
            "visibility": null,
            "align_self": null,
            "height": null,
            "min_height": null,
            "padding": null,
            "grid_auto_rows": null,
            "grid_gap": null,
            "max_width": null,
            "order": null,
            "_view_module_version": "1.2.0",
            "grid_template_areas": null,
            "object_position": null,
            "object_fit": null,
            "grid_auto_columns": null,
            "margin": null,
            "display": null,
            "left": null
          }
        },
        "25cfeb093c184afcbbdf0abf968095f7": {
          "model_module": "@jupyter-widgets/controls",
          "model_name": "FloatProgressModel",
          "state": {
            "_view_name": "ProgressView",
            "style": "IPY_MODEL_227201d83f7a4175bdcb698c0c225d56",
            "_dom_classes": [],
            "description": "Downloading: 100%",
            "_model_name": "FloatProgressModel",
            "bar_style": "success",
            "max": 440473133,
            "_view_module": "@jupyter-widgets/controls",
            "_model_module_version": "1.5.0",
            "value": 440473133,
            "_view_count": null,
            "_view_module_version": "1.5.0",
            "orientation": "horizontal",
            "min": 0,
            "description_tooltip": null,
            "_model_module": "@jupyter-widgets/controls",
            "layout": "IPY_MODEL_d34533e5323a4dc7b9ae2cd79cf0dd6b"
          }
        },
        "d2bdfeb4a287404d82d8da8de7bd56a3": {
          "model_module": "@jupyter-widgets/controls",
          "model_name": "HTMLModel",
          "state": {
            "_view_name": "HTMLView",
            "style": "IPY_MODEL_dd89151de1db43d6a0996cd83672db77",
            "_dom_classes": [],
            "description": "",
            "_model_name": "HTMLModel",
            "placeholder": "​",
            "_view_module": "@jupyter-widgets/controls",
            "_model_module_version": "1.5.0",
            "value": " 440M/440M [00:09&lt;00:00, 44.7MB/s]",
            "_view_count": null,
            "_view_module_version": "1.5.0",
            "description_tooltip": null,
            "_model_module": "@jupyter-widgets/controls",
            "layout": "IPY_MODEL_b855d013c3da45749214cfed0ba3bd52"
          }
        },
        "227201d83f7a4175bdcb698c0c225d56": {
          "model_module": "@jupyter-widgets/controls",
          "model_name": "ProgressStyleModel",
          "state": {
            "_view_name": "StyleView",
            "_model_name": "ProgressStyleModel",
            "description_width": "initial",
            "_view_module": "@jupyter-widgets/base",
            "_model_module_version": "1.5.0",
            "_view_count": null,
            "_view_module_version": "1.2.0",
            "bar_color": null,
            "_model_module": "@jupyter-widgets/controls"
          }
        },
        "d34533e5323a4dc7b9ae2cd79cf0dd6b": {
          "model_module": "@jupyter-widgets/base",
          "model_name": "LayoutModel",
          "state": {
            "_view_name": "LayoutView",
            "grid_template_rows": null,
            "right": null,
            "justify_content": null,
            "_view_module": "@jupyter-widgets/base",
            "overflow": null,
            "_model_module_version": "1.2.0",
            "_view_count": null,
            "flex_flow": null,
            "width": null,
            "min_width": null,
            "border": null,
            "align_items": null,
            "bottom": null,
            "_model_module": "@jupyter-widgets/base",
            "top": null,
            "grid_column": null,
            "overflow_y": null,
            "overflow_x": null,
            "grid_auto_flow": null,
            "grid_area": null,
            "grid_template_columns": null,
            "flex": null,
            "_model_name": "LayoutModel",
            "justify_items": null,
            "grid_row": null,
            "max_height": null,
            "align_content": null,
            "visibility": null,
            "align_self": null,
            "height": null,
            "min_height": null,
            "padding": null,
            "grid_auto_rows": null,
            "grid_gap": null,
            "max_width": null,
            "order": null,
            "_view_module_version": "1.2.0",
            "grid_template_areas": null,
            "object_position": null,
            "object_fit": null,
            "grid_auto_columns": null,
            "margin": null,
            "display": null,
            "left": null
          }
        },
        "dd89151de1db43d6a0996cd83672db77": {
          "model_module": "@jupyter-widgets/controls",
          "model_name": "DescriptionStyleModel",
          "state": {
            "_view_name": "StyleView",
            "_model_name": "DescriptionStyleModel",
            "description_width": "",
            "_view_module": "@jupyter-widgets/base",
            "_model_module_version": "1.5.0",
            "_view_count": null,
            "_view_module_version": "1.2.0",
            "_model_module": "@jupyter-widgets/controls"
          }
        },
        "b855d013c3da45749214cfed0ba3bd52": {
          "model_module": "@jupyter-widgets/base",
          "model_name": "LayoutModel",
          "state": {
            "_view_name": "LayoutView",
            "grid_template_rows": null,
            "right": null,
            "justify_content": null,
            "_view_module": "@jupyter-widgets/base",
            "overflow": null,
            "_model_module_version": "1.2.0",
            "_view_count": null,
            "flex_flow": null,
            "width": null,
            "min_width": null,
            "border": null,
            "align_items": null,
            "bottom": null,
            "_model_module": "@jupyter-widgets/base",
            "top": null,
            "grid_column": null,
            "overflow_y": null,
            "overflow_x": null,
            "grid_auto_flow": null,
            "grid_area": null,
            "grid_template_columns": null,
            "flex": null,
            "_model_name": "LayoutModel",
            "justify_items": null,
            "grid_row": null,
            "max_height": null,
            "align_content": null,
            "visibility": null,
            "align_self": null,
            "height": null,
            "min_height": null,
            "padding": null,
            "grid_auto_rows": null,
            "grid_gap": null,
            "max_width": null,
            "order": null,
            "_view_module_version": "1.2.0",
            "grid_template_areas": null,
            "object_position": null,
            "object_fit": null,
            "grid_auto_columns": null,
            "margin": null,
            "display": null,
            "left": null
          }
        }
      }
    }
  },
  "cells": [
    {
      "cell_type": "markdown",
      "metadata": {
        "id": "view-in-github",
        "colab_type": "text"
      },
      "source": [
        "<a href=\"https://colab.research.google.com/github/arny617/MLNanodegree/blob/master/CryptoSentimentAnalysis_TransferLearningBERT.ipynb\" target=\"_parent\"><img src=\"https://colab.research.google.com/assets/colab-badge.svg\" alt=\"Open In Colab\"/></a>"
      ]
    },
    {
      "cell_type": "code",
      "metadata": {
        "id": "rk5NkChUMiJh"
      },
      "source": [
        "%reload_ext autoreload\n",
        "%autoreload 2\n",
        "%matplotlib inline"
      ],
      "execution_count": 1,
      "outputs": []
    },
    {
      "cell_type": "code",
      "metadata": {
        "id": "xp_9pkoKMuM4"
      },
      "source": [
        "from fastai import *\n",
        "from fastai.text import *\n",
        "from scipy.spatial.distance import cosine as dist"
      ],
      "execution_count": 2,
      "outputs": []
    },
    {
      "cell_type": "code",
      "metadata": {
        "id": "UjN6GX52Mllm"
      },
      "source": [
        "torch.cuda.set_device(0)"
      ],
      "execution_count": 4,
      "outputs": []
    },
    {
      "cell_type": "code",
      "metadata": {
        "id": "ixYl2Kp4L-_i"
      },
      "source": [
        "import pandas as pd\n",
        "import numpy as np\n",
        "#import OpenBlender\n",
        "import json"
      ],
      "execution_count": 6,
      "outputs": []
    },
    {
      "cell_type": "code",
      "metadata": {
        "colab": {
          "base_uri": "https://localhost:8080/"
        },
        "id": "HqDzdKoHM64Z",
        "outputId": "9eafbd00-901b-4541-8aa3-a4b71c38991c"
      },
      "source": [
        "from statsmodels.graphics.tsaplots import plot_acf,plot_pacf\n",
        "import matplotlib.pyplot as plt"
      ],
      "execution_count": 7,
      "outputs": [
        {
          "output_type": "stream",
          "text": [
            "/usr/local/lib/python3.6/dist-packages/statsmodels/tools/_testing.py:19: FutureWarning: pandas.util.testing is deprecated. Use the functions in the public API at pandas.testing instead.\n",
            "  import pandas.util.testing as tm\n"
          ],
          "name": "stderr"
        }
      ]
    },
    {
      "cell_type": "markdown",
      "metadata": {
        "id": "mVJ8JapYya1p"
      },
      "source": [
        "### Openblender"
      ]
    },
    {
      "cell_type": "code",
      "metadata": {
        "colab": {
          "base_uri": "https://localhost:8080/"
        },
        "id": "rAakLkuGMUmb",
        "outputId": "deaa8123-313d-4c76-b5e3-fd021d385a63"
      },
      "source": [
        "!pip install OpenBlender"
      ],
      "execution_count": null,
      "outputs": [
        {
          "output_type": "stream",
          "text": [
            "Collecting OpenBlender\n",
            "  Downloading https://files.pythonhosted.org/packages/88/97/d3cabd86e8dccd6ffcff31ce8a62431bb715884cea0c6199febcdfdcd7e2/OpenBlender-2.6.tar.gz\n",
            "Requirement already satisfied: numpy in /usr/local/lib/python3.6/dist-packages (from OpenBlender) (1.18.5)\n",
            "Requirement already satisfied: pandas in /usr/local/lib/python3.6/dist-packages (from OpenBlender) (1.1.4)\n",
            "Collecting datetime\n",
            "\u001b[?25l  Downloading https://files.pythonhosted.org/packages/73/22/a5297f3a1f92468cc737f8ce7ba6e5f245fcfafeae810ba37bd1039ea01c/DateTime-4.3-py2.py3-none-any.whl (60kB)\n",
            "\u001b[K     |████████████████████████████████| 61kB 7.9MB/s \n",
            "\u001b[?25hRequirement already satisfied: requests in /usr/local/lib/python3.6/dist-packages (from OpenBlender) (2.23.0)\n",
            "Requirement already satisfied: python-dateutil>=2.7.3 in /usr/local/lib/python3.6/dist-packages (from pandas->OpenBlender) (2.8.1)\n",
            "Requirement already satisfied: pytz>=2017.2 in /usr/local/lib/python3.6/dist-packages (from pandas->OpenBlender) (2018.9)\n",
            "Collecting zope.interface\n",
            "\u001b[?25l  Downloading https://files.pythonhosted.org/packages/82/b0/da8afd9b3bd50c7665ecdac062f182982af1173c9081f9af7261091c5588/zope.interface-5.2.0-cp36-cp36m-manylinux2010_x86_64.whl (236kB)\n",
            "\u001b[K     |████████████████████████████████| 245kB 20.5MB/s \n",
            "\u001b[?25hRequirement already satisfied: urllib3!=1.25.0,!=1.25.1,<1.26,>=1.21.1 in /usr/local/lib/python3.6/dist-packages (from requests->OpenBlender) (1.24.3)\n",
            "Requirement already satisfied: certifi>=2017.4.17 in /usr/local/lib/python3.6/dist-packages (from requests->OpenBlender) (2020.11.8)\n",
            "Requirement already satisfied: chardet<4,>=3.0.2 in /usr/local/lib/python3.6/dist-packages (from requests->OpenBlender) (3.0.4)\n",
            "Requirement already satisfied: idna<3,>=2.5 in /usr/local/lib/python3.6/dist-packages (from requests->OpenBlender) (2.10)\n",
            "Requirement already satisfied: six>=1.5 in /usr/local/lib/python3.6/dist-packages (from python-dateutil>=2.7.3->pandas->OpenBlender) (1.15.0)\n",
            "Requirement already satisfied: setuptools in /usr/local/lib/python3.6/dist-packages (from zope.interface->datetime->OpenBlender) (50.3.2)\n",
            "Building wheels for collected packages: OpenBlender\n",
            "  Building wheel for OpenBlender (setup.py) ... \u001b[?25l\u001b[?25hdone\n",
            "  Created wheel for OpenBlender: filename=OpenBlender-2.6-cp36-none-any.whl size=6607 sha256=426da6367f6629f0bf05b31689bc17a2aab82e7b5f6e327a6c4eebdc18add676\n",
            "  Stored in directory: /root/.cache/pip/wheels/fd/29/7b/377afef16a792ed174a9ade5a6707ef87843e214476d0c8205\n",
            "Successfully built OpenBlender\n",
            "Installing collected packages: zope.interface, datetime, OpenBlender\n",
            "Successfully installed OpenBlender-2.6 datetime-4.3 zope.interface-5.2.0\n"
          ],
          "name": "stdout"
        }
      ]
    },
    {
      "cell_type": "code",
      "metadata": {
        "id": "aeP46a7cLqLZ"
      },
      "source": [
        "api_token = '5fc5ad47951629617230bee5MDHzrVvlWhz1MZm92QeQqc5DrybPBT'"
      ],
      "execution_count": null,
      "outputs": []
    },
    {
      "cell_type": "code",
      "metadata": {
        "colab": {
          "base_uri": "https://localhost:8080/"
        },
        "id": "yRVyQnY-MGHa",
        "outputId": "053f1f2d-4cb2-4831-bb9d-eb505526f463"
      },
      "source": [
        "action = 'API_getObservationsFromDataset'# ANCHOR: 'Bitcoin vs USD'\n",
        "  \n",
        "parameters = { \n",
        "    'token' : api_token,\n",
        "    'id_dataset' : '5d4c3af79516290b01c83f51',\n",
        "    'date_filter':{\"start_date\" : \"2020-01-01\",\n",
        "                   \"end_date\" : \"2020-08-29\"} }\n",
        "df = pd.read_json(json.dumps(OpenBlender.call(action, parameters)['sample']), convert_dates=False, convert_axes=False).sort_values('timestamp', ascending=False)\n",
        "df.reset_index(drop=True, inplace=True)\n",
        "df['date'] = [OpenBlender.unixToDate(ts, timezone = 'GMT') for ts in df.timestamp]\n",
        "df = df.drop('timestamp', axis = 1)"
      ],
      "execution_count": null,
      "outputs": [
        {
          "output_type": "stream",
          "text": [
            "Task ID: '5fc8697c0895fafb4a9d8d4b'.\n",
            "Total estimated consumption: 5832.61 processing units.\n",
            "Task confirmed. Starting download..\n",
            "100.0 % completed.\n"
          ],
          "name": "stdout"
        }
      ]
    },
    {
      "cell_type": "code",
      "metadata": {
        "colab": {
          "base_uri": "https://localhost:8080/"
        },
        "id": "QZeDFOIcUYyM",
        "outputId": "25c9e5ee-554f-4041-9606-bc7f1fcadd77"
      },
      "source": [
        "import os\n",
        "from google.colab import drive\n",
        "drive.mount('/content/gdrive')\n",
        "ROOT = \"/content/gdrive/My Drive/Colab Notebooks/NLP/Fast.ai_IntroToNLP/\"\n",
        "os.chdir(ROOT)"
      ],
      "execution_count": 8,
      "outputs": [
        {
          "output_type": "stream",
          "text": [
            "Mounted at /content/gdrive\n"
          ],
          "name": "stdout"
        }
      ]
    },
    {
      "cell_type": "code",
      "metadata": {
        "id": "uvBJfAPYUjIr"
      },
      "source": [
        "df.to_excel(\"BitcoinData.xlsx\")"
      ],
      "execution_count": null,
      "outputs": []
    },
    {
      "cell_type": "code",
      "metadata": {
        "colab": {
          "base_uri": "https://localhost:8080/",
          "height": 284
        },
        "id": "VGhqOKWaMf9z",
        "outputId": "8fa5b45c-096b-40ff-9904-40aef3ef42e1"
      },
      "source": [
        "df.describe()"
      ],
      "execution_count": null,
      "outputs": [
        {
          "output_type": "execute_result",
          "data": {
            "text/html": [
              "<div>\n",
              "<style scoped>\n",
              "    .dataframe tbody tr th:only-of-type {\n",
              "        vertical-align: middle;\n",
              "    }\n",
              "\n",
              "    .dataframe tbody tr th {\n",
              "        vertical-align: top;\n",
              "    }\n",
              "\n",
              "    .dataframe thead th {\n",
              "        text-align: right;\n",
              "    }\n",
              "</style>\n",
              "<table border=\"1\" class=\"dataframe\">\n",
              "  <thead>\n",
              "    <tr style=\"text-align: right;\">\n",
              "      <th></th>\n",
              "      <th>price</th>\n",
              "      <th>high</th>\n",
              "      <th>low</th>\n",
              "      <th>open</th>\n",
              "    </tr>\n",
              "  </thead>\n",
              "  <tbody>\n",
              "    <tr>\n",
              "      <th>count</th>\n",
              "      <td>236.000000</td>\n",
              "      <td>236.000000</td>\n",
              "      <td>236.000000</td>\n",
              "      <td>236.000000</td>\n",
              "    </tr>\n",
              "    <tr>\n",
              "      <th>mean</th>\n",
              "      <td>8924.639831</td>\n",
              "      <td>9102.731780</td>\n",
              "      <td>8713.850000</td>\n",
              "      <td>8915.802966</td>\n",
              "    </tr>\n",
              "    <tr>\n",
              "      <th>std</th>\n",
              "      <td>1527.913626</td>\n",
              "      <td>1487.242123</td>\n",
              "      <td>1533.155692</td>\n",
              "      <td>1495.375999</td>\n",
              "    </tr>\n",
              "    <tr>\n",
              "      <th>min</th>\n",
              "      <td>4927.000000</td>\n",
              "      <td>5381.900000</td>\n",
              "      <td>4468.000000</td>\n",
              "      <td>5339.000000</td>\n",
              "    </tr>\n",
              "    <tr>\n",
              "      <th>25%</th>\n",
              "      <td>7969.025000</td>\n",
              "      <td>8140.225000</td>\n",
              "      <td>7694.625000</td>\n",
              "      <td>7892.775000</td>\n",
              "    </tr>\n",
              "    <tr>\n",
              "      <th>50%</th>\n",
              "      <td>9184.150000</td>\n",
              "      <td>9299.500000</td>\n",
              "      <td>9056.100000</td>\n",
              "      <td>9176.900000</td>\n",
              "    </tr>\n",
              "    <tr>\n",
              "      <th>75%</th>\n",
              "      <td>9678.950000</td>\n",
              "      <td>9859.700000</td>\n",
              "      <td>9464.350000</td>\n",
              "      <td>9672.500000</td>\n",
              "    </tr>\n",
              "    <tr>\n",
              "      <th>max</th>\n",
              "      <td>12300.000000</td>\n",
              "      <td>12415.000000</td>\n",
              "      <td>11927.200000</td>\n",
              "      <td>12300.000000</td>\n",
              "    </tr>\n",
              "  </tbody>\n",
              "</table>\n",
              "</div>"
            ],
            "text/plain": [
              "              price          high           low          open\n",
              "count    236.000000    236.000000    236.000000    236.000000\n",
              "mean    8924.639831   9102.731780   8713.850000   8915.802966\n",
              "std     1527.913626   1487.242123   1533.155692   1495.375999\n",
              "min     4927.000000   5381.900000   4468.000000   5339.000000\n",
              "25%     7969.025000   8140.225000   7694.625000   7892.775000\n",
              "50%     9184.150000   9299.500000   9056.100000   9176.900000\n",
              "75%     9678.950000   9859.700000   9464.350000   9672.500000\n",
              "max    12300.000000  12415.000000  11927.200000  12300.000000"
            ]
          },
          "metadata": {
            "tags": []
          },
          "execution_count": 13
        }
      ]
    },
    {
      "cell_type": "code",
      "metadata": {
        "id": "nX5Mg1fHMpXK"
      },
      "source": [
        "df['log_ret'] = np.log(df['price']) - np.log(df['open'])"
      ],
      "execution_count": null,
      "outputs": []
    },
    {
      "cell_type": "code",
      "metadata": {
        "id": "9qftCdqHNr3V"
      },
      "source": [
        "df.sort_index(inplace=True,ascending=False)"
      ],
      "execution_count": null,
      "outputs": []
    },
    {
      "cell_type": "code",
      "metadata": {
        "colab": {
          "base_uri": "https://localhost:8080/",
          "height": 195
        },
        "id": "JW_JZ-28OF20",
        "outputId": "09e83a75-c2b3-44a9-f675-b66033b37af9"
      },
      "source": [
        "df.tail()"
      ],
      "execution_count": null,
      "outputs": [
        {
          "output_type": "execute_result",
          "data": {
            "text/html": [
              "<div>\n",
              "<style scoped>\n",
              "    .dataframe tbody tr th:only-of-type {\n",
              "        vertical-align: middle;\n",
              "    }\n",
              "\n",
              "    .dataframe tbody tr th {\n",
              "        vertical-align: top;\n",
              "    }\n",
              "\n",
              "    .dataframe thead th {\n",
              "        text-align: right;\n",
              "    }\n",
              "</style>\n",
              "<table border=\"1\" class=\"dataframe\">\n",
              "  <thead>\n",
              "    <tr style=\"text-align: right;\">\n",
              "      <th></th>\n",
              "      <th>volume</th>\n",
              "      <th>price</th>\n",
              "      <th>high</th>\n",
              "      <th>low</th>\n",
              "      <th>open</th>\n",
              "      <th>change</th>\n",
              "      <th>date</th>\n",
              "      <th>log_ret</th>\n",
              "    </tr>\n",
              "  </thead>\n",
              "  <tbody>\n",
              "    <tr>\n",
              "      <th>4</th>\n",
              "      <td>1.93K</td>\n",
              "      <td>11663.0</td>\n",
              "      <td>11692.6</td>\n",
              "      <td>11551.0</td>\n",
              "      <td>11685.0</td>\n",
              "      <td>-0.19%</td>\n",
              "      <td>23-08-2020 17:00:00</td>\n",
              "      <td>-0.001885</td>\n",
              "    </tr>\n",
              "    <tr>\n",
              "      <th>3</th>\n",
              "      <td>6.16K</td>\n",
              "      <td>11341.0</td>\n",
              "      <td>11768.0</td>\n",
              "      <td>11200.0</td>\n",
              "      <td>11768.0</td>\n",
              "      <td>-3.63%</td>\n",
              "      <td>25-08-2020 17:00:00</td>\n",
              "      <td>-0.036960</td>\n",
              "    </tr>\n",
              "    <tr>\n",
              "      <th>2</th>\n",
              "      <td>2.48K</td>\n",
              "      <td>11471.0</td>\n",
              "      <td>11482.0</td>\n",
              "      <td>11316.0</td>\n",
              "      <td>11341.0</td>\n",
              "      <td>1.15%</td>\n",
              "      <td>26-08-2020 17:00:00</td>\n",
              "      <td>0.011398</td>\n",
              "    </tr>\n",
              "    <tr>\n",
              "      <th>1</th>\n",
              "      <td>4.81K</td>\n",
              "      <td>11343.0</td>\n",
              "      <td>11471.1</td>\n",
              "      <td>11254.0</td>\n",
              "      <td>11471.1</td>\n",
              "      <td>-1.12%</td>\n",
              "      <td>27-08-2020 17:00:00</td>\n",
              "      <td>-0.011230</td>\n",
              "    </tr>\n",
              "    <tr>\n",
              "      <th>0</th>\n",
              "      <td>2.02K</td>\n",
              "      <td>11545.0</td>\n",
              "      <td>11545.0</td>\n",
              "      <td>11343.0</td>\n",
              "      <td>11343.0</td>\n",
              "      <td>1.78%</td>\n",
              "      <td>28-08-2020 17:00:00</td>\n",
              "      <td>0.017652</td>\n",
              "    </tr>\n",
              "  </tbody>\n",
              "</table>\n",
              "</div>"
            ],
            "text/plain": [
              "  volume    price     high  ...  change                 date   log_ret\n",
              "4  1.93K  11663.0  11692.6  ...  -0.19%  23-08-2020 17:00:00 -0.001885\n",
              "3  6.16K  11341.0  11768.0  ...  -3.63%  25-08-2020 17:00:00 -0.036960\n",
              "2  2.48K  11471.0  11482.0  ...   1.15%  26-08-2020 17:00:00  0.011398\n",
              "1  4.81K  11343.0  11471.1  ...  -1.12%  27-08-2020 17:00:00 -0.011230\n",
              "0  2.02K  11545.0  11545.0  ...   1.78%  28-08-2020 17:00:00  0.017652\n",
              "\n",
              "[5 rows x 8 columns]"
            ]
          },
          "metadata": {
            "tags": []
          },
          "execution_count": 16
        }
      ]
    },
    {
      "cell_type": "code",
      "metadata": {
        "id": "lGJjybu7MteZ"
      },
      "source": [
        ""
      ],
      "execution_count": null,
      "outputs": []
    },
    {
      "cell_type": "code",
      "metadata": {
        "colab": {
          "base_uri": "https://localhost:8080/",
          "height": 195
        },
        "id": "_Wmr0ho9OVvL",
        "outputId": "80bf254b-b43e-466a-a8c0-af23e4a6a004"
      },
      "source": [
        "df.tail()"
      ],
      "execution_count": null,
      "outputs": [
        {
          "output_type": "execute_result",
          "data": {
            "text/html": [
              "<div>\n",
              "<style scoped>\n",
              "    .dataframe tbody tr th:only-of-type {\n",
              "        vertical-align: middle;\n",
              "    }\n",
              "\n",
              "    .dataframe tbody tr th {\n",
              "        vertical-align: top;\n",
              "    }\n",
              "\n",
              "    .dataframe thead th {\n",
              "        text-align: right;\n",
              "    }\n",
              "</style>\n",
              "<table border=\"1\" class=\"dataframe\">\n",
              "  <thead>\n",
              "    <tr style=\"text-align: right;\">\n",
              "      <th></th>\n",
              "      <th>volume</th>\n",
              "      <th>price</th>\n",
              "      <th>high</th>\n",
              "      <th>low</th>\n",
              "      <th>open</th>\n",
              "      <th>change</th>\n",
              "      <th>date</th>\n",
              "      <th>log_ret</th>\n",
              "    </tr>\n",
              "  </thead>\n",
              "  <tbody>\n",
              "    <tr>\n",
              "      <th>153</th>\n",
              "      <td>3.69K</td>\n",
              "      <td>9452.1</td>\n",
              "      <td>9707.2</td>\n",
              "      <td>9402.6</td>\n",
              "      <td>9706.4</td>\n",
              "      <td>-2.62%</td>\n",
              "      <td>31-05-2020 17:00:00</td>\n",
              "      <td>-0.026549</td>\n",
              "    </tr>\n",
              "    <tr>\n",
              "      <th>94</th>\n",
              "      <td>5.83K</td>\n",
              "      <td>11350.0</td>\n",
              "      <td>11378.0</td>\n",
              "      <td>11038.0</td>\n",
              "      <td>11123.0</td>\n",
              "      <td>2.04%</td>\n",
              "      <td>31-07-2020 17:00:00</td>\n",
              "      <td>0.020203</td>\n",
              "    </tr>\n",
              "    <tr>\n",
              "      <th>67</th>\n",
              "      <td>2.24K</td>\n",
              "      <td>11671.0</td>\n",
              "      <td>11734.0</td>\n",
              "      <td>11639.1</td>\n",
              "      <td>11729.9</td>\n",
              "      <td>-0.50%</td>\n",
              "      <td>31-08-2020 17:00:00</td>\n",
              "      <td>-0.005034</td>\n",
              "    </tr>\n",
              "    <tr>\n",
              "      <th>22</th>\n",
              "      <td>8.95K</td>\n",
              "      <td>13788.0</td>\n",
              "      <td>13958.0</td>\n",
              "      <td>13499.0</td>\n",
              "      <td>13568.0</td>\n",
              "      <td>1.62%</td>\n",
              "      <td>31-10-2020 17:00:00</td>\n",
              "      <td>0.016085</td>\n",
              "    </tr>\n",
              "    <tr>\n",
              "      <th>306</th>\n",
              "      <td>2.99K</td>\n",
              "      <td>7208.3</td>\n",
              "      <td>7333.0</td>\n",
              "      <td>7161.3</td>\n",
              "      <td>7261.0</td>\n",
              "      <td>-0.72%</td>\n",
              "      <td>31-12-2019 17:00:00</td>\n",
              "      <td>-0.007284</td>\n",
              "    </tr>\n",
              "  </tbody>\n",
              "</table>\n",
              "</div>"
            ],
            "text/plain": [
              "    volume    price     high  ...  change                 date   log_ret\n",
              "153  3.69K   9452.1   9707.2  ...  -2.62%  31-05-2020 17:00:00 -0.026549\n",
              "94   5.83K  11350.0  11378.0  ...   2.04%  31-07-2020 17:00:00  0.020203\n",
              "67   2.24K  11671.0  11734.0  ...  -0.50%  31-08-2020 17:00:00 -0.005034\n",
              "22   8.95K  13788.0  13958.0  ...   1.62%  31-10-2020 17:00:00  0.016085\n",
              "306  2.99K   7208.3   7333.0  ...  -0.72%  31-12-2019 17:00:00 -0.007284\n",
              "\n",
              "[5 rows x 8 columns]"
            ]
          },
          "metadata": {
            "tags": []
          },
          "execution_count": 28
        }
      ]
    },
    {
      "cell_type": "code",
      "metadata": {
        "colab": {
          "base_uri": "https://localhost:8080/",
          "height": 545
        },
        "id": "0KHpmrjnM0IV",
        "outputId": "3791ec52-8fb3-45f3-b9d0-69e817ee8815"
      },
      "source": [
        "plot_acf(df['log_ret'])"
      ],
      "execution_count": null,
      "outputs": [
        {
          "output_type": "execute_result",
          "data": {
            "image/png": "[encoded data removed]",
            "text/plain": [
              "<Figure size 432x288 with 1 Axes>"
            ]
          },
          "metadata": {
            "tags": []
          },
          "execution_count": 20
        },
        {
          "output_type": "display_data",
          "data": {
            "image/png": "[encoded data removed]",
            "text/plain": [
              "<Figure size 432x288 with 1 Axes>"
            ]
          },
          "metadata": {
            "tags": [],
            "needs_background": "light"
          }
        }
      ]
    },
    {
      "cell_type": "code",
      "metadata": {
        "colab": {
          "base_uri": "https://localhost:8080/",
          "height": 545
        },
        "id": "uIFIC3zjNLaQ",
        "outputId": "23f075f2-0df9-4f3c-b724-3aff860480ad"
      },
      "source": [
        "plot_pacf(df['log_ret'])"
      ],
      "execution_count": null,
      "outputs": [
        {
          "output_type": "execute_result",
          "data": {
            "image/png": "[encoded data removed]",
            "text/plain": [
              "<Figure size 432x288 with 1 Axes>"
            ]
          },
          "metadata": {
            "tags": []
          },
          "execution_count": 19
        },
        {
          "output_type": "display_data",
          "data": {
            "image/png": "[encoded data removed]",
            "text/plain": [
              "<Figure size 432x288 with 1 Axes>"
            ]
          },
          "metadata": {
            "tags": [],
            "needs_background": "light"
          }
        }
      ]
    },
    {
      "cell_type": "code",
      "metadata": {
        "colab": {
          "base_uri": "https://localhost:8080/",
          "height": 282
        },
        "id": "Ygkra799NTKW",
        "outputId": "5f8e52fd-01dc-4454-87bc-c841354906cf"
      },
      "source": [
        "plt.plot(df['log_ret'])"
      ],
      "execution_count": null,
      "outputs": [
        {
          "output_type": "execute_result",
          "data": {
            "text/plain": [
              "[<matplotlib.lines.Line2D at 0x7f3e8dbb0e48>]"
            ]
          },
          "metadata": {
            "tags": []
          },
          "execution_count": 17
        },
        {
          "output_type": "display_data",
          "data": {
            "image/png": "[encoded data removed]",
            "text/plain": [
              "<Figure size 432x288 with 1 Axes>"
            ]
          },
          "metadata": {
            "tags": [],
            "needs_background": "light"
          }
        }
      ]
    },
    {
      "cell_type": "code",
      "metadata": {
        "colab": {
          "base_uri": "https://localhost:8080/",
          "height": 282
        },
        "id": "P2_5SSWoN1mM",
        "outputId": "67306b52-c1d7-4890-bcd0-d82de4cc43dc"
      },
      "source": [
        "plt.plot(df['log_ret']**2)"
      ],
      "execution_count": null,
      "outputs": [
        {
          "output_type": "execute_result",
          "data": {
            "text/plain": [
              "[<matplotlib.lines.Line2D at 0x7f1eb4ae2438>]"
            ]
          },
          "metadata": {
            "tags": []
          },
          "execution_count": 40
        },
        {
          "output_type": "display_data",
          "data": {
            "image/png": "[encoded data removed]",
            "text/plain": [
              "<Figure size 432x288 with 1 Axes>"
            ]
          },
          "metadata": {
            "tags": [],
            "needs_background": "light"
          }
        }
      ]
    },
    {
      "cell_type": "code",
      "metadata": {
        "colab": {
          "base_uri": "https://localhost:8080/"
        },
        "id": "4EE7SBKDN-V4",
        "outputId": "3f1315a8-0d0b-4b4f-c5fc-e66755b1dc85"
      },
      "source": [
        "df['price']"
      ],
      "execution_count": null,
      "outputs": [
        {
          "output_type": "execute_result",
          "data": {
            "text/plain": [
              "334     7450.1\n",
              "333     7350.3\n",
              "332     7336.0\n",
              "331     7238.2\n",
              "330     7440.0\n",
              "        ...   \n",
              "172     8811.4\n",
              "141     9468.3\n",
              "112     9315.8\n",
              "84     11591.0\n",
              "40     11560.0\n",
              "Name: price, Length: 335, dtype: float64"
            ]
          },
          "metadata": {
            "tags": []
          },
          "execution_count": 23
        }
      ]
    },
    {
      "cell_type": "code",
      "metadata": {
        "colab": {
          "base_uri": "https://localhost:8080/",
          "height": 282
        },
        "id": "5sJ-mEsmN62X",
        "outputId": "d84edf7d-e344-4908-bfa6-3489ac3e4ff0"
      },
      "source": [
        "plt.plot(df['price'])"
      ],
      "execution_count": null,
      "outputs": [
        {
          "output_type": "execute_result",
          "data": {
            "text/plain": [
              "[<matplotlib.lines.Line2D at 0x7f1eb47e2be0>]"
            ]
          },
          "metadata": {
            "tags": []
          },
          "execution_count": 60
        },
        {
          "output_type": "display_data",
          "data": {
            "image/png": "[encoded data removed]",
            "text/plain": [
              "<Figure size 432x288 with 1 Axes>"
            ]
          },
          "metadata": {
            "tags": [],
            "needs_background": "light"
          }
        }
      ]
    },
    {
      "cell_type": "code",
      "metadata": {
        "colab": {
          "base_uri": "https://localhost:8080/",
          "height": 282
        },
        "id": "VAYy3428OBe3",
        "outputId": "8f722487-fc5d-4f7d-aec2-bdb8c7262ccc"
      },
      "source": [
        "df['log_ret'].hist()"
      ],
      "execution_count": null,
      "outputs": [
        {
          "output_type": "execute_result",
          "data": {
            "text/plain": [
              "<matplotlib.axes._subplots.AxesSubplot at 0x7f1eb4984fd0>"
            ]
          },
          "metadata": {
            "tags": []
          },
          "execution_count": 42
        },
        {
          "output_type": "display_data",
          "data": {
            "image/png": "[encoded data removed]",
            "text/plain": [
              "<Figure size 432x288 with 1 Axes>"
            ]
          },
          "metadata": {
            "tags": [],
            "needs_background": "light"
          }
        }
      ]
    },
    {
      "cell_type": "code",
      "metadata": {
        "id": "rDmYZN3eOKKG"
      },
      "source": [
        "df['target'] = [1 if log_diff > 0 else 0 for log_diff in df['log_ret']]"
      ],
      "execution_count": null,
      "outputs": []
    },
    {
      "cell_type": "code",
      "metadata": {
        "colab": {
          "base_uri": "https://localhost:8080/",
          "height": 195
        },
        "id": "4sgQpcR1OLwt",
        "outputId": "03455d0e-7515-4cdc-81e9-19a406ad23d9"
      },
      "source": [
        "df.reset_index(inplace=True)\n",
        "df.head()"
      ],
      "execution_count": null,
      "outputs": [
        {
          "output_type": "execute_result",
          "data": {
            "text/html": [
              "<div>\n",
              "<style scoped>\n",
              "    .dataframe tbody tr th:only-of-type {\n",
              "        vertical-align: middle;\n",
              "    }\n",
              "\n",
              "    .dataframe tbody tr th {\n",
              "        vertical-align: top;\n",
              "    }\n",
              "\n",
              "    .dataframe thead th {\n",
              "        text-align: right;\n",
              "    }\n",
              "</style>\n",
              "<table border=\"1\" class=\"dataframe\">\n",
              "  <thead>\n",
              "    <tr style=\"text-align: right;\">\n",
              "      <th></th>\n",
              "      <th>index</th>\n",
              "      <th>volume</th>\n",
              "      <th>price</th>\n",
              "      <th>high</th>\n",
              "      <th>low</th>\n",
              "      <th>open</th>\n",
              "      <th>change</th>\n",
              "      <th>date</th>\n",
              "      <th>log_ret</th>\n",
              "      <th>target</th>\n",
              "    </tr>\n",
              "  </thead>\n",
              "  <tbody>\n",
              "    <tr>\n",
              "      <th>0</th>\n",
              "      <td>235</td>\n",
              "      <td>2.07K</td>\n",
              "      <td>7212.7</td>\n",
              "      <td>7268.8</td>\n",
              "      <td>7185.4</td>\n",
              "      <td>7208.2</td>\n",
              "      <td>0.06%</td>\n",
              "      <td>01-01-2020 17:00:00</td>\n",
              "      <td>0.000624</td>\n",
              "      <td>1</td>\n",
              "    </tr>\n",
              "    <tr>\n",
              "      <th>1</th>\n",
              "      <td>234</td>\n",
              "      <td>4.85K</td>\n",
              "      <td>6989.4</td>\n",
              "      <td>7225.2</td>\n",
              "      <td>6963.0</td>\n",
              "      <td>7212.7</td>\n",
              "      <td>-3.10%</td>\n",
              "      <td>02-01-2020 17:00:00</td>\n",
              "      <td>-0.031449</td>\n",
              "      <td>0</td>\n",
              "    </tr>\n",
              "    <tr>\n",
              "      <th>2</th>\n",
              "      <td>233</td>\n",
              "      <td>6.68K</td>\n",
              "      <td>7367.5</td>\n",
              "      <td>7437.6</td>\n",
              "      <td>6909.3</td>\n",
              "      <td>6989.4</td>\n",
              "      <td>5.41%</td>\n",
              "      <td>03-01-2020 17:00:00</td>\n",
              "      <td>0.052684</td>\n",
              "      <td>1</td>\n",
              "    </tr>\n",
              "    <tr>\n",
              "      <th>3</th>\n",
              "      <td>232</td>\n",
              "      <td>4.27K</td>\n",
              "      <td>7369.8</td>\n",
              "      <td>7422.0</td>\n",
              "      <td>7297.7</td>\n",
              "      <td>7371.8</td>\n",
              "      <td>0.03%</td>\n",
              "      <td>04-01-2020 17:00:00</td>\n",
              "      <td>-0.000271</td>\n",
              "      <td>0</td>\n",
              "    </tr>\n",
              "    <tr>\n",
              "      <th>4</th>\n",
              "      <td>231</td>\n",
              "      <td>4.45K</td>\n",
              "      <td>7364.6</td>\n",
              "      <td>7509.9</td>\n",
              "      <td>7315.8</td>\n",
              "      <td>7370.3</td>\n",
              "      <td>-0.07%</td>\n",
              "      <td>05-01-2020 17:00:00</td>\n",
              "      <td>-0.000774</td>\n",
              "      <td>0</td>\n",
              "    </tr>\n",
              "  </tbody>\n",
              "</table>\n",
              "</div>"
            ],
            "text/plain": [
              "   index volume   price    high  ...  change                 date   log_ret target\n",
              "0    235  2.07K  7212.7  7268.8  ...   0.06%  01-01-2020 17:00:00  0.000624      1\n",
              "1    234  4.85K  6989.4  7225.2  ...  -3.10%  02-01-2020 17:00:00 -0.031449      0\n",
              "2    233  6.68K  7367.5  7437.6  ...   5.41%  03-01-2020 17:00:00  0.052684      1\n",
              "3    232  4.27K  7369.8  7422.0  ...   0.03%  04-01-2020 17:00:00 -0.000271      0\n",
              "4    231  4.45K  7364.6  7509.9  ...  -0.07%  05-01-2020 17:00:00 -0.000774      0\n",
              "\n",
              "[5 rows x 10 columns]"
            ]
          },
          "metadata": {
            "tags": []
          },
          "execution_count": 81
        }
      ]
    },
    {
      "cell_type": "code",
      "metadata": {
        "colab": {
          "base_uri": "https://localhost:8080/",
          "height": 195
        },
        "id": "z1oIaprlOLzM",
        "outputId": "02b43586-7747-4330-99d2-c04233b7c770"
      },
      "source": [
        "format = '%d-%m-%Y %H:%M:%S'\n",
        "timezone = 'GMT'\n",
        "df['u_timestamp'] = OpenBlender.dateToUnix(df['date'], \n",
        "                                           date_format = format, \n",
        "                                           timezone = timezone)\n",
        "df = df[['date', 'u_timestamp', 'price', 'target']]\n",
        "df.head()"
      ],
      "execution_count": null,
      "outputs": [
        {
          "output_type": "execute_result",
          "data": {
            "text/html": [
              "<div>\n",
              "<style scoped>\n",
              "    .dataframe tbody tr th:only-of-type {\n",
              "        vertical-align: middle;\n",
              "    }\n",
              "\n",
              "    .dataframe tbody tr th {\n",
              "        vertical-align: top;\n",
              "    }\n",
              "\n",
              "    .dataframe thead th {\n",
              "        text-align: right;\n",
              "    }\n",
              "</style>\n",
              "<table border=\"1\" class=\"dataframe\">\n",
              "  <thead>\n",
              "    <tr style=\"text-align: right;\">\n",
              "      <th></th>\n",
              "      <th>date</th>\n",
              "      <th>u_timestamp</th>\n",
              "      <th>price</th>\n",
              "      <th>target</th>\n",
              "    </tr>\n",
              "  </thead>\n",
              "  <tbody>\n",
              "    <tr>\n",
              "      <th>0</th>\n",
              "      <td>28-08-2020 17:00:00</td>\n",
              "      <td>1.598634e+09</td>\n",
              "      <td>11545.0</td>\n",
              "      <td>1</td>\n",
              "    </tr>\n",
              "    <tr>\n",
              "      <th>1</th>\n",
              "      <td>27-08-2020 17:00:00</td>\n",
              "      <td>1.598548e+09</td>\n",
              "      <td>11343.0</td>\n",
              "      <td>0</td>\n",
              "    </tr>\n",
              "    <tr>\n",
              "      <th>2</th>\n",
              "      <td>26-08-2020 17:00:00</td>\n",
              "      <td>1.598461e+09</td>\n",
              "      <td>11471.0</td>\n",
              "      <td>1</td>\n",
              "    </tr>\n",
              "    <tr>\n",
              "      <th>3</th>\n",
              "      <td>25-08-2020 17:00:00</td>\n",
              "      <td>1.598375e+09</td>\n",
              "      <td>11341.0</td>\n",
              "      <td>0</td>\n",
              "    </tr>\n",
              "    <tr>\n",
              "      <th>4</th>\n",
              "      <td>23-08-2020 17:00:00</td>\n",
              "      <td>1.598202e+09</td>\n",
              "      <td>11663.0</td>\n",
              "      <td>0</td>\n",
              "    </tr>\n",
              "  </tbody>\n",
              "</table>\n",
              "</div>"
            ],
            "text/plain": [
              "                  date   u_timestamp    price  target\n",
              "0  28-08-2020 17:00:00  1.598634e+09  11545.0       1\n",
              "1  27-08-2020 17:00:00  1.598548e+09  11343.0       0\n",
              "2  26-08-2020 17:00:00  1.598461e+09  11471.0       1\n",
              "3  25-08-2020 17:00:00  1.598375e+09  11341.0       0\n",
              "4  23-08-2020 17:00:00  1.598202e+09  11663.0       0"
            ]
          },
          "metadata": {
            "tags": []
          },
          "execution_count": 20
        }
      ]
    },
    {
      "cell_type": "code",
      "metadata": {
        "colab": {
          "base_uri": "https://localhost:8080/"
        },
        "id": "g31v_wTPOL2F",
        "outputId": "2d252be7-00d0-4685-bade-d0388b0bcf47"
      },
      "source": [
        "search_keyword = 'bitcoin'\n",
        "df = df.sort_values('u_timestamp').reset_index(drop = True)\n",
        "print('From : ' + OpenBlender.unixToDate(min(df.u_timestamp)))\n",
        "print('Until: ' + OpenBlender.unixToDate(max(df.u_timestamp)))\n",
        "OpenBlender.searchTimeBlends(api_token,df.u_timestamp,search_keyword)"
      ],
      "execution_count": null,
      "outputs": [
        {
          "output_type": "stream",
          "text": [
            "From : 01-01-2020 17:00:00\n",
            "Until: 28-08-2020 17:00:00\n"
          ],
          "name": "stdout"
        },
        {
          "output_type": "execute_result",
          "data": {
            "text/plain": [
              "[{'description': 'Daily prices and volumes for the digital currency BitcoinsCash.',\n",
              "  'features': ['close',\n",
              "   'high',\n",
              "   'low',\n",
              "   'market_cap',\n",
              "   'open',\n",
              "   'timestamp',\n",
              "   'volume'],\n",
              "  'id_dataset': '5d9f899b951629329a748593',\n",
              "  'intersection': '100%',\n",
              "  'name': 'Bitcoins Cash Historical data',\n",
              "  'num_observations': 1183,\n",
              "  'url': 'https://www.openblender.io/#/dataset/explore/5d9f899b951629329a748593'},\n",
              " {'description': 'Daily Price of Bitcoin SV',\n",
              "  'features': ['change',\n",
              "   'high',\n",
              "   'low',\n",
              "   'open',\n",
              "   'price',\n",
              "   'timestamp',\n",
              "   'volume'],\n",
              "  'id_dataset': '5db7a7c99516294f3f6c2faf',\n",
              "  'intersection': '100%',\n",
              "  'name': 'Bitcoin SV Price',\n",
              "  'num_observations': 318,\n",
              "  'url': 'https://www.openblender.io/#/dataset/explore/5db7a7c99516294f3f6c2faf'},\n",
              " {'description': 'Daily Price of Bitcoin Gold',\n",
              "  'features': ['change',\n",
              "   'high',\n",
              "   'low',\n",
              "   'open',\n",
              "   'price',\n",
              "   'timestamp',\n",
              "   'volume'],\n",
              "  'id_dataset': '5db7aa0b9516294f3f6c30ca',\n",
              "  'intersection': '100%',\n",
              "  'name': 'Bitcoin Gold Price',\n",
              "  'num_observations': 316,\n",
              "  'url': 'https://www.openblender.io/#/dataset/explore/5db7aa0b9516294f3f6c30ca'},\n",
              " {'description': 'Daily Price of Bitcoin Diamond',\n",
              "  'features': ['change',\n",
              "   'high',\n",
              "   'low',\n",
              "   'open',\n",
              "   'price',\n",
              "   'timestamp',\n",
              "   'volume'],\n",
              "  'id_dataset': '5db7ab619516294f40b8cb94',\n",
              "  'intersection': '100%',\n",
              "  'name': 'Bitcoin Diamond Price',\n",
              "  'num_observations': 382,\n",
              "  'url': 'https://www.openblender.io/#/dataset/explore/5db7ab619516294f40b8cb94'},\n",
              " {'description': 'The latest Twitter threads from Bitcoin News (@BTCTN). Official Twitter account for http://news.bitcoin.com/',\n",
              "  'features': ['associated_tweet',\n",
              "   'author',\n",
              "   'author_id',\n",
              "   'favorite_count',\n",
              "   'hashtags',\n",
              "   'id',\n",
              "   'links',\n",
              "   'mentions',\n",
              "   're_tweeter',\n",
              "   'reply_count',\n",
              "   'retweet_count',\n",
              "   'text',\n",
              "   'time',\n",
              "   'type'],\n",
              "  'id_dataset': '5ea2039095162936337156c9',\n",
              "  'intersection': '100%',\n",
              "  'name': 'Bitcoin News Tweet',\n",
              "  'num_observations': 2712,\n",
              "  'url': 'https://www.openblender.io/#/dataset/explore/5ea2039095162936337156c9'},\n",
              " {'description': 'The latest Twitter threads from Coinnounce  Bitcoin  Altcoin News (coinnounce). We cover bitcoin and altcoin news 247.',\n",
              "  'features': ['associated_tweet',\n",
              "   'author',\n",
              "   'author_id',\n",
              "   'favorite_count',\n",
              "   'hashtags',\n",
              "   'id',\n",
              "   'links',\n",
              "   'mentions',\n",
              "   're_tweeter',\n",
              "   'reply_count',\n",
              "   'retweet_count',\n",
              "   'text',\n",
              "   'time',\n",
              "   'type'],\n",
              "  'id_dataset': '5ea20ec595162936337159b4',\n",
              "  'intersection': '100%',\n",
              "  'name': 'Coinnounce  Bitcoin  Altcoin News Tweet',\n",
              "  'num_observations': 218,\n",
              "  'url': 'https://www.openblender.io/#/dataset/explore/5ea20ec595162936337159b4'},\n",
              " {'description': 'Daily exchange rate of US dollar vs Bitcoin',\n",
              "  'features': ['price', 'timestamp'],\n",
              "  'id_dataset': '5e83717095162945e8ae242c',\n",
              "  'intersection': '62.39%',\n",
              "  'name': 'Bitcoin vs USD hot',\n",
              "  'num_observations': 1014,\n",
              "  'url': 'https://www.openblender.io/#/dataset/explore/5e83717095162945e8ae242c'},\n",
              " {'description': 'The latest Twitter threads from CoinJournal (@CoinJournal).',\n",
              "  'features': ['associated_tweet',\n",
              "   'author',\n",
              "   'author_id',\n",
              "   'favorite_count',\n",
              "   'hashtags',\n",
              "   'id',\n",
              "   'links',\n",
              "   'mentions',\n",
              "   're_tweeter',\n",
              "   'reply_count',\n",
              "   'retweet_count',\n",
              "   'text',\n",
              "   'time',\n",
              "   'type'],\n",
              "  'id_dataset': '5ea20b4e95162936348f141d',\n",
              "  'intersection': '98.17%',\n",
              "  'name': 'CoinJournal Tweet',\n",
              "  'num_observations': 403,\n",
              "  'url': 'https://www.openblender.io/#/dataset/explore/5ea20b4e95162936348f141d'}]"
            ]
          },
          "metadata": {
            "tags": []
          },
          "execution_count": 20
        }
      ]
    },
    {
      "cell_type": "code",
      "metadata": {
        "colab": {
          "base_uri": "https://localhost:8080/"
        },
        "id": "kgIT4qcURA7E",
        "outputId": "4c3013f9-887b-4caf-ab32-60b0459c6c06"
      },
      "source": [
        "!pip install fsspec"
      ],
      "execution_count": null,
      "outputs": [
        {
          "output_type": "stream",
          "text": [
            "Collecting fsspec\n",
            "\u001b[?25l  Downloading https://files.pythonhosted.org/packages/a5/8b/1df260f860f17cb08698170153ef7db672c497c1840dcc8613ce26a8a005/fsspec-0.8.4-py3-none-any.whl (91kB)\n",
            "\r\u001b[K     |███▋                            | 10kB 27.0MB/s eta 0:00:01\r\u001b[K     |███████▏                        | 20kB 14.2MB/s eta 0:00:01\r\u001b[K     |██████████▉                     | 30kB 12.5MB/s eta 0:00:01\r\u001b[K     |██████████████▍                 | 40kB 11.6MB/s eta 0:00:01\r\u001b[K     |██████████████████              | 51kB 8.1MB/s eta 0:00:01\r\u001b[K     |█████████████████████▋          | 61kB 7.4MB/s eta 0:00:01\r\u001b[K     |█████████████████████████▏      | 71kB 8.4MB/s eta 0:00:01\r\u001b[K     |████████████████████████████▊   | 81kB 9.3MB/s eta 0:00:01\r\u001b[K     |████████████████████████████████| 92kB 5.0MB/s \n",
            "\u001b[?25hInstalling collected packages: fsspec\n",
            "Successfully installed fsspec-0.8.4\n"
          ],
          "name": "stdout"
        }
      ]
    },
    {
      "cell_type": "code",
      "metadata": {
        "colab": {
          "base_uri": "https://localhost:8080/"
        },
        "id": "xpY9eaE6YQC7",
        "outputId": "9327834b-78f6-45c6-d608-56dca45cf51e"
      },
      "source": [
        "alt_source = {\n",
        "                'id_dataset':'5ea20ec595162936337159b4',\n",
        "                'feature' : 'text'\n",
        "            }\n",
        "# Now, let's 'timeBlend' it to our dataset\n",
        "df_blend_alt = OpenBlender.timeBlend( token = api_token,\n",
        "                                  anchor_ts = df.u_timestamp,\n",
        "                                  blend_source = alt_source,\n",
        "                                  blend_type = 'agg_in_intervals',\n",
        "                                  interval_size = 60 * 60 * 24,\n",
        "                                  direction = 'time_prior',\n",
        "                                  interval_output = 'list',\n",
        "                                  missing_values = 'raw')"
      ],
      "execution_count": null,
      "outputs": [
        {
          "output_type": "stream",
          "text": [
            "Task ID: '5fc869d80895fafb4a9d8d4c'.\n",
            "Total estimated consumption: 9440.0 processing units.\n",
            "Task confirmed. Starting download..\n",
            "100%\n"
          ],
          "name": "stdout"
        }
      ]
    },
    {
      "cell_type": "code",
      "metadata": {
        "colab": {
          "base_uri": "https://localhost:8080/",
          "height": 195
        },
        "id": "Jad08XoLYi9H",
        "outputId": "5f1fb556-2b4e-4fba-d09d-6d671ea88d64"
      },
      "source": [
        "df_blend_alt.head()"
      ],
      "execution_count": null,
      "outputs": [
        {
          "output_type": "execute_result",
          "data": {
            "text/html": [
              "<div>\n",
              "<style scoped>\n",
              "    .dataframe tbody tr th:only-of-type {\n",
              "        vertical-align: middle;\n",
              "    }\n",
              "\n",
              "    .dataframe tbody tr th {\n",
              "        vertical-align: top;\n",
              "    }\n",
              "\n",
              "    .dataframe thead th {\n",
              "        text-align: right;\n",
              "    }\n",
              "</style>\n",
              "<table border=\"1\" class=\"dataframe\">\n",
              "  <thead>\n",
              "    <tr style=\"text-align: right;\">\n",
              "      <th></th>\n",
              "      <th>timestamp</th>\n",
              "      <th>COINNOUNCE.text_COUNT_last1days</th>\n",
              "      <th>COINNOUNCE.text_last1days</th>\n",
              "    </tr>\n",
              "  </thead>\n",
              "  <tbody>\n",
              "    <tr>\n",
              "      <th>0</th>\n",
              "      <td>1577898000</td>\n",
              "      <td>0</td>\n",
              "      <td>[]</td>\n",
              "    </tr>\n",
              "    <tr>\n",
              "      <th>1</th>\n",
              "      <td>1577984400</td>\n",
              "      <td>0</td>\n",
              "      <td>[]</td>\n",
              "    </tr>\n",
              "    <tr>\n",
              "      <th>2</th>\n",
              "      <td>1578070800</td>\n",
              "      <td>0</td>\n",
              "      <td>[]</td>\n",
              "    </tr>\n",
              "    <tr>\n",
              "      <th>3</th>\n",
              "      <td>1578157200</td>\n",
              "      <td>0</td>\n",
              "      <td>[]</td>\n",
              "    </tr>\n",
              "    <tr>\n",
              "      <th>4</th>\n",
              "      <td>1578243600</td>\n",
              "      <td>0</td>\n",
              "      <td>[]</td>\n",
              "    </tr>\n",
              "  </tbody>\n",
              "</table>\n",
              "</div>"
            ],
            "text/plain": [
              "    timestamp  COINNOUNCE.text_COUNT_last1days COINNOUNCE.text_last1days\n",
              "0  1577898000                                0                        []\n",
              "1  1577984400                                0                        []\n",
              "2  1578070800                                0                        []\n",
              "3  1578157200                                0                        []\n",
              "4  1578243600                                0                        []"
            ]
          },
          "metadata": {
            "tags": []
          },
          "execution_count": 23
        }
      ]
    },
    {
      "cell_type": "code",
      "metadata": {
        "colab": {
          "base_uri": "https://localhost:8080/",
          "height": 262
        },
        "id": "XWtB1nR4OL5O",
        "outputId": "69c8f4fd-57af-4800-e375-a4adf9d1e1da"
      },
      "source": [
        "# We need to add the 'id_dataset' and the 'feature' name we want.\n",
        "\n",
        "blend_source = {\n",
        "                'id_dataset':'5ea2039095162936337156c9',\n",
        "                'feature' : 'text'\n",
        "            }\n",
        "# Now, let's 'timeBlend' it to our dataset\n",
        "df_blend = OpenBlender.timeBlend( token = api_token,\n",
        "                                  anchor_ts = df.u_timestamp,\n",
        "                                  blend_source = blend_source,\n",
        "                                  blend_type = 'agg_in_intervals',\n",
        "                                  interval_size = 60 * 60 * 24,\n",
        "                                  direction = 'time_prior',\n",
        "                                  interval_output = 'list',\n",
        "                                  missing_values = 'raw')\n",
        "df = pd.concat([df, df_blend.loc[:, df_blend.columns != 'u_timestamp']], axis = 1)\n",
        "df.head()"
      ],
      "execution_count": null,
      "outputs": [
        {
          "output_type": "stream",
          "text": [
            "Task ID: '5fc869e60895fafb4a9d8d4c'.\n",
            "Total estimated consumption: 9440.0 processing units.\n",
            "Task confirmed. Starting download..\n",
            "100%\n"
          ],
          "name": "stdout"
        },
        {
          "output_type": "execute_result",
          "data": {
            "text/html": [
              "<div>\n",
              "<style scoped>\n",
              "    .dataframe tbody tr th:only-of-type {\n",
              "        vertical-align: middle;\n",
              "    }\n",
              "\n",
              "    .dataframe tbody tr th {\n",
              "        vertical-align: top;\n",
              "    }\n",
              "\n",
              "    .dataframe thead th {\n",
              "        text-align: right;\n",
              "    }\n",
              "</style>\n",
              "<table border=\"1\" class=\"dataframe\">\n",
              "  <thead>\n",
              "    <tr style=\"text-align: right;\">\n",
              "      <th></th>\n",
              "      <th>date</th>\n",
              "      <th>u_timestamp</th>\n",
              "      <th>price</th>\n",
              "      <th>target</th>\n",
              "      <th>timestamp</th>\n",
              "      <th>BITCOIN_NE.text_COUNT_last1days</th>\n",
              "      <th>BITCOIN_NE.text_last1days</th>\n",
              "    </tr>\n",
              "  </thead>\n",
              "  <tbody>\n",
              "    <tr>\n",
              "      <th>0</th>\n",
              "      <td>28-08-2020 17:00:00</td>\n",
              "      <td>1.598634e+09</td>\n",
              "      <td>11545.0</td>\n",
              "      <td>1</td>\n",
              "      <td>1577898000</td>\n",
              "      <td>3</td>\n",
              "      <td>[etoro ceo yoni assia on reaching 12 million u...</td>\n",
              "    </tr>\n",
              "    <tr>\n",
              "      <th>1</th>\n",
              "      <td>27-08-2020 17:00:00</td>\n",
              "      <td>1.598548e+09</td>\n",
              "      <td>11343.0</td>\n",
              "      <td>0</td>\n",
              "      <td>1577984400</td>\n",
              "      <td>7</td>\n",
              "      <td>[government confirms crypto profits not taxabl...</td>\n",
              "    </tr>\n",
              "    <tr>\n",
              "      <th>2</th>\n",
              "      <td>26-08-2020 17:00:00</td>\n",
              "      <td>1.598461e+09</td>\n",
              "      <td>11471.0</td>\n",
              "      <td>1</td>\n",
              "      <td>1578070800</td>\n",
              "      <td>8</td>\n",
              "      <td>[ticker tool uses the bch blockchain to provid...</td>\n",
              "    </tr>\n",
              "    <tr>\n",
              "      <th>3</th>\n",
              "      <td>25-08-2020 17:00:00</td>\n",
              "      <td>1.598375e+09</td>\n",
              "      <td>11341.0</td>\n",
              "      <td>0</td>\n",
              "      <td>1578157200</td>\n",
              "      <td>6</td>\n",
              "      <td>[crypto fundraising is changing again in 2020 ...</td>\n",
              "    </tr>\n",
              "    <tr>\n",
              "      <th>4</th>\n",
              "      <td>23-08-2020 17:00:00</td>\n",
              "      <td>1.598202e+09</td>\n",
              "      <td>11663.0</td>\n",
              "      <td>0</td>\n",
              "      <td>1578243600</td>\n",
              "      <td>5</td>\n",
              "      <td>[subhash chandra garg on the future of crypto ...</td>\n",
              "    </tr>\n",
              "  </tbody>\n",
              "</table>\n",
              "</div>"
            ],
            "text/plain": [
              "                  date  ...                          BITCOIN_NE.text_last1days\n",
              "0  28-08-2020 17:00:00  ...  [etoro ceo yoni assia on reaching 12 million u...\n",
              "1  27-08-2020 17:00:00  ...  [government confirms crypto profits not taxabl...\n",
              "2  26-08-2020 17:00:00  ...  [ticker tool uses the bch blockchain to provid...\n",
              "3  25-08-2020 17:00:00  ...  [crypto fundraising is changing again in 2020 ...\n",
              "4  23-08-2020 17:00:00  ...  [subhash chandra garg on the future of crypto ...\n",
              "\n",
              "[5 rows x 7 columns]"
            ]
          },
          "metadata": {
            "tags": []
          },
          "execution_count": 22
        }
      ]
    },
    {
      "cell_type": "code",
      "metadata": {
        "id": "mbfiAVWIVFJG"
      },
      "source": [
        "df = pd.concat([df, df_blend_alt.loc[:, df_blend_alt.columns != 'u_timestamp']], axis = 1)"
      ],
      "execution_count": null,
      "outputs": []
    },
    {
      "cell_type": "code",
      "metadata": {
        "colab": {
          "base_uri": "https://localhost:8080/",
          "height": 383
        },
        "id": "Sfget8pkVSlx",
        "outputId": "9d87ca85-7eb7-4e7c-fa8b-9fc7a52ff744"
      },
      "source": [
        "df.head()"
      ],
      "execution_count": null,
      "outputs": [
        {
          "output_type": "execute_result",
          "data": {
            "text/html": [
              "<div>\n",
              "<style scoped>\n",
              "    .dataframe tbody tr th:only-of-type {\n",
              "        vertical-align: middle;\n",
              "    }\n",
              "\n",
              "    .dataframe tbody tr th {\n",
              "        vertical-align: top;\n",
              "    }\n",
              "\n",
              "    .dataframe thead th {\n",
              "        text-align: right;\n",
              "    }\n",
              "</style>\n",
              "<table border=\"1\" class=\"dataframe\">\n",
              "  <thead>\n",
              "    <tr style=\"text-align: right;\">\n",
              "      <th></th>\n",
              "      <th>date</th>\n",
              "      <th>u_timestamp</th>\n",
              "      <th>price</th>\n",
              "      <th>target</th>\n",
              "      <th>timestamp</th>\n",
              "      <th>BITCOIN_NE.text_COUNT_last1days</th>\n",
              "      <th>BITCOIN_NE.text_last1days</th>\n",
              "      <th>timestamp</th>\n",
              "      <th>COINNOUNCE.text_COUNT_last1days</th>\n",
              "      <th>COINNOUNCE.text_last1days</th>\n",
              "    </tr>\n",
              "  </thead>\n",
              "  <tbody>\n",
              "    <tr>\n",
              "      <th>0</th>\n",
              "      <td>28-08-2020 17:00:00</td>\n",
              "      <td>1.598634e+09</td>\n",
              "      <td>11545.0</td>\n",
              "      <td>1</td>\n",
              "      <td>1577898000</td>\n",
              "      <td>3</td>\n",
              "      <td>[etoro ceo yoni assia on reaching 12 million u...</td>\n",
              "      <td>1577898000</td>\n",
              "      <td>0</td>\n",
              "      <td>[]</td>\n",
              "    </tr>\n",
              "    <tr>\n",
              "      <th>1</th>\n",
              "      <td>27-08-2020 17:00:00</td>\n",
              "      <td>1.598548e+09</td>\n",
              "      <td>11343.0</td>\n",
              "      <td>0</td>\n",
              "      <td>1577984400</td>\n",
              "      <td>7</td>\n",
              "      <td>[government confirms crypto profits not taxabl...</td>\n",
              "      <td>1577984400</td>\n",
              "      <td>0</td>\n",
              "      <td>[]</td>\n",
              "    </tr>\n",
              "    <tr>\n",
              "      <th>2</th>\n",
              "      <td>26-08-2020 17:00:00</td>\n",
              "      <td>1.598461e+09</td>\n",
              "      <td>11471.0</td>\n",
              "      <td>1</td>\n",
              "      <td>1578070800</td>\n",
              "      <td>8</td>\n",
              "      <td>[ticker tool uses the bch blockchain to provid...</td>\n",
              "      <td>1578070800</td>\n",
              "      <td>0</td>\n",
              "      <td>[]</td>\n",
              "    </tr>\n",
              "    <tr>\n",
              "      <th>3</th>\n",
              "      <td>25-08-2020 17:00:00</td>\n",
              "      <td>1.598375e+09</td>\n",
              "      <td>11341.0</td>\n",
              "      <td>0</td>\n",
              "      <td>1578157200</td>\n",
              "      <td>6</td>\n",
              "      <td>[crypto fundraising is changing again in 2020 ...</td>\n",
              "      <td>1578157200</td>\n",
              "      <td>0</td>\n",
              "      <td>[]</td>\n",
              "    </tr>\n",
              "    <tr>\n",
              "      <th>4</th>\n",
              "      <td>23-08-2020 17:00:00</td>\n",
              "      <td>1.598202e+09</td>\n",
              "      <td>11663.0</td>\n",
              "      <td>0</td>\n",
              "      <td>1578243600</td>\n",
              "      <td>5</td>\n",
              "      <td>[subhash chandra garg on the future of crypto ...</td>\n",
              "      <td>1578243600</td>\n",
              "      <td>0</td>\n",
              "      <td>[]</td>\n",
              "    </tr>\n",
              "  </tbody>\n",
              "</table>\n",
              "</div>"
            ],
            "text/plain": [
              "                  date  ...  COINNOUNCE.text_last1days\n",
              "0  28-08-2020 17:00:00  ...                         []\n",
              "1  27-08-2020 17:00:00  ...                         []\n",
              "2  26-08-2020 17:00:00  ...                         []\n",
              "3  25-08-2020 17:00:00  ...                         []\n",
              "4  23-08-2020 17:00:00  ...                         []\n",
              "\n",
              "[5 rows x 10 columns]"
            ]
          },
          "metadata": {
            "tags": []
          },
          "execution_count": 24
        }
      ]
    },
    {
      "cell_type": "code",
      "metadata": {
        "colab": {
          "base_uri": "https://localhost:8080/",
          "height": 279
        },
        "id": "Y_4GQmzI32_R",
        "outputId": "1bd46531-233f-4f8d-903a-1659fc70e902"
      },
      "source": [
        "df.head()"
      ],
      "execution_count": null,
      "outputs": [
        {
          "output_type": "execute_result",
          "data": {
            "text/html": [
              "<div>\n",
              "<style scoped>\n",
              "    .dataframe tbody tr th:only-of-type {\n",
              "        vertical-align: middle;\n",
              "    }\n",
              "\n",
              "    .dataframe tbody tr th {\n",
              "        vertical-align: top;\n",
              "    }\n",
              "\n",
              "    .dataframe thead th {\n",
              "        text-align: right;\n",
              "    }\n",
              "</style>\n",
              "<table border=\"1\" class=\"dataframe\">\n",
              "  <thead>\n",
              "    <tr style=\"text-align: right;\">\n",
              "      <th></th>\n",
              "      <th>date</th>\n",
              "      <th>u_timestamp</th>\n",
              "      <th>price</th>\n",
              "      <th>target</th>\n",
              "      <th>timestamp</th>\n",
              "      <th>BITCOIN_NE.text_COUNT_last1days</th>\n",
              "      <th>text</th>\n",
              "      <th>timestamp</th>\n",
              "      <th>COINNOUNCE.text_COUNT_last1days</th>\n",
              "      <th>text_alt</th>\n",
              "    </tr>\n",
              "  </thead>\n",
              "  <tbody>\n",
              "    <tr>\n",
              "      <th>0</th>\n",
              "      <td>28-08-2020 17:00:00</td>\n",
              "      <td>1.598634e+09</td>\n",
              "      <td>11545.0</td>\n",
              "      <td>1</td>\n",
              "      <td>1577898000</td>\n",
              "      <td>3</td>\n",
              "      <td>[etoro ceo yoni assia on reaching 12 million u...</td>\n",
              "      <td>1577898000</td>\n",
              "      <td>0</td>\n",
              "      <td>[]</td>\n",
              "    </tr>\n",
              "    <tr>\n",
              "      <th>1</th>\n",
              "      <td>27-08-2020 17:00:00</td>\n",
              "      <td>1.598548e+09</td>\n",
              "      <td>11343.0</td>\n",
              "      <td>0</td>\n",
              "      <td>1577984400</td>\n",
              "      <td>7</td>\n",
              "      <td>[government confirms crypto profits not taxabl...</td>\n",
              "      <td>1577984400</td>\n",
              "      <td>0</td>\n",
              "      <td>[]</td>\n",
              "    </tr>\n",
              "    <tr>\n",
              "      <th>2</th>\n",
              "      <td>26-08-2020 17:00:00</td>\n",
              "      <td>1.598461e+09</td>\n",
              "      <td>11471.0</td>\n",
              "      <td>1</td>\n",
              "      <td>1578070800</td>\n",
              "      <td>8</td>\n",
              "      <td>[ticker tool uses the bch blockchain to provid...</td>\n",
              "      <td>1578070800</td>\n",
              "      <td>0</td>\n",
              "      <td>[]</td>\n",
              "    </tr>\n",
              "    <tr>\n",
              "      <th>3</th>\n",
              "      <td>25-08-2020 17:00:00</td>\n",
              "      <td>1.598375e+09</td>\n",
              "      <td>11341.0</td>\n",
              "      <td>0</td>\n",
              "      <td>1578157200</td>\n",
              "      <td>6</td>\n",
              "      <td>[crypto fundraising is changing again in 2020 ...</td>\n",
              "      <td>1578157200</td>\n",
              "      <td>0</td>\n",
              "      <td>[]</td>\n",
              "    </tr>\n",
              "    <tr>\n",
              "      <th>4</th>\n",
              "      <td>23-08-2020 17:00:00</td>\n",
              "      <td>1.598202e+09</td>\n",
              "      <td>11663.0</td>\n",
              "      <td>0</td>\n",
              "      <td>1578243600</td>\n",
              "      <td>5</td>\n",
              "      <td>[subhash chandra garg on the future of crypto ...</td>\n",
              "      <td>1578243600</td>\n",
              "      <td>0</td>\n",
              "      <td>[]</td>\n",
              "    </tr>\n",
              "  </tbody>\n",
              "</table>\n",
              "</div>"
            ],
            "text/plain": [
              "                  date   u_timestamp  ...  COINNOUNCE.text_COUNT_last1days  text_alt\n",
              "0  28-08-2020 17:00:00  1.598634e+09  ...                                0        []\n",
              "1  27-08-2020 17:00:00  1.598548e+09  ...                                0        []\n",
              "2  26-08-2020 17:00:00  1.598461e+09  ...                                0        []\n",
              "3  25-08-2020 17:00:00  1.598375e+09  ...                                0        []\n",
              "4  23-08-2020 17:00:00  1.598202e+09  ...                                0        []\n",
              "\n",
              "[5 rows x 10 columns]"
            ]
          },
          "metadata": {
            "tags": []
          },
          "execution_count": 30
        }
      ]
    },
    {
      "cell_type": "code",
      "metadata": {
        "id": "JwIZxm2J4CEw"
      },
      "source": [
        "df.rename(columns={'BITCOIN_NE.text_last1days':'text','COINNOUNCE.text_last1days':'text_alt'},inplace=True)"
      ],
      "execution_count": null,
      "outputs": []
    },
    {
      "cell_type": "code",
      "metadata": {
        "id": "4c8Vo_cxZwGC"
      },
      "source": [
        "\n",
        "df['text'] = df['text'].apply(lambda x:\"xxeos \".join(x))\n",
        "df['text_alt'] = df['text_alt'].apply(lambda x:\"xxeos \".join(x))"
      ],
      "execution_count": null,
      "outputs": []
    },
    {
      "cell_type": "code",
      "metadata": {
        "colab": {
          "base_uri": "https://localhost:8080/",
          "height": 195
        },
        "id": "-zOWLGVjaN-v",
        "outputId": "5fb028f4-ed38-4c26-cf6c-68e3997070cd"
      },
      "source": [
        "df.head()"
      ],
      "execution_count": null,
      "outputs": [
        {
          "output_type": "execute_result",
          "data": {
            "text/html": [
              "<div>\n",
              "<style scoped>\n",
              "    .dataframe tbody tr th:only-of-type {\n",
              "        vertical-align: middle;\n",
              "    }\n",
              "\n",
              "    .dataframe tbody tr th {\n",
              "        vertical-align: top;\n",
              "    }\n",
              "\n",
              "    .dataframe thead th {\n",
              "        text-align: right;\n",
              "    }\n",
              "</style>\n",
              "<table border=\"1\" class=\"dataframe\">\n",
              "  <thead>\n",
              "    <tr style=\"text-align: right;\">\n",
              "      <th></th>\n",
              "      <th>date</th>\n",
              "      <th>u_timestamp</th>\n",
              "      <th>price</th>\n",
              "      <th>target</th>\n",
              "      <th>timestamp</th>\n",
              "      <th>BITCOIN_NE.text_COUNT_last1days</th>\n",
              "      <th>BITCOIN_NE.text_last1days</th>\n",
              "      <th>text</th>\n",
              "    </tr>\n",
              "  </thead>\n",
              "  <tbody>\n",
              "    <tr>\n",
              "      <th>0</th>\n",
              "      <td>01-01-2020 17:00:00</td>\n",
              "      <td>1.577898e+09</td>\n",
              "      <td>7212.7</td>\n",
              "      <td>1</td>\n",
              "      <td>1577898000</td>\n",
              "      <td>3</td>\n",
              "      <td>[etoro ceo yoni assia on reaching 12 million u...</td>\n",
              "      <td>etoro ceo yoni assia on reaching 12 million us...</td>\n",
              "    </tr>\n",
              "    <tr>\n",
              "      <th>1</th>\n",
              "      <td>02-01-2020 17:00:00</td>\n",
              "      <td>1.577984e+09</td>\n",
              "      <td>6989.4</td>\n",
              "      <td>0</td>\n",
              "      <td>1577984400</td>\n",
              "      <td>7</td>\n",
              "      <td>[government confirms crypto profits not taxabl...</td>\n",
              "      <td>government confirms crypto profits not taxable...</td>\n",
              "    </tr>\n",
              "    <tr>\n",
              "      <th>2</th>\n",
              "      <td>03-01-2020 17:00:00</td>\n",
              "      <td>1.578071e+09</td>\n",
              "      <td>7367.5</td>\n",
              "      <td>1</td>\n",
              "      <td>1578070800</td>\n",
              "      <td>8</td>\n",
              "      <td>[ticker tool uses the bch blockchain to provid...</td>\n",
              "      <td>ticker tool uses the bch blockchain to provide...</td>\n",
              "    </tr>\n",
              "    <tr>\n",
              "      <th>3</th>\n",
              "      <td>04-01-2020 17:00:00</td>\n",
              "      <td>1.578157e+09</td>\n",
              "      <td>7369.8</td>\n",
              "      <td>0</td>\n",
              "      <td>1578157200</td>\n",
              "      <td>6</td>\n",
              "      <td>[crypto fundraising is changing again in 2020 ...</td>\n",
              "      <td>crypto fundraising is changing again in 2020 x...</td>\n",
              "    </tr>\n",
              "    <tr>\n",
              "      <th>4</th>\n",
              "      <td>05-01-2020 17:00:00</td>\n",
              "      <td>1.578244e+09</td>\n",
              "      <td>7364.6</td>\n",
              "      <td>0</td>\n",
              "      <td>1578243600</td>\n",
              "      <td>5</td>\n",
              "      <td>[subhash chandra garg on the future of crypto ...</td>\n",
              "      <td>subhash chandra garg on the future of crypto x...</td>\n",
              "    </tr>\n",
              "  </tbody>\n",
              "</table>\n",
              "</div>"
            ],
            "text/plain": [
              "                  date  ...                                               text\n",
              "0  01-01-2020 17:00:00  ...  etoro ceo yoni assia on reaching 12 million us...\n",
              "1  02-01-2020 17:00:00  ...  government confirms crypto profits not taxable...\n",
              "2  03-01-2020 17:00:00  ...  ticker tool uses the bch blockchain to provide...\n",
              "3  04-01-2020 17:00:00  ...  crypto fundraising is changing again in 2020 x...\n",
              "4  05-01-2020 17:00:00  ...  subhash chandra garg on the future of crypto x...\n",
              "\n",
              "[5 rows x 8 columns]"
            ]
          },
          "metadata": {
            "tags": []
          },
          "execution_count": 379
        }
      ]
    },
    {
      "cell_type": "code",
      "metadata": {
        "colab": {
          "base_uri": "https://localhost:8080/"
        },
        "id": "B7DwigE7hFG2",
        "outputId": "e27bb2dc-3c93-4f2b-ea5b-9c7366f0f8aa"
      },
      "source": [
        "df['text'].values"
      ],
      "execution_count": null,
      "outputs": [
        {
          "output_type": "execute_result",
          "data": {
            "text/plain": [
              "array(['etoro ceo yoni assia on reaching 12 million users and why cryptos are a gateway to stocks xxeos china takes another step away from usd hegemony xxeos veriblock captured close to 60 of btcs op return transactions in 2019 ',\n",
              "       'government confirms crypto profits not taxable in south korea xxeos wifi sharing platform wicrypt gets government grant in nigeria xxeos tronbased tether has ballooned to over 900 million tokens almost 22 of total supply xxeos these are the bitcoin stories you loved in 2019 xxeos alleged 8b btc tulip trust expires with tales of bonded couriers xxeos using a vpn may get israeli crypto traders in trouble xxeos why nick szabo probably isnt satoshi ',\n",
              "       'ticker tool uses the bch blockchain to provide reliable rate data xxeos was youtubes christmas crypto purge illegal xxeos early cypherpunk emails reveal a blueprint for bitcoin xxeos google restores metamask app after community uproar xxeos btcs hashrate touches 120 exahash but the price has not followed xxeos a deep dive into satoshis 11year old bitcoin genesis block xxeos why double spends on bch are not the same as replacebyfee fraud xxeos httpreadcash platform rewards content creators with bitcoin cash incentives ',\n",
              "       'crypto fundraising is changing again in 2020 xxeos proof of keys day returns on bitcoins 11th birthday xxeos scottish novelist andrew ohagan asked to testify in kleiman v wright lawsuit xxeos grassroots bitcoin cash house movement expands to ghana xxeos imf helping philippines become important crypto market xxeos hsbc closes 2 branches following new protests in hong kong ',\n",
              "       ..., '', '', '', ''], dtype=object)"
            ]
          },
          "metadata": {
            "tags": []
          },
          "execution_count": 384
        }
      ]
    },
    {
      "cell_type": "code",
      "metadata": {
        "colab": {
          "base_uri": "https://localhost:8080/"
        },
        "id": "vp0BZEtyZKsX",
        "outputId": "a6540842-3343-4848-ccf6-f4f50b34543d"
      },
      "source": [
        "df['BITCOIN_NE.text_last1days'].apply(lambda x:[\"\".join(k) for k in x])"
      ],
      "execution_count": null,
      "outputs": [
        {
          "output_type": "execute_result",
          "data": {
            "text/plain": [
              "0      [etoro ceo yoni assia on reaching 12 million u...\n",
              "1      [government confirms crypto profits not taxabl...\n",
              "2      [ticker tool uses the bch blockchain to provid...\n",
              "3      [crypto fundraising is changing again in 2020 ...\n",
              "4      [subhash chandra garg on the future of crypto ...\n",
              "                             ...                        \n",
              "231                                                   []\n",
              "232                                                   []\n",
              "233                                                   []\n",
              "234                                                   []\n",
              "235                                                   []\n",
              "Name: BITCOIN_NE.text_last1days, Length: 236, dtype: object"
            ]
          },
          "metadata": {
            "tags": []
          },
          "execution_count": 183
        }
      ]
    },
    {
      "cell_type": "markdown",
      "metadata": {
        "id": "EePievVCzoea"
      },
      "source": [
        "### Load Pre Saved Data"
      ]
    },
    {
      "cell_type": "code",
      "metadata": {
        "id": "M0knek21zp61"
      },
      "source": [
        "df_anchor = pd.read_csv(\"BTC_Final.csv\",usecols=[1,2,3,4,5,6,7,8,9,10])"
      ],
      "execution_count": 9,
      "outputs": []
    },
    {
      "cell_type": "code",
      "metadata": {
        "colab": {
          "base_uri": "https://localhost:8080/",
          "height": 279
        },
        "id": "ui-SK4yYzqEj",
        "outputId": "e015bb8f-6105-4b4e-ee1f-34fd7da91c38"
      },
      "source": [
        "df_anchor.head()"
      ],
      "execution_count": 10,
      "outputs": [
        {
          "output_type": "execute_result",
          "data": {
            "text/html": [
              "<div>\n",
              "<style scoped>\n",
              "    .dataframe tbody tr th:only-of-type {\n",
              "        vertical-align: middle;\n",
              "    }\n",
              "\n",
              "    .dataframe tbody tr th {\n",
              "        vertical-align: top;\n",
              "    }\n",
              "\n",
              "    .dataframe thead th {\n",
              "        text-align: right;\n",
              "    }\n",
              "</style>\n",
              "<table border=\"1\" class=\"dataframe\">\n",
              "  <thead>\n",
              "    <tr style=\"text-align: right;\">\n",
              "      <th></th>\n",
              "      <th>date</th>\n",
              "      <th>u_timestamp</th>\n",
              "      <th>price</th>\n",
              "      <th>target</th>\n",
              "      <th>timestamp</th>\n",
              "      <th>BITCOIN_NE.text_COUNT_last1days</th>\n",
              "      <th>BITCOIN_NE.text_last1days</th>\n",
              "      <th>text</th>\n",
              "      <th>text_polarity</th>\n",
              "      <th>text_subjectivity</th>\n",
              "    </tr>\n",
              "  </thead>\n",
              "  <tbody>\n",
              "    <tr>\n",
              "      <th>0</th>\n",
              "      <td>28-08-2020 17:00:00</td>\n",
              "      <td>1.598634e+09</td>\n",
              "      <td>11545.0</td>\n",
              "      <td>1</td>\n",
              "      <td>1577898000</td>\n",
              "      <td>3</td>\n",
              "      <td>['etoro ceo yoni assia on reaching 12 million ...</td>\n",
              "      <td>etoro ceo yoni assia on reaching 12 million us...</td>\n",
              "      <td>{'neg': 0.0, 'neu': 0.954, 'pos': 0.046, 'comp...</td>\n",
              "      <td>0.000000</td>\n",
              "    </tr>\n",
              "    <tr>\n",
              "      <th>1</th>\n",
              "      <td>27-08-2020 17:00:00</td>\n",
              "      <td>1.598548e+09</td>\n",
              "      <td>11343.0</td>\n",
              "      <td>0</td>\n",
              "      <td>1577984400</td>\n",
              "      <td>7</td>\n",
              "      <td>['government confirms crypto profits not taxab...</td>\n",
              "      <td>government confirms crypto profits not taxable...</td>\n",
              "      <td>{'neg': 0.032, 'neu': 0.787, 'pos': 0.181, 'co...</td>\n",
              "      <td>0.462500</td>\n",
              "    </tr>\n",
              "    <tr>\n",
              "      <th>2</th>\n",
              "      <td>26-08-2020 17:00:00</td>\n",
              "      <td>1.598461e+09</td>\n",
              "      <td>11471.0</td>\n",
              "      <td>1</td>\n",
              "      <td>1578070800</td>\n",
              "      <td>8</td>\n",
              "      <td>['ticker tool uses the bch blockchain to provi...</td>\n",
              "      <td>ticker tool uses the bch blockchain to provide...</td>\n",
              "      <td>{'neg': 0.122, 'neu': 0.785, 'pos': 0.093, 'co...</td>\n",
              "      <td>0.254167</td>\n",
              "    </tr>\n",
              "    <tr>\n",
              "      <th>3</th>\n",
              "      <td>25-08-2020 17:00:00</td>\n",
              "      <td>1.598375e+09</td>\n",
              "      <td>11341.0</td>\n",
              "      <td>0</td>\n",
              "      <td>1578157200</td>\n",
              "      <td>6</td>\n",
              "      <td>['crypto fundraising is changing again in 2020...</td>\n",
              "      <td>crypto fundraising is changing again in 2020 x...</td>\n",
              "      <td>{'neg': 0.063, 'neu': 0.847, 'pos': 0.09, 'com...</td>\n",
              "      <td>0.518182</td>\n",
              "    </tr>\n",
              "    <tr>\n",
              "      <th>4</th>\n",
              "      <td>23-08-2020 17:00:00</td>\n",
              "      <td>1.598202e+09</td>\n",
              "      <td>11663.0</td>\n",
              "      <td>0</td>\n",
              "      <td>1578243600</td>\n",
              "      <td>5</td>\n",
              "      <td>['subhash chandra garg on the future of crypto...</td>\n",
              "      <td>subhash chandra garg on the future of crypto x...</td>\n",
              "      <td>{'neg': 0.049, 'neu': 0.772, 'pos': 0.179, 'co...</td>\n",
              "      <td>0.319886</td>\n",
              "    </tr>\n",
              "  </tbody>\n",
              "</table>\n",
              "</div>"
            ],
            "text/plain": [
              "                  date  ...  text_subjectivity\n",
              "0  28-08-2020 17:00:00  ...           0.000000\n",
              "1  27-08-2020 17:00:00  ...           0.462500\n",
              "2  26-08-2020 17:00:00  ...           0.254167\n",
              "3  25-08-2020 17:00:00  ...           0.518182\n",
              "4  23-08-2020 17:00:00  ...           0.319886\n",
              "\n",
              "[5 rows x 10 columns]"
            ]
          },
          "metadata": {
            "tags": []
          },
          "execution_count": 10
        }
      ]
    },
    {
      "cell_type": "code",
      "metadata": {
        "id": "fmqUTkAa6ZP6"
      },
      "source": [
        "df_anchor.dropna(inplace=True)"
      ],
      "execution_count": 41,
      "outputs": []
    },
    {
      "cell_type": "code",
      "metadata": {
        "id": "VNpLKHsmzqIw"
      },
      "source": [
        "from ast import literal_eval"
      ],
      "execution_count": 11,
      "outputs": []
    },
    {
      "cell_type": "code",
      "metadata": {
        "id": "pTnUDG4tzqMw"
      },
      "source": [
        "def try_literal_eval(s):\r\n",
        "    try:\r\n",
        "        return literal_eval(s)\r\n",
        "    except ValueError:\r\n",
        "        return s"
      ],
      "execution_count": 12,
      "outputs": []
    },
    {
      "cell_type": "code",
      "metadata": {
        "id": "Wg9R9UmczqUi"
      },
      "source": [
        "df_anchor[\"text_polarity\"] = df_anchor[\"text_polarity\"].apply(lambda x:try_literal_eval(x))"
      ],
      "execution_count": 13,
      "outputs": []
    },
    {
      "cell_type": "code",
      "metadata": {
        "id": "ZN9fgeglzqbR"
      },
      "source": [
        "df_anchor[\"text_posneg\"] = df_anchor[\"text_polarity\"].apply(lambda x : 0 if x[\"neg\"]==0.0 else x[\"pos\"]/x[\"neg\"]) "
      ],
      "execution_count": 14,
      "outputs": []
    },
    {
      "cell_type": "code",
      "metadata": {
        "id": "BtzjrZZ4zqfU"
      },
      "source": [
        "df_anchor[\"text_polarity\"] = df_anchor[\"text_polarity\"].apply(lambda x : x[\"compound\"]) "
      ],
      "execution_count": 15,
      "outputs": []
    },
    {
      "cell_type": "code",
      "metadata": {
        "id": "4uP9qWvWzqjW"
      },
      "source": [
        "from fastai.text import *"
      ],
      "execution_count": null,
      "outputs": []
    },
    {
      "cell_type": "code",
      "metadata": {
        "id": "dDx5tLsXQERQ",
        "colab": {
          "base_uri": "https://localhost:8080/"
        },
        "outputId": "0b444d68-3c8c-44e8-fd68-c4284813df7c"
      },
      "source": [
        "!pip install transformers"
      ],
      "execution_count": 17,
      "outputs": [
        {
          "output_type": "stream",
          "text": [
            "Collecting transformers\n",
            "\u001b[?25l  Downloading https://files.pythonhosted.org/packages/ed/db/98c3ea1a78190dac41c0127a063abf92bd01b4b0b6970a6db1c2f5b66fa0/transformers-4.0.1-py3-none-any.whl (1.4MB)\n",
            "\r\u001b[K     |▎                               | 10kB 14.0MB/s eta 0:00:01\r\u001b[K     |▌                               | 20kB 19.6MB/s eta 0:00:01\r\u001b[K     |▊                               | 30kB 19.5MB/s eta 0:00:01\r\u001b[K     |█                               | 40kB 16.3MB/s eta 0:00:01\r\u001b[K     |█▏                              | 51kB 12.7MB/s eta 0:00:01\r\u001b[K     |█▌                              | 61kB 13.3MB/s eta 0:00:01\r\u001b[K     |█▊                              | 71kB 11.5MB/s eta 0:00:01\r\u001b[K     |██                              | 81kB 12.4MB/s eta 0:00:01\r\u001b[K     |██▏                             | 92kB 12.5MB/s eta 0:00:01\r\u001b[K     |██▍                             | 102kB 11.4MB/s eta 0:00:01\r\u001b[K     |██▋                             | 112kB 11.4MB/s eta 0:00:01\r\u001b[K     |███                             | 122kB 11.4MB/s eta 0:00:01\r\u001b[K     |███▏                            | 133kB 11.4MB/s eta 0:00:01\r\u001b[K     |███▍                            | 143kB 11.4MB/s eta 0:00:01\r\u001b[K     |███▋                            | 153kB 11.4MB/s eta 0:00:01\r\u001b[K     |███▉                            | 163kB 11.4MB/s eta 0:00:01\r\u001b[K     |████▏                           | 174kB 11.4MB/s eta 0:00:01\r\u001b[K     |████▍                           | 184kB 11.4MB/s eta 0:00:01\r\u001b[K     |████▋                           | 194kB 11.4MB/s eta 0:00:01\r\u001b[K     |████▉                           | 204kB 11.4MB/s eta 0:00:01\r\u001b[K     |█████                           | 215kB 11.4MB/s eta 0:00:01\r\u001b[K     |█████▎                          | 225kB 11.4MB/s eta 0:00:01\r\u001b[K     |█████▋                          | 235kB 11.4MB/s eta 0:00:01\r\u001b[K     |█████▉                          | 245kB 11.4MB/s eta 0:00:01\r\u001b[K     |██████                          | 256kB 11.4MB/s eta 0:00:01\r\u001b[K     |██████▎                         | 266kB 11.4MB/s eta 0:00:01\r\u001b[K     |██████▌                         | 276kB 11.4MB/s eta 0:00:01\r\u001b[K     |██████▉                         | 286kB 11.4MB/s eta 0:00:01\r\u001b[K     |███████                         | 296kB 11.4MB/s eta 0:00:01\r\u001b[K     |███████▎                        | 307kB 11.4MB/s eta 0:00:01\r\u001b[K     |███████▌                        | 317kB 11.4MB/s eta 0:00:01\r\u001b[K     |███████▊                        | 327kB 11.4MB/s eta 0:00:01\r\u001b[K     |████████                        | 337kB 11.4MB/s eta 0:00:01\r\u001b[K     |████████▎                       | 348kB 11.4MB/s eta 0:00:01\r\u001b[K     |████████▌                       | 358kB 11.4MB/s eta 0:00:01\r\u001b[K     |████████▊                       | 368kB 11.4MB/s eta 0:00:01\r\u001b[K     |█████████                       | 378kB 11.4MB/s eta 0:00:01\r\u001b[K     |█████████▏                      | 389kB 11.4MB/s eta 0:00:01\r\u001b[K     |█████████▌                      | 399kB 11.4MB/s eta 0:00:01\r\u001b[K     |█████████▊                      | 409kB 11.4MB/s eta 0:00:01\r\u001b[K     |██████████                      | 419kB 11.4MB/s eta 0:00:01\r\u001b[K     |██████████▏                     | 430kB 11.4MB/s eta 0:00:01\r\u001b[K     |██████████▍                     | 440kB 11.4MB/s eta 0:00:01\r\u001b[K     |██████████▋                     | 450kB 11.4MB/s eta 0:00:01\r\u001b[K     |███████████                     | 460kB 11.4MB/s eta 0:00:01\r\u001b[K     |███████████▏                    | 471kB 11.4MB/s eta 0:00:01\r\u001b[K     |███████████▍                    | 481kB 11.4MB/s eta 0:00:01\r\u001b[K     |███████████▋                    | 491kB 11.4MB/s eta 0:00:01\r\u001b[K     |███████████▉                    | 501kB 11.4MB/s eta 0:00:01\r\u001b[K     |████████████▏                   | 512kB 11.4MB/s eta 0:00:01\r\u001b[K     |████████████▍                   | 522kB 11.4MB/s eta 0:00:01\r\u001b[K     |████████████▋                   | 532kB 11.4MB/s eta 0:00:01\r\u001b[K     |████████████▉                   | 542kB 11.4MB/s eta 0:00:01\r\u001b[K     |█████████████                   | 552kB 11.4MB/s eta 0:00:01\r\u001b[K     |█████████████▎                  | 563kB 11.4MB/s eta 0:00:01\r\u001b[K     |█████████████▋                  | 573kB 11.4MB/s eta 0:00:01\r\u001b[K     |█████████████▉                  | 583kB 11.4MB/s eta 0:00:01\r\u001b[K     |██████████████                  | 593kB 11.4MB/s eta 0:00:01\r\u001b[K     |██████████████▎                 | 604kB 11.4MB/s eta 0:00:01\r\u001b[K     |██████████████▌                 | 614kB 11.4MB/s eta 0:00:01\r\u001b[K     |██████████████▉                 | 624kB 11.4MB/s eta 0:00:01\r\u001b[K     |███████████████                 | 634kB 11.4MB/s eta 0:00:01\r\u001b[K     |███████████████▎                | 645kB 11.4MB/s eta 0:00:01\r\u001b[K     |███████████████▌                | 655kB 11.4MB/s eta 0:00:01\r\u001b[K     |███████████████▊                | 665kB 11.4MB/s eta 0:00:01\r\u001b[K     |████████████████                | 675kB 11.4MB/s eta 0:00:01\r\u001b[K     |████████████████▎               | 686kB 11.4MB/s eta 0:00:01\r\u001b[K     |████████████████▌               | 696kB 11.4MB/s eta 0:00:01\r\u001b[K     |████████████████▊               | 706kB 11.4MB/s eta 0:00:01\r\u001b[K     |█████████████████               | 716kB 11.4MB/s eta 0:00:01\r\u001b[K     |█████████████████▏              | 727kB 11.4MB/s eta 0:00:01\r\u001b[K     |█████████████████▌              | 737kB 11.4MB/s eta 0:00:01\r\u001b[K     |█████████████████▊              | 747kB 11.4MB/s eta 0:00:01\r\u001b[K     |██████████████████              | 757kB 11.4MB/s eta 0:00:01\r\u001b[K     |██████████████████▏             | 768kB 11.4MB/s eta 0:00:01\r\u001b[K     |██████████████████▍             | 778kB 11.4MB/s eta 0:00:01\r\u001b[K     |██████████████████▋             | 788kB 11.4MB/s eta 0:00:01\r\u001b[K     |███████████████████             | 798kB 11.4MB/s eta 0:00:01\r\u001b[K     |███████████████████▏            | 808kB 11.4MB/s eta 0:00:01\r\u001b[K     |███████████████████▍            | 819kB 11.4MB/s eta 0:00:01\r\u001b[K     |███████████████████▋            | 829kB 11.4MB/s eta 0:00:01\r\u001b[K     |███████████████████▉            | 839kB 11.4MB/s eta 0:00:01\r\u001b[K     |████████████████████▏           | 849kB 11.4MB/s eta 0:00:01\r\u001b[K     |████████████████████▍           | 860kB 11.4MB/s eta 0:00:01\r\u001b[K     |████████████████████▋           | 870kB 11.4MB/s eta 0:00:01\r\u001b[K     |████████████████████▉           | 880kB 11.4MB/s eta 0:00:01\r\u001b[K     |█████████████████████           | 890kB 11.4MB/s eta 0:00:01\r\u001b[K     |█████████████████████▎          | 901kB 11.4MB/s eta 0:00:01\r\u001b[K     |█████████████████████▋          | 911kB 11.4MB/s eta 0:00:01\r\u001b[K     |█████████████████████▉          | 921kB 11.4MB/s eta 0:00:01\r\u001b[K     |██████████████████████          | 931kB 11.4MB/s eta 0:00:01\r\u001b[K     |██████████████████████▎         | 942kB 11.4MB/s eta 0:00:01\r\u001b[K     |██████████████████████▌         | 952kB 11.4MB/s eta 0:00:01\r\u001b[K     |██████████████████████▊         | 962kB 11.4MB/s eta 0:00:01\r\u001b[K     |███████████████████████         | 972kB 11.4MB/s eta 0:00:01\r\u001b[K     |███████████████████████▎        | 983kB 11.4MB/s eta 0:00:01\r\u001b[K     |███████████████████████▌        | 993kB 11.4MB/s eta 0:00:01\r\u001b[K     |███████████████████████▊        | 1.0MB 11.4MB/s eta 0:00:01\r\u001b[K     |████████████████████████        | 1.0MB 11.4MB/s eta 0:00:01\r\u001b[K     |████████████████████████▎       | 1.0MB 11.4MB/s eta 0:00:01\r\u001b[K     |████████████████████████▌       | 1.0MB 11.4MB/s eta 0:00:01\r\u001b[K     |████████████████████████▊       | 1.0MB 11.4MB/s eta 0:00:01\r\u001b[K     |█████████████████████████       | 1.1MB 11.4MB/s eta 0:00:01\r\u001b[K     |█████████████████████████▏      | 1.1MB 11.4MB/s eta 0:00:01\r\u001b[K     |█████████████████████████▍      | 1.1MB 11.4MB/s eta 0:00:01\r\u001b[K     |█████████████████████████▊      | 1.1MB 11.4MB/s eta 0:00:01\r\u001b[K     |██████████████████████████      | 1.1MB 11.4MB/s eta 0:00:01\r\u001b[K     |██████████████████████████▏     | 1.1MB 11.4MB/s eta 0:00:01\r\u001b[K     |██████████████████████████▍     | 1.1MB 11.4MB/s eta 0:00:01\r\u001b[K     |██████████████████████████▋     | 1.1MB 11.4MB/s eta 0:00:01\r\u001b[K     |███████████████████████████     | 1.1MB 11.4MB/s eta 0:00:01\r\u001b[K     |███████████████████████████▏    | 1.1MB 11.4MB/s eta 0:00:01\r\u001b[K     |███████████████████████████▍    | 1.2MB 11.4MB/s eta 0:00:01\r\u001b[K     |███████████████████████████▋    | 1.2MB 11.4MB/s eta 0:00:01\r\u001b[K     |███████████████████████████▉    | 1.2MB 11.4MB/s eta 0:00:01\r\u001b[K     |████████████████████████████    | 1.2MB 11.4MB/s eta 0:00:01\r\u001b[K     |████████████████████████████▍   | 1.2MB 11.4MB/s eta 0:00:01\r\u001b[K     |████████████████████████████▋   | 1.2MB 11.4MB/s eta 0:00:01\r\u001b[K     |████████████████████████████▉   | 1.2MB 11.4MB/s eta 0:00:01\r\u001b[K     |█████████████████████████████   | 1.2MB 11.4MB/s eta 0:00:01\r\u001b[K     |█████████████████████████████▎  | 1.2MB 11.4MB/s eta 0:00:01\r\u001b[K     |█████████████████████████████▋  | 1.2MB 11.4MB/s eta 0:00:01\r\u001b[K     |█████████████████████████████▉  | 1.3MB 11.4MB/s eta 0:00:01\r\u001b[K     |██████████████████████████████  | 1.3MB 11.4MB/s eta 0:00:01\r\u001b[K     |██████████████████████████████▎ | 1.3MB 11.4MB/s eta 0:00:01\r\u001b[K     |██████████████████████████████▌ | 1.3MB 11.4MB/s eta 0:00:01\r\u001b[K     |██████████████████████████████▊ | 1.3MB 11.4MB/s eta 0:00:01\r\u001b[K     |███████████████████████████████ | 1.3MB 11.4MB/s eta 0:00:01\r\u001b[K     |███████████████████████████████▎| 1.3MB 11.4MB/s eta 0:00:01\r\u001b[K     |███████████████████████████████▌| 1.3MB 11.4MB/s eta 0:00:01\r\u001b[K     |███████████████████████████████▊| 1.3MB 11.4MB/s eta 0:00:01\r\u001b[K     |████████████████████████████████| 1.4MB 11.4MB/s eta 0:00:01\r\u001b[K     |████████████████████████████████| 1.4MB 11.4MB/s \n",
            "\u001b[?25hRequirement already satisfied: numpy in /usr/local/lib/python3.6/dist-packages (from transformers) (1.18.5)\n",
            "Collecting tokenizers==0.9.4\n",
            "\u001b[?25l  Downloading https://files.pythonhosted.org/packages/0f/1c/e789a8b12e28be5bc1ce2156cf87cb522b379be9cadc7ad8091a4cc107c4/tokenizers-0.9.4-cp36-cp36m-manylinux2010_x86_64.whl (2.9MB)\n",
            "\u001b[K     |████████████████████████████████| 2.9MB 42.5MB/s \n",
            "\u001b[?25hRequirement already satisfied: filelock in /usr/local/lib/python3.6/dist-packages (from transformers) (3.0.12)\n",
            "Requirement already satisfied: requests in /usr/local/lib/python3.6/dist-packages (from transformers) (2.23.0)\n",
            "Requirement already satisfied: tqdm>=4.27 in /usr/local/lib/python3.6/dist-packages (from transformers) (4.41.1)\n",
            "Collecting sacremoses\n",
            "\u001b[?25l  Downloading https://files.pythonhosted.org/packages/7d/34/09d19aff26edcc8eb2a01bed8e98f13a1537005d31e95233fd48216eed10/sacremoses-0.0.43.tar.gz (883kB)\n",
            "\u001b[K     |████████████████████████████████| 890kB 39.7MB/s \n",
            "\u001b[?25hRequirement already satisfied: dataclasses; python_version < \"3.7\" in /usr/local/lib/python3.6/dist-packages (from transformers) (0.8)\n",
            "Requirement already satisfied: packaging in /usr/local/lib/python3.6/dist-packages (from transformers) (20.7)\n",
            "Requirement already satisfied: regex!=2019.12.17 in /usr/local/lib/python3.6/dist-packages (from transformers) (2019.12.20)\n",
            "Requirement already satisfied: certifi>=2017.4.17 in /usr/local/lib/python3.6/dist-packages (from requests->transformers) (2020.12.5)\n",
            "Requirement already satisfied: chardet<4,>=3.0.2 in /usr/local/lib/python3.6/dist-packages (from requests->transformers) (3.0.4)\n",
            "Requirement already satisfied: idna<3,>=2.5 in /usr/local/lib/python3.6/dist-packages (from requests->transformers) (2.10)\n",
            "Requirement already satisfied: urllib3!=1.25.0,!=1.25.1,<1.26,>=1.21.1 in /usr/local/lib/python3.6/dist-packages (from requests->transformers) (1.24.3)\n",
            "Requirement already satisfied: six in /usr/local/lib/python3.6/dist-packages (from sacremoses->transformers) (1.15.0)\n",
            "Requirement already satisfied: click in /usr/local/lib/python3.6/dist-packages (from sacremoses->transformers) (7.1.2)\n",
            "Requirement already satisfied: joblib in /usr/local/lib/python3.6/dist-packages (from sacremoses->transformers) (0.17.0)\n",
            "Requirement already satisfied: pyparsing>=2.0.2 in /usr/local/lib/python3.6/dist-packages (from packaging->transformers) (2.4.7)\n",
            "Building wheels for collected packages: sacremoses\n",
            "  Building wheel for sacremoses (setup.py) ... \u001b[?25l\u001b[?25hdone\n",
            "  Created wheel for sacremoses: filename=sacremoses-0.0.43-cp36-none-any.whl size=893261 sha256=4df40d2d2e1e60da6811a13b0e31449592f66ba0ca9bf86ffbb89a6cea69d6ca\n",
            "  Stored in directory: /root/.cache/pip/wheels/29/3c/fd/7ce5c3f0666dab31a50123635e6fb5e19ceb42ce38d4e58f45\n",
            "Successfully built sacremoses\n",
            "Installing collected packages: tokenizers, sacremoses, transformers\n",
            "Successfully installed sacremoses-0.0.43 tokenizers-0.9.4 transformers-4.0.1\n"
          ],
          "name": "stdout"
        }
      ]
    },
    {
      "cell_type": "code",
      "metadata": {
        "id": "4tHR1Fk-0jv4"
      },
      "source": [
        "from transformers import BertForSequenceClassification, BertTokenizer, BertConfig\r\n",
        "from transformers import RobertaForSequenceClassification, RobertaTokenizer, RobertaConfig\r\n",
        "from transformers import XLNetForSequenceClassification, XLNetTokenizer, XLNetConfig\r\n",
        "from transformers import XLMForSequenceClassification, XLMTokenizer, XLMConfig\r\n",
        "from transformers import DistilBertForSequenceClassification, DistilBertTokenizer, DistilBertConfig\r\n",
        "from transformers import PreTrainedModel, PreTrainedTokenizer, PretrainedConfig\r\n",
        "MODEL_CLASSES = {\r\n",
        "    'bert': (BertForSequenceClassification, BertTokenizer, BertConfig),\r\n",
        "    'xlnet': (XLNetForSequenceClassification, XLNetTokenizer, XLNetConfig),\r\n",
        "    'xlm': (XLMForSequenceClassification, XLMTokenizer, XLMConfig),\r\n",
        "    'roberta': (RobertaForSequenceClassification, RobertaTokenizer, RobertaConfig),\r\n",
        "    'distilbert': (DistilBertForSequenceClassification, DistilBertTokenizer, DistilBertConfig)}\r\n",
        "    \r\n",
        "#model_type = 'roberta'\r\n",
        "model_type = 'bert'\r\n",
        "\r\n",
        "model_class, tokenizer_class, config_class = MODEL_CLASSES[model_type]\r\n",
        "#pretrained_model_name = 'roberta-base'\r\n",
        "pretrained_model_name = 'bert-base-uncased'\r\n",
        "model_name = pretrained_model_name"
      ],
      "execution_count": 87,
      "outputs": []
    },
    {
      "cell_type": "code",
      "metadata": {
        "id": "KOGWdYsU0j4c"
      },
      "source": [
        "class TransformersBaseTokenizer(BaseTokenizer):\r\n",
        "    \"\"\"Wrapper around PreTrainedTokenizer to be compatible with fast.ai\"\"\"\r\n",
        "    def __init__(self, pretrained_tokenizer: PreTrainedTokenizer, model_type = 'bert', **kwargs):\r\n",
        "        self._pretrained_tokenizer = pretrained_tokenizer\r\n",
        "        self.max_seq_len = 20\r\n",
        "        self.model_type = model_type\r\n",
        "\r\n",
        "    def __call__(self, *args, **kwargs): \r\n",
        "        return self\r\n",
        "\r\n",
        "    def tokenizer(self, t:str) -> List[str]:\r\n",
        "        \"\"\"Limits the maximum sequence length and add the spesial tokens\"\"\"\r\n",
        "        CLS = self._pretrained_tokenizer.cls_token\r\n",
        "        SEP = self._pretrained_tokenizer.sep_token\r\n",
        "        if self.model_type in ['roberta']:\r\n",
        "            tokens = self._pretrained_tokenizer.tokenize(t, add_prefix_space=True)[:self.max_seq_len - 2]\r\n",
        "            tokens = [CLS] + tokens + [SEP]\r\n",
        "        else:\r\n",
        "            tokens = self._pretrained_tokenizer.tokenize(t)[:self.max_seq_len - 2]\r\n",
        "            if self.model_type in ['xlnet']:\r\n",
        "                tokens = tokens + [SEP] +  [CLS]\r\n",
        "            else:\r\n",
        "                tokens = [CLS] + tokens + [SEP]\r\n",
        "        return tokens\r\n",
        "        \r\n",
        "transformer_tokenizer = tokenizer_class.from_pretrained(pretrained_model_name)\r\n",
        "transformer_base_tokenizer = TransformersBaseTokenizer(pretrained_tokenizer = transformer_tokenizer, model_type = model_type)\r\n",
        "fastai_tokenizer = Tokenizer(tok_func = transformer_base_tokenizer, pre_rules=[], post_rules=[])"
      ],
      "execution_count": 88,
      "outputs": []
    },
    {
      "cell_type": "code",
      "metadata": {
        "id": "F3ttBSTh1Nvk"
      },
      "source": [
        "class TransformersVocab(Vocab):\r\n",
        "    def __init__(self, tokenizer: PreTrainedTokenizer):\r\n",
        "        super(TransformersVocab, self).__init__(itos = [])\r\n",
        "        self.tokenizer = tokenizer\r\n",
        "    \r\n",
        "    def numericalize(self, t:Collection[str]) -> List[int]:\r\n",
        "        \"Convert a list of tokens `t` to their ids.\"\r\n",
        "        return self.tokenizer.convert_tokens_to_ids(t)\r\n",
        "        #return self.tokenizer.encode(t)\r\n",
        "\r\n",
        "    def textify(self, nums:Collection[int], sep=' ') -> List[str]:\r\n",
        "        \"Convert a list of `nums` to their tokens.\"\r\n",
        "        nums = np.array(nums).tolist()\r\n",
        "        return sep.join(self.tokenizer.convert_ids_to_tokens(nums)) if sep is not None else self.tokenizer.convert_ids_to_tokens(nums)\r\n",
        "        \r\n",
        "    def __getstate__(self):\r\n",
        "        return {'itos':self.itos, 'tokenizer':self.tokenizer}\r\n",
        "\r\n",
        "    def __setstate__(self, state:dict):\r\n",
        "        self.itos = state['itos']\r\n",
        "        self.tokenizer = state['tokenizer']\r\n",
        "        self.stoi = collections.defaultdict(int,{v:k for k,v in enumerate(self.itos)})"
      ],
      "execution_count": 89,
      "outputs": []
    },
    {
      "cell_type": "code",
      "metadata": {
        "id": "4Bg_5vfi0j8s"
      },
      "source": [
        "transformer_vocab =  TransformersVocab(tokenizer = transformer_tokenizer)\r\n",
        "numericalize_processor = NumericalizeProcessor(vocab=transformer_vocab)\r\n",
        "\r\n",
        "tokenize_processor = TokenizeProcessor(tokenizer=fastai_tokenizer, \r\n",
        "                                       include_bos=False, \r\n",
        "                                       include_eos=False)\r\n",
        "\r\n",
        "transformer_processor = [tokenize_processor, numericalize_processor]"
      ],
      "execution_count": 90,
      "outputs": []
    },
    {
      "cell_type": "code",
      "metadata": {
        "id": "wQrNFBny6kog"
      },
      "source": [
        "bs = 48"
      ],
      "execution_count": 91,
      "outputs": []
    },
    {
      "cell_type": "code",
      "metadata": {
        "colab": {
          "base_uri": "https://localhost:8080/",
          "height": 17
        },
        "id": "9xgh9FRm0kBf",
        "outputId": "543c001d-7f2b-47b9-c2c1-bbf55db33020"
      },
      "source": [
        "pad_first = bool(model_type in ['xlnet'])\r\n",
        "pad_idx = transformer_tokenizer.pad_token_id\r\n",
        "\r\n",
        "databunch = (TextList.from_df(df_anchor, cols='text', processor=transformer_processor)\r\n",
        "             .split_by_rand_pct(0.2,seed=42)\r\n",
        "             .label_from_df(cols= 'target')\r\n",
        "             .databunch(bs=bs, pad_first=pad_first, pad_idx=pad_idx))"
      ],
      "execution_count": 92,
      "outputs": [
        {
          "output_type": "display_data",
          "data": {
            "text/html": [
              ""
            ],
            "text/plain": [
              "<IPython.core.display.HTML object>"
            ]
          },
          "metadata": {
            "tags": []
          }
        },
        {
          "output_type": "display_data",
          "data": {
            "text/html": [
              ""
            ],
            "text/plain": [
              "<IPython.core.display.HTML object>"
            ]
          },
          "metadata": {
            "tags": []
          }
        }
      ]
    },
    {
      "cell_type": "code",
      "metadata": {
        "id": "73zO7TyU1aOG"
      },
      "source": [
        "class CustomTransformerModel(nn.Module):\r\n",
        "  \r\n",
        "    def __init__(self, transformer_model: PreTrainedModel):\r\n",
        "        super(CustomTransformerModel,self).__init__()\r\n",
        "        self.transformer = transformer_model\r\n",
        "        \r\n",
        "    def forward(self, input_ids):\r\n",
        "        # Return only the logits from the transfomer\r\n",
        "        logits = self.transformer(input_ids)[0]   \r\n",
        "        return logits"
      ],
      "execution_count": 93,
      "outputs": []
    },
    {
      "cell_type": "code",
      "metadata": {
        "colab": {
          "base_uri": "https://localhost:8080/",
          "height": 218,
          "referenced_widgets": [
            "2ff99177eda048a4a4d4753813503ec0",
            "6f16e0ce0f9c4ab28d69c0d5aaa91f47",
            "cb7d90876f30421e8b8313a005428f21",
            "fc500b7f3e3c44a9a02d17f555d5850b",
            "60619153db114280ab34da22168c61c3",
            "b90be00b9fc24047b0b6b4fa62d5b026",
            "60e7d9c5c81b4953b78d9df6d3cef64d",
            "d4386b6fe54b4e7bbf04c0892621be28",
            "9367b5ff96b34dc7b7c5763de207abf1",
            "8081c85e63f84b1898726e2d1fce20a3",
            "25cfeb093c184afcbbdf0abf968095f7",
            "d2bdfeb4a287404d82d8da8de7bd56a3",
            "227201d83f7a4175bdcb698c0c225d56",
            "d34533e5323a4dc7b9ae2cd79cf0dd6b",
            "dd89151de1db43d6a0996cd83672db77",
            "b855d013c3da45749214cfed0ba3bd52"
          ]
        },
        "id": "aBGJOJDB1aXs",
        "outputId": "300b5085-3c0c-40b7-bde1-ee8c007ce048"
      },
      "source": [
        "config = config_class.from_pretrained(model_name)\r\n",
        "config.num_labels = 2\r\n",
        "\r\n",
        "transformer_model = model_class.from_pretrained(model_name, config = config)\r\n",
        "# transformer_model = model_class.from_pretrained(model_name, num_labels = 5)\r\n",
        "custom_transformer_model = CustomTransformerModel(transformer_model = transformer_model)"
      ],
      "execution_count": 94,
      "outputs": [
        {
          "output_type": "display_data",
          "data": {
            "application/vnd.jupyter.widget-view+json": {
              "model_id": "2ff99177eda048a4a4d4753813503ec0",
              "version_minor": 0,
              "version_major": 2
            },
            "text/plain": [
              "HBox(children=(FloatProgress(value=0.0, description='Downloading', max=433.0, style=ProgressStyle(description_…"
            ]
          },
          "metadata": {
            "tags": []
          }
        },
        {
          "output_type": "stream",
          "text": [
            "\n"
          ],
          "name": "stdout"
        },
        {
          "output_type": "display_data",
          "data": {
            "application/vnd.jupyter.widget-view+json": {
              "model_id": "9367b5ff96b34dc7b7c5763de207abf1",
              "version_minor": 0,
              "version_major": 2
            },
            "text/plain": [
              "HBox(children=(FloatProgress(value=0.0, description='Downloading', max=440473133.0, style=ProgressStyle(descri…"
            ]
          },
          "metadata": {
            "tags": []
          }
        },
        {
          "output_type": "stream",
          "text": [
            "\n"
          ],
          "name": "stdout"
        },
        {
          "output_type": "stream",
          "text": [
            "Some weights of the model checkpoint at bert-base-uncased were not used when initializing BertForSequenceClassification: ['cls.predictions.bias', 'cls.predictions.transform.dense.weight', 'cls.predictions.transform.dense.bias', 'cls.predictions.decoder.weight', 'cls.seq_relationship.weight', 'cls.seq_relationship.bias', 'cls.predictions.transform.LayerNorm.weight', 'cls.predictions.transform.LayerNorm.bias']\n",
            "- This IS expected if you are initializing BertForSequenceClassification from the checkpoint of a model trained on another task or with another architecture (e.g. initializing a BertForSequenceClassification model from a BertForPreTraining model).\n",
            "- This IS NOT expected if you are initializing BertForSequenceClassification from the checkpoint of a model that you expect to be exactly identical (initializing a BertForSequenceClassification model from a BertForSequenceClassification model).\n",
            "Some weights of BertForSequenceClassification were not initialized from the model checkpoint at bert-base-uncased and are newly initialized: ['classifier.weight', 'classifier.bias']\n",
            "You should probably TRAIN this model on a down-stream task to be able to use it for predictions and inference.\n"
          ],
          "name": "stderr"
        }
      ]
    },
    {
      "cell_type": "code",
      "metadata": {
        "id": "eV-eV9hR1adt"
      },
      "source": [
        "from transformers import AdamW\r\n",
        "from functools import partial\r\n",
        "\r\n",
        "CustomAdamW = partial(AdamW, correct_bias=False)\r\n",
        "\r\n",
        "learner = Learner(databunch, \r\n",
        "                  custom_transformer_model, \r\n",
        "                  opt_func = CustomAdamW, \r\n",
        "                  metrics=[accuracy])"
      ],
      "execution_count": 98,
      "outputs": []
    },
    {
      "cell_type": "code",
      "metadata": {
        "id": "tD3L08371akC"
      },
      "source": [
        "list_layers = [learner.model.transformer.distilbert.embeddings,\r\n",
        "               learner.model.transformer.distilbert.transformer.layer[0] ,\r\n",
        "               learner.model.transformer.distilbert.transformer.layer[1],\r\n",
        "               learner.model.transformer.distilbert.transformer.layer[2],\r\n",
        "               learner.model.transformer.distilbert.transformer.layer[3],\r\n",
        "               learner.model.transformer.distilbert.transformer.layer[4],\r\n",
        "               learner.model.transformer.distilbert.transformer.layer[5],\r\n",
        "               learner.model.transformer.pre_classifier]\r\n",
        "               \r\n",
        "learner.split(list_layers)"
      ],
      "execution_count": null,
      "outputs": []
    },
    {
      "cell_type": "code",
      "metadata": {
        "colab": {
          "base_uri": "https://localhost:8080/",
          "height": 791
        },
        "id": "DaGPMr1e8Gx4",
        "outputId": "63eee395-4195-403f-9041-21f6f5601e3e"
      },
      "source": [
        "learner.lr_find()"
      ],
      "execution_count": 100,
      "outputs": [
        {
          "output_type": "display_data",
          "data": {
            "text/html": [
              "\n",
              "    <div>\n",
              "        <style>\n",
              "            /* Turns off some styling */\n",
              "            progress {\n",
              "                /* gets rid of default border in Firefox and Opera. */\n",
              "                border: none;\n",
              "                /* Needs to be in here for Safari polyfill so background images work as expected. */\n",
              "                background-size: auto;\n",
              "            }\n",
              "            .progress-bar-interrupted, .progress-bar-interrupted::-webkit-progress-bar {\n",
              "                background: #F44336;\n",
              "            }\n",
              "        </style>\n",
              "      <progress value='23' class='' max='34' style='width:300px; height:20px; vertical-align: middle;'></progress>\n",
              "      67.65% [23/34 00:30<00:14]\n",
              "    </div>\n",
              "    \n",
              "<table border=\"1\" class=\"dataframe\">\n",
              "  <thead>\n",
              "    <tr style=\"text-align: left;\">\n",
              "      <th>epoch</th>\n",
              "      <th>train_loss</th>\n",
              "      <th>valid_loss</th>\n",
              "      <th>accuracy</th>\n",
              "      <th>time</th>\n",
              "    </tr>\n",
              "  </thead>\n",
              "  <tbody>\n",
              "    <tr>\n",
              "      <td>0</td>\n",
              "      <td>0.723166</td>\n",
              "      <td>#na#</td>\n",
              "      <td>00:01</td>\n",
              "    </tr>\n",
              "    <tr>\n",
              "      <td>1</td>\n",
              "      <td>0.720034</td>\n",
              "      <td>#na#</td>\n",
              "      <td>00:01</td>\n",
              "    </tr>\n",
              "    <tr>\n",
              "      <td>2</td>\n",
              "      <td>0.724814</td>\n",
              "      <td>#na#</td>\n",
              "      <td>00:01</td>\n",
              "    </tr>\n",
              "    <tr>\n",
              "      <td>3</td>\n",
              "      <td>0.721038</td>\n",
              "      <td>#na#</td>\n",
              "      <td>00:01</td>\n",
              "    </tr>\n",
              "    <tr>\n",
              "      <td>4</td>\n",
              "      <td>0.719264</td>\n",
              "      <td>#na#</td>\n",
              "      <td>00:01</td>\n",
              "    </tr>\n",
              "    <tr>\n",
              "      <td>5</td>\n",
              "      <td>0.712624</td>\n",
              "      <td>#na#</td>\n",
              "      <td>00:01</td>\n",
              "    </tr>\n",
              "    <tr>\n",
              "      <td>6</td>\n",
              "      <td>0.707640</td>\n",
              "      <td>#na#</td>\n",
              "      <td>00:01</td>\n",
              "    </tr>\n",
              "    <tr>\n",
              "      <td>7</td>\n",
              "      <td>0.706827</td>\n",
              "      <td>#na#</td>\n",
              "      <td>00:01</td>\n",
              "    </tr>\n",
              "    <tr>\n",
              "      <td>8</td>\n",
              "      <td>0.707392</td>\n",
              "      <td>#na#</td>\n",
              "      <td>00:01</td>\n",
              "    </tr>\n",
              "    <tr>\n",
              "      <td>9</td>\n",
              "      <td>0.700702</td>\n",
              "      <td>#na#</td>\n",
              "      <td>00:01</td>\n",
              "    </tr>\n",
              "    <tr>\n",
              "      <td>10</td>\n",
              "      <td>0.689098</td>\n",
              "      <td>#na#</td>\n",
              "      <td>00:01</td>\n",
              "    </tr>\n",
              "    <tr>\n",
              "      <td>11</td>\n",
              "      <td>0.673498</td>\n",
              "      <td>#na#</td>\n",
              "      <td>00:01</td>\n",
              "    </tr>\n",
              "    <tr>\n",
              "      <td>12</td>\n",
              "      <td>0.660450</td>\n",
              "      <td>#na#</td>\n",
              "      <td>00:01</td>\n",
              "    </tr>\n",
              "    <tr>\n",
              "      <td>13</td>\n",
              "      <td>0.653396</td>\n",
              "      <td>#na#</td>\n",
              "      <td>00:01</td>\n",
              "    </tr>\n",
              "    <tr>\n",
              "      <td>14</td>\n",
              "      <td>0.664018</td>\n",
              "      <td>#na#</td>\n",
              "      <td>00:01</td>\n",
              "    </tr>\n",
              "    <tr>\n",
              "      <td>15</td>\n",
              "      <td>0.672344</td>\n",
              "      <td>#na#</td>\n",
              "      <td>00:01</td>\n",
              "    </tr>\n",
              "    <tr>\n",
              "      <td>16</td>\n",
              "      <td>0.738935</td>\n",
              "      <td>#na#</td>\n",
              "      <td>00:01</td>\n",
              "    </tr>\n",
              "    <tr>\n",
              "      <td>17</td>\n",
              "      <td>0.799433</td>\n",
              "      <td>#na#</td>\n",
              "      <td>00:01</td>\n",
              "    </tr>\n",
              "    <tr>\n",
              "      <td>18</td>\n",
              "      <td>0.871112</td>\n",
              "      <td>#na#</td>\n",
              "      <td>00:01</td>\n",
              "    </tr>\n",
              "    <tr>\n",
              "      <td>19</td>\n",
              "      <td>1.018992</td>\n",
              "      <td>#na#</td>\n",
              "      <td>00:01</td>\n",
              "    </tr>\n",
              "    <tr>\n",
              "      <td>20</td>\n",
              "      <td>1.159798</td>\n",
              "      <td>#na#</td>\n",
              "      <td>00:01</td>\n",
              "    </tr>\n",
              "    <tr>\n",
              "      <td>21</td>\n",
              "      <td>1.492707</td>\n",
              "      <td>#na#</td>\n",
              "      <td>00:01</td>\n",
              "    </tr>\n",
              "    <tr>\n",
              "      <td>22</td>\n",
              "      <td>2.276652</td>\n",
              "      <td>#na#</td>\n",
              "      <td>00:01</td>\n",
              "    </tr>\n",
              "  </tbody>\n",
              "</table><p>\n",
              "\n",
              "    <div>\n",
              "        <style>\n",
              "            /* Turns off some styling */\n",
              "            progress {\n",
              "                /* gets rid of default border in Firefox and Opera. */\n",
              "                border: none;\n",
              "                /* Needs to be in here for Safari polyfill so background images work as expected. */\n",
              "                background-size: auto;\n",
              "            }\n",
              "            .progress-bar-interrupted, .progress-bar-interrupted::-webkit-progress-bar {\n",
              "                background: #F44336;\n",
              "            }\n",
              "        </style>\n",
              "      <progress value='2' class='' max='3' style='width:300px; height:20px; vertical-align: middle;'></progress>\n",
              "      66.67% [2/3 00:00<00:00 2.3869]\n",
              "    </div>\n",
              "    "
            ],
            "text/plain": [
              "<IPython.core.display.HTML object>"
            ]
          },
          "metadata": {
            "tags": []
          }
        },
        {
          "output_type": "stream",
          "text": [
            "LR Finder is complete, type {learner_name}.recorder.plot() to see the graph.\n"
          ],
          "name": "stdout"
        }
      ]
    },
    {
      "cell_type": "code",
      "metadata": {
        "colab": {
          "base_uri": "https://localhost:8080/",
          "height": 279
        },
        "id": "DDWXl0PS8hYA",
        "outputId": "953e6e6b-0c75-48d9-c669-e2bd216a066a"
      },
      "source": [
        "learner.recorder.plot()"
      ],
      "execution_count": 101,
      "outputs": [
        {
          "output_type": "display_data",
          "data": {
            "image/png": "[encoded data removed]",
            "text/plain": [
              "<Figure size 432x288 with 1 Axes>"
            ]
          },
          "metadata": {
            "tags": [],
            "needs_background": "light"
          }
        }
      ]
    },
    {
      "cell_type": "code",
      "metadata": {
        "id": "SnxM2Gcv86w9"
      },
      "source": [
        "# Tune a little more\r\n",
        "learner.freeze_to(-1)"
      ],
      "execution_count": 102,
      "outputs": []
    },
    {
      "cell_type": "code",
      "metadata": {
        "colab": {
          "base_uri": "https://localhost:8080/",
          "height": 77
        },
        "id": "uTvsW8sP8cbM",
        "outputId": "6bf62c58-4a78-4a58-bfed-6841e6f7a5d9"
      },
      "source": [
        "# Fit the model based on selected learning rate\n",
        "learner.fit_one_cycle(1, 2e-2, moms=(0.8,0.7))"
      ],
      "execution_count": 103,
      "outputs": [
        {
          "output_type": "display_data",
          "data": {
            "text/html": [
              "<table border=\"1\" class=\"dataframe\">\n",
              "  <thead>\n",
              "    <tr style=\"text-align: left;\">\n",
              "      <th>epoch</th>\n",
              "      <th>train_loss</th>\n",
              "      <th>valid_loss</th>\n",
              "      <th>accuracy</th>\n",
              "      <th>time</th>\n",
              "    </tr>\n",
              "  </thead>\n",
              "  <tbody>\n",
              "    <tr>\n",
              "      <td>0</td>\n",
              "      <td>3.770580</td>\n",
              "      <td>67.428253</td>\n",
              "      <td>0.600000</td>\n",
              "      <td>00:01</td>\n",
              "    </tr>\n",
              "  </tbody>\n",
              "</table>"
            ],
            "text/plain": [
              "<IPython.core.display.HTML object>"
            ]
          },
          "metadata": {
            "tags": []
          }
        }
      ]
    },
    {
      "cell_type": "code",
      "metadata": {
        "colab": {
          "base_uri": "https://localhost:8080/",
          "height": 195
        },
        "id": "Z2yo38xr9RgM",
        "outputId": "e1a65602-6a3e-4a59-eb0f-28316e5bca06"
      },
      "source": [
        "learner.freeze_to(-2)\r\n",
        "learner.fit_one_cycle(5, 2e-3, moms=(0.8,0.7))"
      ],
      "execution_count": 109,
      "outputs": [
        {
          "output_type": "display_data",
          "data": {
            "text/html": [
              "<table border=\"1\" class=\"dataframe\">\n",
              "  <thead>\n",
              "    <tr style=\"text-align: left;\">\n",
              "      <th>epoch</th>\n",
              "      <th>train_loss</th>\n",
              "      <th>valid_loss</th>\n",
              "      <th>accuracy</th>\n",
              "      <th>time</th>\n",
              "    </tr>\n",
              "  </thead>\n",
              "  <tbody>\n",
              "    <tr>\n",
              "      <td>0</td>\n",
              "      <td>1.900092</td>\n",
              "      <td>0.717055</td>\n",
              "      <td>0.600000</td>\n",
              "      <td>00:01</td>\n",
              "    </tr>\n",
              "    <tr>\n",
              "      <td>1</td>\n",
              "      <td>2.747047</td>\n",
              "      <td>0.694976</td>\n",
              "      <td>0.400000</td>\n",
              "      <td>00:01</td>\n",
              "    </tr>\n",
              "    <tr>\n",
              "      <td>2</td>\n",
              "      <td>2.452689</td>\n",
              "      <td>3.802555</td>\n",
              "      <td>0.400000</td>\n",
              "      <td>00:01</td>\n",
              "    </tr>\n",
              "    <tr>\n",
              "      <td>3</td>\n",
              "      <td>2.533840</td>\n",
              "      <td>1.583624</td>\n",
              "      <td>0.600000</td>\n",
              "      <td>00:01</td>\n",
              "    </tr>\n",
              "    <tr>\n",
              "      <td>4</td>\n",
              "      <td>2.400381</td>\n",
              "      <td>1.344234</td>\n",
              "      <td>0.600000</td>\n",
              "      <td>00:01</td>\n",
              "    </tr>\n",
              "  </tbody>\n",
              "</table>"
            ],
            "text/plain": [
              "<IPython.core.display.HTML object>"
            ]
          },
          "metadata": {
            "tags": []
          }
        }
      ]
    },
    {
      "cell_type": "code",
      "metadata": {
        "colab": {
          "base_uri": "https://localhost:8080/",
          "height": 77
        },
        "id": "sRoAz6A_9Uco",
        "outputId": "71391cc8-7873-43b8-c359-f16424380d1a"
      },
      "source": [
        "learner.freeze_to(-3)\r\n",
        "learner.fit_one_cycle(1, 2e-4, moms=(0.8,0.7))"
      ],
      "execution_count": 110,
      "outputs": [
        {
          "output_type": "display_data",
          "data": {
            "text/html": [
              "<table border=\"1\" class=\"dataframe\">\n",
              "  <thead>\n",
              "    <tr style=\"text-align: left;\">\n",
              "      <th>epoch</th>\n",
              "      <th>train_loss</th>\n",
              "      <th>valid_loss</th>\n",
              "      <th>accuracy</th>\n",
              "      <th>time</th>\n",
              "    </tr>\n",
              "  </thead>\n",
              "  <tbody>\n",
              "    <tr>\n",
              "      <td>0</td>\n",
              "      <td>1.903157</td>\n",
              "      <td>0.854397</td>\n",
              "      <td>0.400000</td>\n",
              "      <td>00:01</td>\n",
              "    </tr>\n",
              "  </tbody>\n",
              "</table>"
            ],
            "text/plain": [
              "<IPython.core.display.HTML object>"
            ]
          },
          "metadata": {
            "tags": []
          }
        }
      ]
    },
    {
      "cell_type": "code",
      "metadata": {
        "colab": {
          "base_uri": "https://localhost:8080/",
          "height": 77
        },
        "id": "SNu9-jDe_-b_",
        "outputId": "747521e5-ac42-4831-b132-5b21e5780aa2"
      },
      "source": [
        "learner.fit_one_cycle(1, 2e-4, moms=(0.8,0.7))"
      ],
      "execution_count": 111,
      "outputs": [
        {
          "output_type": "display_data",
          "data": {
            "text/html": [
              "<table border=\"1\" class=\"dataframe\">\n",
              "  <thead>\n",
              "    <tr style=\"text-align: left;\">\n",
              "      <th>epoch</th>\n",
              "      <th>train_loss</th>\n",
              "      <th>valid_loss</th>\n",
              "      <th>accuracy</th>\n",
              "      <th>time</th>\n",
              "    </tr>\n",
              "  </thead>\n",
              "  <tbody>\n",
              "    <tr>\n",
              "      <td>0</td>\n",
              "      <td>1.799990</td>\n",
              "      <td>0.680405</td>\n",
              "      <td>0.600000</td>\n",
              "      <td>00:01</td>\n",
              "    </tr>\n",
              "  </tbody>\n",
              "</table>"
            ],
            "text/plain": [
              "<IPython.core.display.HTML object>"
            ]
          },
          "metadata": {
            "tags": []
          }
        }
      ]
    },
    {
      "cell_type": "code",
      "metadata": {
        "colab": {
          "base_uri": "https://localhost:8080/",
          "height": 77
        },
        "id": "Iyj9HgUN9k35",
        "outputId": "8fb01304-0512-40aa-bb06-4f7f676e5ecb"
      },
      "source": [
        "learner.fit_one_cycle(1, 2e-5, moms=(0.8,0.7))"
      ],
      "execution_count": 113,
      "outputs": [
        {
          "output_type": "display_data",
          "data": {
            "text/html": [
              "<table border=\"1\" class=\"dataframe\">\n",
              "  <thead>\n",
              "    <tr style=\"text-align: left;\">\n",
              "      <th>epoch</th>\n",
              "      <th>train_loss</th>\n",
              "      <th>valid_loss</th>\n",
              "      <th>accuracy</th>\n",
              "      <th>time</th>\n",
              "    </tr>\n",
              "  </thead>\n",
              "  <tbody>\n",
              "    <tr>\n",
              "      <td>0</td>\n",
              "      <td>1.600638</td>\n",
              "      <td>0.685512</td>\n",
              "      <td>0.600000</td>\n",
              "      <td>00:01</td>\n",
              "    </tr>\n",
              "  </tbody>\n",
              "</table>"
            ],
            "text/plain": [
              "<IPython.core.display.HTML object>"
            ]
          },
          "metadata": {
            "tags": []
          }
        }
      ]
    },
    {
      "cell_type": "code",
      "metadata": {
        "colab": {
          "base_uri": "https://localhost:8080/",
          "height": 195
        },
        "id": "AsNB7o1K8cba",
        "outputId": "601cff80-88bf-4362-a7e2-ccd323ff46f8"
      },
      "source": [
        "learner.show_results()"
      ],
      "execution_count": 114,
      "outputs": [
        {
          "output_type": "display_data",
          "data": {
            "text/html": [
              "<table border=\"1\" class=\"dataframe\">\n",
              "  <thead>\n",
              "    <tr style=\"text-align: right;\">\n",
              "      <th>text</th>\n",
              "      <th>target</th>\n",
              "      <th>prediction</th>\n",
              "    </tr>\n",
              "  </thead>\n",
              "  <tbody>\n",
              "    <tr>\n",
              "      <td>[CLS] ether ##eum tr ##on and e ##os control 98 of all da ##pp volume xx ##eo ##s 6 [SEP]</td>\n",
              "      <td>0</td>\n",
              "      <td>1</td>\n",
              "    </tr>\n",
              "    <tr>\n",
              "      <td>[CLS] demand for bit ##co ##in will see a dramatic shift in 8 years retail addresses to eat up [SEP]</td>\n",
              "      <td>1</td>\n",
              "      <td>1</td>\n",
              "    </tr>\n",
              "    <tr>\n",
              "      <td>[CLS] chinese ken ##nel owner caught stealing electricity to power underground bit ##co ##in mining farm xx ##eo ##s [SEP]</td>\n",
              "      <td>1</td>\n",
              "      <td>1</td>\n",
              "    </tr>\n",
              "    <tr>\n",
              "      <td>[CLS] market update crypt ##o cap near ##s 300 billion bt ##c hits 10 ##k et ##h rallies hard [SEP]</td>\n",
              "      <td>0</td>\n",
              "      <td>1</td>\n",
              "    </tr>\n",
              "    <tr>\n",
              "      <td>[CLS] swiss government rejects 103 million bail ##out for crypt ##o companies battered by corona ##virus xx ##eo ##s [SEP]</td>\n",
              "      <td>0</td>\n",
              "      <td>1</td>\n",
              "    </tr>\n",
              "  </tbody>\n",
              "</table>"
            ],
            "text/plain": [
              "<IPython.core.display.HTML object>"
            ]
          },
          "metadata": {
            "tags": []
          }
        }
      ]
    },
    {
      "cell_type": "code",
      "metadata": {
        "colab": {
          "base_uri": "https://localhost:8080/",
          "height": 311
        },
        "id": "uSWv3uIx8cba",
        "outputId": "400f0c41-5b14-4956-9211-07385a407f42"
      },
      "source": [
        "interp = ClassificationInterpretation.from_learner(learner)\n",
        "interp.plot_confusion_matrix()"
      ],
      "execution_count": 115,
      "outputs": [
        {
          "output_type": "display_data",
          "data": {
            "text/html": [
              ""
            ],
            "text/plain": [
              "<IPython.core.display.HTML object>"
            ]
          },
          "metadata": {
            "tags": []
          }
        },
        {
          "output_type": "display_data",
          "data": {
            "image/png": "[encoded data removed]",
            "text/plain": [
              "<Figure size 432x288 with 1 Axes>"
            ]
          },
          "metadata": {
            "tags": [],
            "needs_background": "light"
          }
        }
      ]
    },
    {
      "cell_type": "code",
      "metadata": {
        "id": "fRUauyez8cbb"
      },
      "source": [
        "y_valid = interp.data.valid_ds.y.items"
      ],
      "execution_count": 116,
      "outputs": []
    },
    {
      "cell_type": "code",
      "metadata": {
        "id": "BYjXLTKI8cbb"
      },
      "source": [
        "y_pred = interp.pred_class.numpy()"
      ],
      "execution_count": 117,
      "outputs": []
    },
    {
      "cell_type": "code",
      "metadata": {
        "colab": {
          "base_uri": "https://localhost:8080/"
        },
        "id": "f9X_etS-8cbb",
        "outputId": "2e033a6d-f073-4881-82dc-ecee9f7d314a"
      },
      "source": [
        "from sklearn.metrics import classification_report\n",
        "print(classification_report(y_valid,\n",
        "                            y_pred,\n",
        "                            target_names= ['0', '1']))\n"
      ],
      "execution_count": 118,
      "outputs": [
        {
          "output_type": "stream",
          "text": [
            "              precision    recall  f1-score   support\n",
            "\n",
            "           0       0.00      0.00      0.00        18\n",
            "           1       0.60      1.00      0.75        27\n",
            "\n",
            "    accuracy                           0.60        45\n",
            "   macro avg       0.30      0.50      0.37        45\n",
            "weighted avg       0.36      0.60      0.45        45\n",
            "\n"
          ],
          "name": "stdout"
        },
        {
          "output_type": "stream",
          "text": [
            "/usr/local/lib/python3.6/dist-packages/sklearn/metrics/_classification.py:1272: UndefinedMetricWarning: Precision and F-score are ill-defined and being set to 0.0 in labels with no predicted samples. Use `zero_division` parameter to control this behavior.\n",
            "  _warn_prf(average, modifier, msg_start, len(result))\n"
          ],
          "name": "stderr"
        }
      ]
    }
  ]
}