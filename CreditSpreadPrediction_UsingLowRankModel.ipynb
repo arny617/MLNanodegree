{
  "nbformat": 4,
  "nbformat_minor": 0,
  "metadata": {
    "colab": {
      "name": "CreditSpreadPrediction_UsingLowRankModel.ipynb",
      "provenance": [],
      "collapsed_sections": [],
      "authorship_tag": "ABX9TyPnKaUALSl1Uymc8pE0LrK1",
      "include_colab_link": true
    },
    "kernelspec": {
      "name": "python3",
      "display_name": "Python 3"
    }
  },
  "cells": [
    {
      "cell_type": "markdown",
      "metadata": {
        "id": "view-in-github",
        "colab_type": "text"
      },
      "source": [
        "<a href=\"https://colab.research.google.com/github/arny617/MLNanodegree/blob/master/CreditSpreadPrediction_UsingLowRankModel.ipynb\" target=\"_parent\"><img src=\"https://colab.research.google.com/assets/colab-badge.svg\" alt=\"Open In Colab\"/></a>"
      ]
    },
    {
      "cell_type": "code",
      "metadata": {
        "id": "8CSsFwrCbRsB"
      },
      "source": [
        "import numpy as np\r\n",
        "import pandas as pd\r\n",
        "import matplotlib.pyplot as plt\r\n",
        "from datetime import datetime\r\n",
        "pd.core.common.is_list_like = pd.api.types.is_list_like\r\n",
        "import seaborn as sns\r\n",
        "from sklearn.model_selection import cross_val_score, train_test_split\r\n",
        "from scipy import stats\r\n",
        "%matplotlib inline"
      ],
      "execution_count": null,
      "outputs": []
    },
    {
      "cell_type": "code",
      "metadata": {
        "colab": {
          "base_uri": "https://localhost:8080/"
        },
        "id": "jpg3bcwRbjgB",
        "outputId": "1e21e54b-daae-422c-ddd9-7ca87fbad697"
      },
      "source": [
        "import os\r\n",
        "from google.colab import drive\r\n",
        "drive.mount('/content/gdrive')\r\n",
        "ROOT = \"/content/gdrive/My Drive/Colab Notebooks/\"\r\n",
        "os.chdir(ROOT)"
      ],
      "execution_count": null,
      "outputs": [
        {
          "output_type": "stream",
          "text": [
            "Mounted at /content/gdrive\n"
          ],
          "name": "stdout"
        }
      ]
    },
    {
      "cell_type": "code",
      "metadata": {
        "colab": {
          "base_uri": "https://localhost:8080/"
        },
        "id": "RfyEqGR-XyWJ",
        "outputId": "fa474465-9c74-4b3d-a577-26ae22d7c1c8"
      },
      "source": [
        "!pip install h2o"
      ],
      "execution_count": null,
      "outputs": [
        {
          "output_type": "stream",
          "text": [
            "Collecting h2o\n",
            "\u001b[?25l  Downloading https://files.pythonhosted.org/packages/26/c5/d63a8bfdbeb4ebfb709c010af3e061d89a363204c437cb5527431f6de3d2/h2o-3.32.0.2.tar.gz (164.6MB)\n",
            "\u001b[K     |████████████████████████████████| 164.6MB 82kB/s \n",
            "\u001b[?25hRequirement already satisfied: requests in /usr/local/lib/python3.6/dist-packages (from h2o) (2.23.0)\n",
            "Requirement already satisfied: tabulate in /usr/local/lib/python3.6/dist-packages (from h2o) (0.8.7)\n",
            "Requirement already satisfied: future in /usr/local/lib/python3.6/dist-packages (from h2o) (0.16.0)\n",
            "Collecting colorama>=0.3.8\n",
            "  Downloading https://files.pythonhosted.org/packages/44/98/5b86278fbbf250d239ae0ecb724f8572af1c91f4a11edf4d36a206189440/colorama-0.4.4-py2.py3-none-any.whl\n",
            "Requirement already satisfied: certifi>=2017.4.17 in /usr/local/lib/python3.6/dist-packages (from requests->h2o) (2020.12.5)\n",
            "Requirement already satisfied: idna<3,>=2.5 in /usr/local/lib/python3.6/dist-packages (from requests->h2o) (2.10)\n",
            "Requirement already satisfied: urllib3!=1.25.0,!=1.25.1,<1.26,>=1.21.1 in /usr/local/lib/python3.6/dist-packages (from requests->h2o) (1.24.3)\n",
            "Requirement already satisfied: chardet<4,>=3.0.2 in /usr/local/lib/python3.6/dist-packages (from requests->h2o) (3.0.4)\n",
            "Building wheels for collected packages: h2o\n",
            "  Building wheel for h2o (setup.py) ... \u001b[?25l\u001b[?25hdone\n",
            "  Created wheel for h2o: filename=h2o-3.32.0.2-py2.py3-none-any.whl size=164620456 sha256=ef0c7f8a6417d01aad28c8f3b2e3691e5447eb7fe17acb8d8e1ccdcd6cf67c48\n",
            "  Stored in directory: /root/.cache/pip/wheels/42/bd/ea/218fd15724eddf6fa7fc8fab802b6fa592e623d87199679721\n",
            "Successfully built h2o\n",
            "Installing collected packages: colorama, h2o\n",
            "Successfully installed colorama-0.4.4 h2o-3.32.0.2\n"
          ],
          "name": "stdout"
        }
      ]
    },
    {
      "cell_type": "code",
      "metadata": {
        "colab": {
          "base_uri": "https://localhost:8080/",
          "height": 510
        },
        "id": "iojUFr6jXxF7",
        "outputId": "8f10b882-c3fb-4e83-b232-9876d9d72b14"
      },
      "source": [
        "import h2o\r\n",
        "from h2o.estimators import H2OGeneralizedLowRankEstimator\r\n",
        "h2o.init()"
      ],
      "execution_count": null,
      "outputs": [
        {
          "output_type": "stream",
          "text": [
            "Checking whether there is an H2O instance running at http://localhost:54321 ..... not found.\n",
            "Attempting to start a local H2O server...\n",
            "  Java Version: openjdk version \"11.0.9.1\" 2020-11-04; OpenJDK Runtime Environment (build 11.0.9.1+1-Ubuntu-0ubuntu1.18.04); OpenJDK 64-Bit Server VM (build 11.0.9.1+1-Ubuntu-0ubuntu1.18.04, mixed mode, sharing)\n",
            "  Starting server from /usr/local/lib/python3.6/dist-packages/h2o/backend/bin/h2o.jar\n",
            "  Ice root: /tmp/tmpv9ajfdd4\n",
            "  JVM stdout: /tmp/tmpv9ajfdd4/h2o_unknownUser_started_from_python.out\n",
            "  JVM stderr: /tmp/tmpv9ajfdd4/h2o_unknownUser_started_from_python.err\n",
            "  Server is running at http://127.0.0.1:54321\n",
            "Connecting to H2O server at http://127.0.0.1:54321 ... successful.\n"
          ],
          "name": "stdout"
        },
        {
          "output_type": "display_data",
          "data": {
            "text/html": [
              "<div style=\"overflow:auto\"><table style=\"width:50%\"><tr><td>H2O_cluster_uptime:</td>\n",
              "<td>03 secs</td></tr>\n",
              "<tr><td>H2O_cluster_timezone:</td>\n",
              "<td>Etc/UTC</td></tr>\n",
              "<tr><td>H2O_data_parsing_timezone:</td>\n",
              "<td>UTC</td></tr>\n",
              "<tr><td>H2O_cluster_version:</td>\n",
              "<td>3.32.0.2</td></tr>\n",
              "<tr><td>H2O_cluster_version_age:</td>\n",
              "<td>28 days, 10 hours and 14 minutes </td></tr>\n",
              "<tr><td>H2O_cluster_name:</td>\n",
              "<td>H2O_from_python_unknownUser_t31i0r</td></tr>\n",
              "<tr><td>H2O_cluster_total_nodes:</td>\n",
              "<td>1</td></tr>\n",
              "<tr><td>H2O_cluster_free_memory:</td>\n",
              "<td>3.180 Gb</td></tr>\n",
              "<tr><td>H2O_cluster_total_cores:</td>\n",
              "<td>2</td></tr>\n",
              "<tr><td>H2O_cluster_allowed_cores:</td>\n",
              "<td>2</td></tr>\n",
              "<tr><td>H2O_cluster_status:</td>\n",
              "<td>accepting new members, healthy</td></tr>\n",
              "<tr><td>H2O_connection_url:</td>\n",
              "<td>http://127.0.0.1:54321</td></tr>\n",
              "<tr><td>H2O_connection_proxy:</td>\n",
              "<td>{\"http\": null, \"https\": null}</td></tr>\n",
              "<tr><td>H2O_internal_security:</td>\n",
              "<td>False</td></tr>\n",
              "<tr><td>H2O_API_Extensions:</td>\n",
              "<td>Amazon S3, XGBoost, Algos, AutoML, Core V3, TargetEncoder, Core V4</td></tr>\n",
              "<tr><td>Python_version:</td>\n",
              "<td>3.6.9 final</td></tr></table></div>"
            ],
            "text/plain": [
              "--------------------------  ------------------------------------------------------------------\n",
              "H2O_cluster_uptime:         03 secs\n",
              "H2O_cluster_timezone:       Etc/UTC\n",
              "H2O_data_parsing_timezone:  UTC\n",
              "H2O_cluster_version:        3.32.0.2\n",
              "H2O_cluster_version_age:    28 days, 10 hours and 14 minutes\n",
              "H2O_cluster_name:           H2O_from_python_unknownUser_t31i0r\n",
              "H2O_cluster_total_nodes:    1\n",
              "H2O_cluster_free_memory:    3.180 Gb\n",
              "H2O_cluster_total_cores:    2\n",
              "H2O_cluster_allowed_cores:  2\n",
              "H2O_cluster_status:         accepting new members, healthy\n",
              "H2O_connection_url:         http://127.0.0.1:54321\n",
              "H2O_connection_proxy:       {\"http\": null, \"https\": null}\n",
              "H2O_internal_security:      False\n",
              "H2O_API_Extensions:         Amazon S3, XGBoost, Algos, AutoML, Core V3, TargetEncoder, Core V4\n",
              "Python_version:             3.6.9 final\n",
              "--------------------------  ------------------------------------------------------------------"
            ]
          },
          "metadata": {
            "tags": []
          }
        }
      ]
    },
    {
      "cell_type": "markdown",
      "metadata": {
        "id": "D216tySnYEp2"
      },
      "source": [
        "### Load Data"
      ]
    },
    {
      "cell_type": "code",
      "metadata": {
        "id": "oMqm5bAp2TTm"
      },
      "source": [
        "df_tot = pd.read_csv('iaqf_data.csv',index_col=0)\r\n",
        "df_tot.index = pd.to_datetime(df_tot.index)\r\n",
        "\r\n",
        "non_daily_input_list = ['STLFSI', 'TB3MS', 'WM2NS', 'WM1NS', 'USROE', 'UNRATE', 'TOTLL', 'TOTCI',\r\n",
        "                             'TOTBKCR','TERMCBAUTO48NS','RECPROUSM156N','PSAVERT','PCE','PAYNSA','INDPRO',\r\n",
        "                             'CPIAUCSL','CSUSHPINSA','GDP','Bill_Gross_Issues','Bill_Net','Notes_Gross_Issues',\r\n",
        "                             'Notes_Net','Bonds_Gross_Issues','Bonds_Net','TOTAL_Gross_Issues','Total_Net_Cash Raised',\r\n",
        "                             '10-year issuance','Investment Grade','High Yield','Total','Economic Policy Uncertainty',\r\n",
        "                        'Monetary policy','Fiscal Policy',\r\n",
        "                        'Health care','National security','Entitlement programs','Regulation','Financial Regulation',\r\n",
        "                        'Trade policy','Sovereign debt']"
      ],
      "execution_count": null,
      "outputs": []
    },
    {
      "cell_type": "code",
      "metadata": {
        "id": "dOVeb3K22iRb"
      },
      "source": [
        ""
      ],
      "execution_count": null,
      "outputs": []
    },
    {
      "cell_type": "code",
      "metadata": {
        "id": "DYg5UWqAbR7u"
      },
      "source": [
        "from scipy.stats import kurtosis,skew,norm\r\n",
        "def normFitPlot(dataset):\r\n",
        "    dataset = np.squeeze(dataset)\r\n",
        "    sns.set_context(\"paper\", rc={\"font.size\":30,\"axes.titlesize\":30,\"axes.labelsize\":20}) \r\n",
        "    sns.distplot(dataset , fit=norm);\r\n",
        "\r\n",
        "    # Get the fitted parameters used by the function\r\n",
        "    (mu, sigma) = norm.fit(dataset)\r\n",
        "    kur = kurtosis(dataset)\r\n",
        "    sk = skew(dataset)\r\n",
        "    print( '\\n mu = {:.2f} and sigma = {:.2f}\\n'.format(mu, sigma))\r\n",
        "    print( '\\n kurtosis = {:.2f} and skew = {:.2f}\\n'.format(kur, sk))\r\n",
        "\r\n",
        "    #Now plot the distribution\r\n",
        "    plt.legend(['Distribution $\\mu=$ {:.2f} and $\\sigma=$ {:.2f} \\n kurtosis = {:.2f} and skew = {:.2f}\\n'.format(mu, sigma,kur,sk)],\r\n",
        "                loc='best',fontsize=10)\r\n",
        "    plt.ylabel('Frequency',fontsize=20)\r\n",
        "    plt.title('Target distribution',fontsize=30)\r\n",
        "\r\n",
        "    #Get also the QQ-plot\r\n",
        "    fig = plt.figure()\r\n",
        "    res = stats.probplot(dataset, plot=plt)\r\n",
        "    plt.show()"
      ],
      "execution_count": null,
      "outputs": []
    },
    {
      "cell_type": "code",
      "metadata": {
        "id": "UwyVKhx2bR-y"
      },
      "source": [
        "non_daily_column = non_daily_input_list\r\n",
        "daily_column = df_tot.columns.difference(non_daily_column)"
      ],
      "execution_count": null,
      "outputs": []
    },
    {
      "cell_type": "code",
      "metadata": {
        "id": "RrPM4S-ScUC_"
      },
      "source": [
        "df_tot_nondaily = df_tot[non_daily_column]\r\n",
        "df_tot_daily = df_tot[daily_column]"
      ],
      "execution_count": null,
      "outputs": []
    },
    {
      "cell_type": "code",
      "metadata": {
        "id": "Xk_Wosx4cU39"
      },
      "source": [
        "# Delete data on non-trading date\r\n",
        "df_tot_daily = df_tot_daily[~df_tot_daily.SPY_High.isnull()]\r\n",
        "df_tot_daily = df_tot_daily[~df_tot_daily.DGS10.isnull()]\r\n",
        "df_tot_daily = df_tot_daily[~df_tot_daily.BAMLC0A1CAAAEY.isnull()]"
      ],
      "execution_count": null,
      "outputs": []
    },
    {
      "cell_type": "code",
      "metadata": {
        "colab": {
          "base_uri": "https://localhost:8080/"
        },
        "id": "Njv28f78cU7y",
        "outputId": "3731edd9-c9b5-447a-ef0a-8acc3a60fc37"
      },
      "source": [
        "df_tot_daily.isnull().sum()[df_tot_daily.isnull().sum()>0].sort_values(ascending = True).head()"
      ],
      "execution_count": null,
      "outputs": [
        {
          "output_type": "execute_result",
          "data": {
            "text/plain": [
              "^VIX_ROC    1\n",
              "SPY_TR      1\n",
              "DPRIME      1\n",
              "SPY_ROC     1\n",
              "^VIX_TR     1\n",
              "dtype: int64"
            ]
          },
          "metadata": {
            "tags": []
          },
          "execution_count": 16
        }
      ]
    },
    {
      "cell_type": "code",
      "metadata": {
        "id": "liVVTGAQcU-h"
      },
      "source": [
        "# Simply use a forward fill for other missing data\r\n",
        "for i in df_tot_daily:\r\n",
        "    df_tot_daily[i] = df_tot_daily[i].fillna(method = 'ffill')\r\n"
      ],
      "execution_count": null,
      "outputs": []
    },
    {
      "cell_type": "code",
      "metadata": {
        "id": "rAHHsDTjcVBL"
      },
      "source": [
        "df_tot = df_tot_daily.copy(deep=True)\r\n",
        "feature_col = df_tot.columns.difference(['AAA10Y'])"
      ],
      "execution_count": null,
      "outputs": []
    },
    {
      "cell_type": "code",
      "metadata": {
        "colab": {
          "base_uri": "https://localhost:8080/",
          "height": 195
        },
        "id": "LZKCAbE7cVEG",
        "outputId": "a397279f-cf1d-4eb7-f056-ff095c82b8f1"
      },
      "source": [
        "# Transform our features which are skewed\r\n",
        "skewed_feats = df_tot[feature_col].apply(lambda x: skew(x.dropna())).sort_values(ascending=False)\r\n",
        "skewDF = pd.DataFrame({'Skew' :skewed_feats})\r\n",
        "skewDF.head()"
      ],
      "execution_count": null,
      "outputs": [
        {
          "output_type": "execute_result",
          "data": {
            "text/html": [
              "<div>\n",
              "<style scoped>\n",
              "    .dataframe tbody tr th:only-of-type {\n",
              "        vertical-align: middle;\n",
              "    }\n",
              "\n",
              "    .dataframe tbody tr th {\n",
              "        vertical-align: top;\n",
              "    }\n",
              "\n",
              "    .dataframe thead th {\n",
              "        text-align: right;\n",
              "    }\n",
              "</style>\n",
              "<table border=\"1\" class=\"dataframe\">\n",
              "  <thead>\n",
              "    <tr style=\"text-align: right;\">\n",
              "      <th></th>\n",
              "      <th>Skew</th>\n",
              "    </tr>\n",
              "  </thead>\n",
              "  <tbody>\n",
              "    <tr>\n",
              "      <th>^VIX_bl</th>\n",
              "      <td>65.095892</td>\n",
              "    </tr>\n",
              "    <tr>\n",
              "      <th>meltdown</th>\n",
              "      <td>14.353858</td>\n",
              "    </tr>\n",
              "    <tr>\n",
              "      <th>investment-grade</th>\n",
              "      <td>8.330854</td>\n",
              "    </tr>\n",
              "    <tr>\n",
              "      <th>bond broker</th>\n",
              "      <td>7.442682</td>\n",
              "    </tr>\n",
              "    <tr>\n",
              "      <th>sell-off</th>\n",
              "      <td>6.761579</td>\n",
              "    </tr>\n",
              "  </tbody>\n",
              "</table>\n",
              "</div>"
            ],
            "text/plain": [
              "                       Skew\n",
              "^VIX_bl           65.095892\n",
              "meltdown          14.353858\n",
              "investment-grade   8.330854\n",
              "bond broker        7.442682\n",
              "sell-off           6.761579"
            ]
          },
          "metadata": {
            "tags": []
          },
          "execution_count": 19
        }
      ]
    },
    {
      "cell_type": "code",
      "metadata": {
        "colab": {
          "base_uri": "https://localhost:8080/"
        },
        "id": "uW7N58GdcVHm",
        "outputId": "8a9c8b72-9e05-49ba-fb59-7acf57392d0d"
      },
      "source": [
        "skewness = skewDF\r\n",
        "skewness = skewness.dropna()\r\n",
        "print(\"There are {} skewed features to Box Cox transform\".format(skewness.shape[0]))\r\n",
        "skewed_features = skewness.index\r\n",
        "lam = 0\r\n",
        "df_tot_log = df_tot.copy()\r\n",
        "for feat in skewed_features:\r\n",
        "    df_tot_log[feat] = np.log(np.abs(df_tot[feat])+1)*np.sign(df_tot[feat])\r\n",
        "print(\"Transform Finished!\")"
      ],
      "execution_count": null,
      "outputs": [
        {
          "output_type": "stream",
          "text": [
            "There are 120 skewed features to Box Cox transform\n",
            "Transform Finished!\n"
          ],
          "name": "stdout"
        }
      ]
    },
    {
      "cell_type": "code",
      "metadata": {
        "colab": {
          "base_uri": "https://localhost:8080/",
          "height": 195
        },
        "id": "YhbCr1JocVKR",
        "outputId": "0c47286c-9b9a-48ec-9f6f-2b6ae59cd1ff"
      },
      "source": [
        "skewed_feats = df_tot_log.apply(lambda x: skew(x.dropna())).sort_values(ascending=False)\r\n",
        "skewDF = pd.DataFrame({'Skew' :skewed_feats})\r\n",
        "skewDF.head()"
      ],
      "execution_count": null,
      "outputs": [
        {
          "output_type": "execute_result",
          "data": {
            "text/html": [
              "<div>\n",
              "<style scoped>\n",
              "    .dataframe tbody tr th:only-of-type {\n",
              "        vertical-align: middle;\n",
              "    }\n",
              "\n",
              "    .dataframe tbody tr th {\n",
              "        vertical-align: top;\n",
              "    }\n",
              "\n",
              "    .dataframe thead th {\n",
              "        text-align: right;\n",
              "    }\n",
              "</style>\n",
              "<table border=\"1\" class=\"dataframe\">\n",
              "  <thead>\n",
              "    <tr style=\"text-align: right;\">\n",
              "      <th></th>\n",
              "      <th>Skew</th>\n",
              "    </tr>\n",
              "  </thead>\n",
              "  <tbody>\n",
              "    <tr>\n",
              "      <th>investment-grade</th>\n",
              "      <td>7.104952</td>\n",
              "    </tr>\n",
              "    <tr>\n",
              "      <th>^VIX_bl</th>\n",
              "      <td>6.629973</td>\n",
              "    </tr>\n",
              "    <tr>\n",
              "      <th>bond broker</th>\n",
              "      <td>5.482865</td>\n",
              "    </tr>\n",
              "    <tr>\n",
              "      <th>sell-off</th>\n",
              "      <td>3.747732</td>\n",
              "    </tr>\n",
              "    <tr>\n",
              "      <th>TEDRATE</th>\n",
              "      <td>2.253001</td>\n",
              "    </tr>\n",
              "  </tbody>\n",
              "</table>\n",
              "</div>"
            ],
            "text/plain": [
              "                      Skew\n",
              "investment-grade  7.104952\n",
              "^VIX_bl           6.629973\n",
              "bond broker       5.482865\n",
              "sell-off          3.747732\n",
              "TEDRATE           2.253001"
            ]
          },
          "metadata": {
            "tags": []
          },
          "execution_count": 21
        }
      ]
    },
    {
      "cell_type": "code",
      "metadata": {
        "colab": {
          "base_uri": "https://localhost:8080/"
        },
        "id": "PO8b7SxkcVM1",
        "outputId": "f1a6b08d-c75c-4bd6-c40f-b215a4ad91fb"
      },
      "source": [
        "from statsmodels.tsa.stattools import adfuller\r\n",
        "pvalue_dic_daily = {}\r\n",
        "stationary_daily = []\r\n",
        "non_stationary_daily = []\r\n",
        "for i in daily_column.difference(['AAA10Y']):\r\n",
        "    cur = df_tot_log[i].dropna()\r\n",
        "    p = adfuller(cur)[1]\r\n",
        "    pvalue_dic_daily[i] = p\r\n",
        "    if p > 0.05:\r\n",
        "        non_stationary_daily.append(i)\r\n",
        "    else:\r\n",
        "        stationary_daily.append(i)"
      ],
      "execution_count": null,
      "outputs": [
        {
          "output_type": "stream",
          "text": [
            "/usr/local/lib/python3.6/dist-packages/statsmodels/tools/_testing.py:19: FutureWarning: pandas.util.testing is deprecated. Use the functions in the public API at pandas.testing instead.\n",
            "  import pandas.util.testing as tm\n",
            "/usr/local/lib/python3.6/dist-packages/statsmodels/regression/linear_model.py:867: RuntimeWarning: divide by zero encountered in log\n",
            "  llf = -nobs2*np.log(2*np.pi) - nobs2*np.log(ssr / nobs) - nobs2\n",
            "/usr/local/lib/python3.6/dist-packages/statsmodels/base/model.py:1294: RuntimeWarning: invalid value encountered in true_divide\n",
            "  return self.params / self.bse\n"
          ],
          "name": "stderr"
        }
      ]
    },
    {
      "cell_type": "code",
      "metadata": {
        "id": "6HzT96yScVUe"
      },
      "source": [
        "df_tot_station = df_tot_station[~df_tot_station.SPY_High.isnull()]\r\n",
        "df_tot_station = df_tot_station[~df_tot_station.DGS10.isnull()]\r\n",
        "df_tot_station = df_tot_station[~df_tot_station.BAMLC0A1CAAAEY.isnull()]"
      ],
      "execution_count": null,
      "outputs": []
    },
    {
      "cell_type": "code",
      "metadata": {
        "id": "OGknniEzcVXT"
      },
      "source": [
        "for i in df_tot_station.columns:\r\n",
        "    df_tot_station[i] = df_tot_station[i].fillna(method='ffill')\r\n",
        "df_tot_station.dropna(inplace=True)"
      ],
      "execution_count": null,
      "outputs": []
    },
    {
      "cell_type": "code",
      "metadata": {
        "id": "zP2J6wOSeZga"
      },
      "source": [
        "y = df_tot_station['AAA10Y'].shift(-1)\r\n",
        "X = df_tot_station.drop(['AAA10Y'],axis = 1)"
      ],
      "execution_count": null,
      "outputs": []
    },
    {
      "cell_type": "code",
      "metadata": {
        "id": "oISEf06OvDmP"
      },
      "source": [
        "X['y_lag1'] = df_tot_station['AAA10Y']"
      ],
      "execution_count": null,
      "outputs": []
    },
    {
      "cell_type": "code",
      "metadata": {
        "id": "iVNNL3brcVPP"
      },
      "source": [
        "d_daily = {}\r\n",
        "stationary_daily = stationary_daily+['AAA10Y']\r\n",
        "df_tot_station = df_tot_log[stationary_daily]\r\n",
        "for i in non_stationary_daily:\r\n",
        "    cur = df_tot_log[i].dropna()\r\n",
        "    p = adfuller(cur)[1]\r\n",
        "    j = 0\r\n",
        "    while p >= 0.05:\r\n",
        "        cur = cur.diff(1).fillna(0)\r\n",
        "        p = adfuller(cur)[1]\r\n",
        "        j = j+1\r\n",
        "    df_tot_station = df_tot_station.join(cur,how='outer')\r\n",
        "    d_daily[i] = j"
      ],
      "execution_count": null,
      "outputs": []
    },
    {
      "cell_type": "code",
      "metadata": {
        "id": "A8YCDAiS2-QZ"
      },
      "source": [
        "X = X[:-1]\r\n",
        "y = y[:-1]\r\n",
        "y.name = 'Credit Spread'"
      ],
      "execution_count": null,
      "outputs": []
    },
    {
      "cell_type": "code",
      "metadata": {
        "id": "RTP3_OW23A6g"
      },
      "source": [
        "!pip install hmmlearn"
      ],
      "execution_count": null,
      "outputs": []
    },
    {
      "cell_type": "code",
      "metadata": {
        "id": "-urOzbuy3DEp"
      },
      "source": [
        "from hmmlearn.hmm import GaussianHMM\r\n",
        "remodel1 = GaussianHMM(n_components=3, covariance_type=\"full\", n_iter=5000,algorithm='map')\r\n",
        "remodel1.fit(np.array(y).reshape(-1,1))\r\n",
        "Z2 = remodel1.predict(np.array(y).reshape(-1,1))"
      ],
      "execution_count": null,
      "outputs": []
    },
    {
      "cell_type": "code",
      "metadata": {
        "id": "4hPrQNXm3ZI1"
      },
      "source": [
        "X['market regime_cs'] = pd.DataFrame(Z2,index=X.index).astype('category')"
      ],
      "execution_count": null,
      "outputs": []
    },
    {
      "cell_type": "code",
      "metadata": {
        "colab": {
          "base_uri": "https://localhost:8080/",
          "height": 576
        },
        "id": "H-1QqYg0eeO7",
        "outputId": "c5a71879-e2d0-4ac1-e0ce-65ed6cefbab5"
      },
      "source": [
        "# take a look at the dataset\r\n",
        "plt.figure(figsize = (18,9))\r\n",
        "for i in range(remodel1.n_components):\r\n",
        "    pos = (X_train['market regime_cs'] == i)\r\n",
        "    plt.plot(X_train.index[pos],y_train[pos],'.',label='hidden market regime {}'.format(i),lw=1)\r\n",
        "plt.legend(loc='best')\r\n",
        "plt.xlabel('Date',fontsize=18)\r\n",
        "plt.ylabel('credit spread',fontsize=18)"
      ],
      "execution_count": null,
      "outputs": [
        {
          "output_type": "execute_result",
          "data": {
            "text/plain": [
              "Text(0, 0.5, 'credit spread')"
            ]
          },
          "metadata": {
            "tags": []
          },
          "execution_count": 38
        },
        {
          "output_type": "display_data",
          "data": {
            "image/png": "[encoded data removed]",
            "text/plain": [
              "<Figure size 1296x648 with 1 Axes>"
            ]
          },
          "metadata": {
            "tags": [],
            "needs_background": "light"
          }
        }
      ]
    },
    {
      "cell_type": "markdown",
      "metadata": {
        "id": "3-aA5gyIaOE-"
      },
      "source": [
        "### GLRM: H2o Model"
      ]
    },
    {
      "cell_type": "code",
      "metadata": {
        "colab": {
          "base_uri": "https://localhost:8080/"
        },
        "id": "XWAe_9y4gYHd",
        "outputId": "64db604c-a643-4097-8957-26349eb2b4e4"
      },
      "source": [
        "y.head()"
      ],
      "execution_count": null,
      "outputs": [
        {
          "output_type": "execute_result",
          "data": {
            "text/plain": [
              "date\n",
              "2004-01-02    1.29\n",
              "2004-01-05    1.34\n",
              "2004-01-06    1.34\n",
              "2004-01-07    1.36\n",
              "2004-01-08    1.41\n",
              "Name: Credit Spread, dtype: float64"
            ]
          },
          "metadata": {
            "tags": []
          },
          "execution_count": 47
        }
      ]
    },
    {
      "cell_type": "code",
      "metadata": {
        "id": "wMKt5MeccQpp"
      },
      "source": [
        "df_GLRM = pd.merge(X,y,left_index=True,right_index=True)"
      ],
      "execution_count": null,
      "outputs": []
    },
    {
      "cell_type": "code",
      "metadata": {
        "colab": {
          "base_uri": "https://localhost:8080/",
          "height": 431
        },
        "id": "c2t45jafRMP0",
        "outputId": "9a5b993f-d692-4a9d-9771-28f5c2dd5c05"
      },
      "source": [
        "df_GLRM[['credit spread','Credit Spread','y_lag1']]"
      ],
      "execution_count": null,
      "outputs": [
        {
          "output_type": "execute_result",
          "data": {
            "text/html": [
              "<div>\n",
              "<style scoped>\n",
              "    .dataframe tbody tr th:only-of-type {\n",
              "        vertical-align: middle;\n",
              "    }\n",
              "\n",
              "    .dataframe tbody tr th {\n",
              "        vertical-align: top;\n",
              "    }\n",
              "\n",
              "    .dataframe thead th {\n",
              "        text-align: right;\n",
              "    }\n",
              "</style>\n",
              "<table border=\"1\" class=\"dataframe\">\n",
              "  <thead>\n",
              "    <tr style=\"text-align: right;\">\n",
              "      <th></th>\n",
              "      <th>credit spread</th>\n",
              "      <th>Credit Spread</th>\n",
              "      <th>y_lag1</th>\n",
              "    </tr>\n",
              "    <tr>\n",
              "      <th>date</th>\n",
              "      <th></th>\n",
              "      <th></th>\n",
              "      <th></th>\n",
              "    </tr>\n",
              "  </thead>\n",
              "  <tbody>\n",
              "    <tr>\n",
              "      <th>2004-01-02</th>\n",
              "      <td>0.000000</td>\n",
              "      <td>1.29</td>\n",
              "      <td>1.35</td>\n",
              "    </tr>\n",
              "    <tr>\n",
              "      <th>2004-01-05</th>\n",
              "      <td>0.000000</td>\n",
              "      <td>1.34</td>\n",
              "      <td>1.29</td>\n",
              "    </tr>\n",
              "    <tr>\n",
              "      <th>2004-01-06</th>\n",
              "      <td>0.000000</td>\n",
              "      <td>1.34</td>\n",
              "      <td>1.34</td>\n",
              "    </tr>\n",
              "    <tr>\n",
              "      <th>2004-01-07</th>\n",
              "      <td>0.000000</td>\n",
              "      <td>1.36</td>\n",
              "      <td>1.34</td>\n",
              "    </tr>\n",
              "    <tr>\n",
              "      <th>2004-01-08</th>\n",
              "      <td>0.000000</td>\n",
              "      <td>1.41</td>\n",
              "      <td>1.36</td>\n",
              "    </tr>\n",
              "    <tr>\n",
              "      <th>...</th>\n",
              "      <td>...</td>\n",
              "      <td>...</td>\n",
              "      <td>...</td>\n",
              "    </tr>\n",
              "    <tr>\n",
              "      <th>2018-12-21</th>\n",
              "      <td>0.211309</td>\n",
              "      <td>1.22</td>\n",
              "      <td>1.18</td>\n",
              "    </tr>\n",
              "    <tr>\n",
              "      <th>2018-12-24</th>\n",
              "      <td>0.200671</td>\n",
              "      <td>1.20</td>\n",
              "      <td>1.22</td>\n",
              "    </tr>\n",
              "    <tr>\n",
              "      <th>2018-12-26</th>\n",
              "      <td>-0.537143</td>\n",
              "      <td>1.24</td>\n",
              "      <td>1.20</td>\n",
              "    </tr>\n",
              "    <tr>\n",
              "      <th>2018-12-27</th>\n",
              "      <td>-0.045462</td>\n",
              "      <td>1.30</td>\n",
              "      <td>1.24</td>\n",
              "    </tr>\n",
              "    <tr>\n",
              "      <th>2018-12-28</th>\n",
              "      <td>-0.870828</td>\n",
              "      <td>1.30</td>\n",
              "      <td>1.30</td>\n",
              "    </tr>\n",
              "  </tbody>\n",
              "</table>\n",
              "<p>3744 rows × 3 columns</p>\n",
              "</div>"
            ],
            "text/plain": [
              "            credit spread  Credit Spread  y_lag1\n",
              "date                                            \n",
              "2004-01-02       0.000000           1.29    1.35\n",
              "2004-01-05       0.000000           1.34    1.29\n",
              "2004-01-06       0.000000           1.34    1.34\n",
              "2004-01-07       0.000000           1.36    1.34\n",
              "2004-01-08       0.000000           1.41    1.36\n",
              "...                   ...            ...     ...\n",
              "2018-12-21       0.211309           1.22    1.18\n",
              "2018-12-24       0.200671           1.20    1.22\n",
              "2018-12-26      -0.537143           1.24    1.20\n",
              "2018-12-27      -0.045462           1.30    1.24\n",
              "2018-12-28      -0.870828           1.30    1.30\n",
              "\n",
              "[3744 rows x 3 columns]"
            ]
          },
          "metadata": {
            "tags": []
          },
          "execution_count": 52
        }
      ]
    },
    {
      "cell_type": "code",
      "metadata": {
        "colab": {
          "base_uri": "https://localhost:8080/"
        },
        "id": "E_33UWiGbKIB",
        "outputId": "97b802eb-5ece-4a6a-e338-6527757cd0b2"
      },
      "source": [
        "arrestsH2O = h2o.H2OFrame(df_GLRM)"
      ],
      "execution_count": null,
      "outputs": [
        {
          "output_type": "stream",
          "text": [
            "Parse progress: |█████████████████████████████████████████████████████████| 100%\n"
          ],
          "name": "stdout"
        }
      ]
    },
    {
      "cell_type": "code",
      "metadata": {
        "colab": {
          "base_uri": "https://localhost:8080/"
        },
        "id": "EtEiGKOvbQLT",
        "outputId": "2644f828-97c9-4fd2-f68c-49f48ec282e4"
      },
      "source": [
        "type(arrestsH2O.columns)"
      ],
      "execution_count": null,
      "outputs": [
        {
          "output_type": "execute_result",
          "data": {
            "text/plain": [
              "list"
            ]
          },
          "metadata": {
            "tags": []
          },
          "execution_count": 117
        }
      ]
    },
    {
      "cell_type": "code",
      "metadata": {
        "id": "kP3E5EwEaMOI"
      },
      "source": [
        "def preprocess(df,split_date):\r\n",
        "  df_h2o = df.copy(deep=True)\r\n",
        "  df_h2o[df_h2o.index >=split_date]['y_lag1'] = None\r\n",
        "  df_h2o[df_h2o.index >=split_date]['Credit Spread'] = None\r\n",
        "  return df_h2o\r\n",
        "\r\n",
        "### GLRM Function\r\n",
        "def glrm(df_h2o,split_date,d_interest_cpy,k=8,loss=\"Huber\"):\r\n",
        "    ### Split into training and test\r\n",
        "    #train = df_h2o[df_h2o.index <split_date]\r\n",
        "    #test  = df_h2o[df_h2o.index >= split_date]\r\n",
        "    ## Build glrm model\r\n",
        "    glrm_model = H2OGeneralizedLowRankEstimator(k=k,\r\n",
        "                                            loss=loss,\r\n",
        "                                            regularization_x = 'L2',\r\n",
        "                                            regularization_y = 'L2',\r\n",
        "                                            #loss_by_col=loss,\r\n",
        "                                            gamma_x=0.3,\r\n",
        "                                            gamma_y=0.3,\r\n",
        "                                            max_iterations=1000,\r\n",
        "                                            recover_svd=True,\r\n",
        "                                            init=\"SVD\",\r\n",
        "                                           )\r\n",
        "    glrm_model.train(training_frame=df_h2o)\r\n",
        "    glrm_model.model_performance(df_h2o)\r\n",
        "    d_interest_predict = glrm_model.predict(df_h2o).as_data_frame()\r\n",
        "    d_interest_predict.set_index(d_interest_cpy.index,inplace=True)\r\n",
        "    plot_fn(d_interest_cpy,d_interest_predict,split_date)\r\n",
        "    return d_interest_predict\r\n",
        "def glrm_model(df,split_date,k=8,loss=\"Huber\"):\r\n",
        "    df_h2o = preprocess(df,split_date)\r\n",
        "    arrestsH2O = h2o.H2OFrame(df_h2o)\r\n",
        "    \r\n",
        "    return glrm(arrestsH2O,split_date,df,k,loss)   \r\n",
        "\r\n",
        "def plot_fn(df_glrm,df_glrm_pred,split_date):\r\n",
        "    fig = plt.figure(figsize=(7,7))\r\n",
        "    df_glrm_pred.loc[df_glrm_pred.index>=split_date]['reconstr_Credit Spread'].plot(label='Predict Spreads')\r\n",
        "    df_glrm.loc[df_glrm.index>=split_date]['Credit Spread'].plot(label='Actual')\r\n",
        "    plt.legend()\r\n",
        "    plt.show()"
      ],
      "execution_count": null,
      "outputs": []
    },
    {
      "cell_type": "code",
      "metadata": {
        "colab": {
          "base_uri": "https://localhost:8080/"
        },
        "id": "m58eMWu6aMRH",
        "outputId": "c5c0e59f-748b-45a7-8a46-48e850d13b19"
      },
      "source": [
        "split_date = datetime(2016,10,1)\r\n",
        "df_glrm_predict = glrm_model(df_GLRM,split_date,k=25)"
      ],
      "execution_count": null,
      "outputs": [
        {
          "output_type": "stream",
          "text": [
            "/usr/local/lib/python3.6/dist-packages/ipykernel_launcher.py:3: SettingWithCopyWarning: \n",
            "A value is trying to be set on a copy of a slice from a DataFrame.\n",
            "Try using .loc[row_indexer,col_indexer] = value instead\n",
            "\n",
            "See the caveats in the documentation: https://pandas.pydata.org/pandas-docs/stable/user_guide/indexing.html#returning-a-view-versus-a-copy\n",
            "  This is separate from the ipykernel package so we can avoid doing imports until\n",
            "/usr/local/lib/python3.6/dist-packages/ipykernel_launcher.py:4: SettingWithCopyWarning: \n",
            "A value is trying to be set on a copy of a slice from a DataFrame.\n",
            "Try using .loc[row_indexer,col_indexer] = value instead\n",
            "\n",
            "See the caveats in the documentation: https://pandas.pydata.org/pandas-docs/stable/user_guide/indexing.html#returning-a-view-versus-a-copy\n",
            "  after removing the cwd from sys.path.\n"
          ],
          "name": "stderr"
        },
        {
          "output_type": "stream",
          "text": [
            "Parse progress: |█████████████████████████████████████████████████████████| 100%\n"
          ],
          "name": "stdout"
        },
        {
          "output_type": "stream",
          "text": [
            "/usr/local/lib/python3.6/dist-packages/h2o/estimators/estimator_base.py:200: RuntimeWarning: Dropping bad and constant columns: [^VIX_Volume]\n",
            "  warnings.warn(mesg[\"message\"], RuntimeWarning)\n"
          ],
          "name": "stderr"
        },
        {
          "output_type": "stream",
          "text": [
            "glrm Model Build progress: |██████████████████████████████████████████████| 100%\n",
            "glrm prediction progress: |███████████████████████████████████████████████| 100%\n"
          ],
          "name": "stdout"
        }
      ]
    },
    {
      "cell_type": "code",
      "metadata": {
        "id": "R-3V66GkXc2O"
      },
      "source": [
        "select_cols = ['BDSpread_long', 'BDSpread_short', 'M6M3', 'SPY_DIFF', 'SPY_bl',\r\n",
        "       'SPY_bu', 'TEDRATE', 'Y1M6', '^VIX_DIFF', '^VIX_TR', 'crisis',\r\n",
        "       'leverage', 'risk', 'USD1MTD156N', 'bidder', 'buy bond', 'credit cycle',\r\n",
        "       'debt fund', 'interest expense', 'y_lag1', 'market regime_cs','Credit Spread']"
      ],
      "execution_count": null,
      "outputs": []
    },
    {
      "cell_type": "code",
      "metadata": {
        "colab": {
          "base_uri": "https://localhost:8080/",
          "height": 750
        },
        "id": "hWfdSsTyXdkz",
        "outputId": "0cb2d520-5b1d-42e5-fa93-bd05db515d27"
      },
      "source": [
        "df_glrm_predict = glrm_model(df_GLRM[select_cols],split_date,k=14,loss=\"Huber\")"
      ],
      "execution_count": null,
      "outputs": [
        {
          "output_type": "stream",
          "text": [
            "/usr/local/lib/python3.6/dist-packages/ipykernel_launcher.py:3: SettingWithCopyWarning:\n",
            "\n",
            "\n",
            "A value is trying to be set on a copy of a slice from a DataFrame.\n",
            "Try using .loc[row_indexer,col_indexer] = value instead\n",
            "\n",
            "See the caveats in the documentation: https://pandas.pydata.org/pandas-docs/stable/user_guide/indexing.html#returning-a-view-versus-a-copy\n",
            "\n",
            "/usr/local/lib/python3.6/dist-packages/ipykernel_launcher.py:4: SettingWithCopyWarning:\n",
            "\n",
            "\n",
            "A value is trying to be set on a copy of a slice from a DataFrame.\n",
            "Try using .loc[row_indexer,col_indexer] = value instead\n",
            "\n",
            "See the caveats in the documentation: https://pandas.pydata.org/pandas-docs/stable/user_guide/indexing.html#returning-a-view-versus-a-copy\n",
            "\n"
          ],
          "name": "stderr"
        },
        {
          "output_type": "stream",
          "text": [
            "Parse progress: |█████████████████████████████████████████████████████████| 100%\n",
            "glrm Model Build progress: |██████████████████████████████████████████████| 100%\n",
            "glrm prediction progress: |███████████████████████████████████████████████| 100%\n"
          ],
          "name": "stdout"
        },
        {
          "output_type": "display_data",
          "data": {
            "image/png": "[encoded data removed]",
            "text/plain": [
              "<Figure size 504x504 with 1 Axes>"
            ]
          },
          "metadata": {
            "tags": [],
            "needs_background": "light"
          }
        }
      ]
    },
    {
      "cell_type": "code",
      "metadata": {
        "colab": {
          "base_uri": "https://localhost:8080/",
          "height": 750
        },
        "id": "1YcfKK5bep_H",
        "outputId": "84edf5d6-1806-4751-9d58-52c46691836b"
      },
      "source": [
        "df_glrm_predict2 = glrm_model(df_GLRM[select_cols],split_date,k=14,loss=\"Absolute\")"
      ],
      "execution_count": null,
      "outputs": [
        {
          "output_type": "stream",
          "text": [
            "/usr/local/lib/python3.6/dist-packages/ipykernel_launcher.py:3: SettingWithCopyWarning:\n",
            "\n",
            "\n",
            "A value is trying to be set on a copy of a slice from a DataFrame.\n",
            "Try using .loc[row_indexer,col_indexer] = value instead\n",
            "\n",
            "See the caveats in the documentation: https://pandas.pydata.org/pandas-docs/stable/user_guide/indexing.html#returning-a-view-versus-a-copy\n",
            "\n",
            "/usr/local/lib/python3.6/dist-packages/ipykernel_launcher.py:4: SettingWithCopyWarning:\n",
            "\n",
            "\n",
            "A value is trying to be set on a copy of a slice from a DataFrame.\n",
            "Try using .loc[row_indexer,col_indexer] = value instead\n",
            "\n",
            "See the caveats in the documentation: https://pandas.pydata.org/pandas-docs/stable/user_guide/indexing.html#returning-a-view-versus-a-copy\n",
            "\n"
          ],
          "name": "stderr"
        },
        {
          "output_type": "stream",
          "text": [
            "Parse progress: |█████████████████████████████████████████████████████████| 100%\n",
            "glrm Model Build progress: |██████████████████████████████████████████████| 100%\n",
            "glrm prediction progress: |███████████████████████████████████████████████| 100%\n"
          ],
          "name": "stdout"
        },
        {
          "output_type": "display_data",
          "data": {
            "image/png": "[encoded data removed]",
            "text/plain": [
              "<Figure size 504x504 with 1 Axes>"
            ]
          },
          "metadata": {
            "tags": [],
            "needs_background": "light"
          }
        }
      ]
    },
    {
      "cell_type": "code",
      "metadata": {
        "id": "hAweS8mm3DHM"
      },
      "source": [
        ""
      ],
      "execution_count": null,
      "outputs": []
    },
    {
      "cell_type": "code",
      "metadata": {
        "id": "v3D44NA33DJc"
      },
      "source": [
        ""
      ],
      "execution_count": null,
      "outputs": []
    },
    {
      "cell_type": "code",
      "metadata": {
        "id": "XvRwFDIk3DM6"
      },
      "source": [
        ""
      ],
      "execution_count": null,
      "outputs": []
    }
  ]
}